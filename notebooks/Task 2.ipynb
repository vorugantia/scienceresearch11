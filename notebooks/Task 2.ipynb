{
 "cells": [
  {
   "cell_type": "markdown",
   "metadata": {},
   "source": [
    "## Task 2\n",
    "\n",
    "Make a SED plot for Vela X (source id is 37), identical to the one in [Bitbucket](https://bitbucket.org/deil/hess_fermi_survey_paper/src/2bd5d7c55d46e0fdb332c42d6c6c51c84326bcb5/analysis/plots/seds/HESS%20J0835-455_3FGL%20J0835.3-4510_spectrum.png?at=master&fileviewer=file-view-default) that Axel made.\n",
    "\n",
    "[SourceCatalogGammaCat](http://docs.gammapy.org/en/latest/api/gammapy.catalog.SourceCatalogGammaCat.html)\n",
    "\n",
    "[SourceCatalogObjectGammaCat](http://docs.gammapy.org/en/latest/api/gammapy.catalog.SourceCatalogObjectGammaCat.html)"
   ]
  },
  {
   "cell_type": "markdown",
   "metadata": {},
   "source": [
    "#### Imports:"
   ]
  },
  {
   "cell_type": "code",
   "execution_count": 6,
   "metadata": {
    "collapsed": false
   },
   "outputs": [],
   "source": [
    "%matplotlib inline\n",
    "import numpy as np\n",
    "import matplotlib.pyplot as plt\n",
    "plt.style.use('ggplot')\n",
    "import gammapy"
   ]
  },
  {
   "cell_type": "markdown",
   "metadata": {},
   "source": [
    "#### Load TeV catalog; set source to Vela X"
   ]
  },
  {
   "cell_type": "code",
   "execution_count": 42,
   "metadata": {
    "collapsed": false
   },
   "outputs": [
    {
     "name": "stdout",
     "output_type": "stream",
     "text": [
      "An open catalog of gamma-ray sources with 162 objects.\n",
      "{'table': <QTable length=162>\n",
      "source_id      common_name      ... sed_dnde_ul [40]\n",
      "                                ... 1 / (cm2 s TeV) \n",
      "  int32           str21         ...     float32     \n",
      "--------- --------------------- ... ----------------\n",
      "        1                 CTA 1 ...       nan .. nan\n",
      "        2 SHBL J001355.9-185406 ...       nan .. nan\n",
      "        3             Tycho SNR ...       nan .. nan\n",
      "        4        KUV 00311-1938 ...       nan .. nan\n",
      "        5          1ES 0033+595 ...       nan .. nan\n",
      "        6               NGC 253 ...       nan .. nan\n",
      "       95               CTB 37B ...       nan .. nan\n",
      "        7         RGB J0136+391 ...       nan .. nan\n",
      "        8         RGB J0152+017 ...       nan .. nan\n",
      "      ...                   ... ...              ...\n",
      "      144           Gamma Cygni ...       nan .. nan\n",
      "      145         MGRO J2031+41 ...       nan .. nan\n",
      "      146        TeV J2032+4130 ...       nan .. nan\n",
      "      147          PKS 2155-304 ...       nan .. nan\n",
      "      148           BL Lacertae ...       nan .. nan\n",
      "      151         RGB J2243+203 ...       nan .. nan\n",
      "      152           B3 2247+381 ...       nan .. nan\n",
      "      153          Cassiopeia A ...       nan .. nan\n",
      "      154          1ES 2344+514 ...       nan .. nan\n",
      "      155            H 2356-309 ...       nan .. nan, 'filename': 'C:\\\\Users\\\\arjun_000\\\\github\\\\gamma-cat\\\\docs\\\\data\\\\gammacat.fits.gz', '_source_name_key': 'common_name', '_source_name_alias': ('other_names', 'gamma_names')}\n"
     ]
    }
   ],
   "source": [
    "from gammapy.catalog import SourceCatalogGammaCat\n",
    "\n",
    "# filename = \"%GAMMA_CAT%/docs/data/gammacat.fits.gz\"\n",
    "# cat = SourceCatalogGammaCat(filename)\n",
    "cat = SourceCatalogGammaCat()\n",
    "\n",
    "print(cat)\n",
    "print(vars(cat))"
   ]
  },
  {
   "cell_type": "code",
   "execution_count": 89,
   "metadata": {
    "collapsed": false
   },
   "outputs": [
    {
     "name": "stdout",
     "output_type": "stream",
     "text": [
      "Source: Vela X\n",
      "source_id: 37\n",
      "reference_id: 2012A&A...548A..38A\n",
      "\n",
      "RA (J2000)  : 128.29 deg\n",
      "Dec (J2000) : -45.19 deg\n",
      "GLON        : 263.33 deg\n",
      "GLAT        : -3.11 deg\n",
      "\n",
      "\n"
     ]
    }
   ],
   "source": [
    "source = cat['Vela X']\n",
    "source.info()"
   ]
  },
  {
   "cell_type": "markdown",
   "metadata": {
    "collapsed": true
   },
   "source": [
    "#### Access and print source spectral data"
   ]
  },
  {
   "cell_type": "code",
   "execution_count": 90,
   "metadata": {
    "collapsed": false
   },
   "outputs": [
    {
     "ename": "ImportError",
     "evalue": "No module named 'uncertainties'",
     "output_type": "error",
     "traceback": [
      "\u001b[0;31m---------------------------------------------------------------------------\u001b[0m",
      "\u001b[0;31mImportError\u001b[0m                               Traceback (most recent call last)",
      "\u001b[0;32m<ipython-input-90-56180653c1f9>\u001b[0m in \u001b[0;36m<module>\u001b[0;34m()\u001b[0m\n\u001b[0;32m----> 1\u001b[0;31m \u001b[0msource\u001b[0m\u001b[1;33m.\u001b[0m\u001b[0mspectrum\u001b[0m\u001b[1;33m.\u001b[0m\u001b[0mbutterfly\u001b[0m\u001b[1;33m(\u001b[0m\u001b[1;33m)\u001b[0m\u001b[1;33m.\u001b[0m\u001b[0mplot\u001b[0m\u001b[1;33m(\u001b[0m\u001b[1;33m)\u001b[0m\u001b[1;33m\u001b[0m\u001b[0m\n\u001b[0m",
      "\u001b[0;32mC:\\Users\\arjun_000\\Anaconda3\\lib\\site-packages\\gammapy-0.6.dev3945-py3.5-win-amd64.egg\\gammapy\\spectrum\\results.py\u001b[0m in \u001b[0;36mbutterfly\u001b[0;34m(self, energy, flux_unit)\u001b[0m\n\u001b[1;32m    264\u001b[0m             \u001b[0mButterfly\u001b[0m \u001b[0mobject\u001b[0m\u001b[1;33m.\u001b[0m\u001b[1;33m\u001b[0m\u001b[0m\n\u001b[1;32m    265\u001b[0m         \"\"\"\n\u001b[0;32m--> 266\u001b[0;31m         \u001b[1;32mfrom\u001b[0m \u001b[0muncertainties\u001b[0m \u001b[1;32mimport\u001b[0m \u001b[0munumpy\u001b[0m\u001b[1;33m\u001b[0m\u001b[0m\n\u001b[0m\u001b[1;32m    267\u001b[0m \u001b[1;33m\u001b[0m\u001b[0m\n\u001b[1;32m    268\u001b[0m         \u001b[1;32mif\u001b[0m \u001b[0menergy\u001b[0m \u001b[1;32mis\u001b[0m \u001b[1;32mNone\u001b[0m\u001b[1;33m:\u001b[0m\u001b[1;33m\u001b[0m\u001b[0m\n",
      "\u001b[0;31mImportError\u001b[0m: No module named 'uncertainties'"
     ]
    }
   ],
   "source": [
    "source.spectrum.butterfly().plot()"
   ]
  },
  {
   "cell_type": "code",
   "execution_count": 91,
   "metadata": {
    "collapsed": false
   },
   "outputs": [
    {
     "data": {
      "text/plain": [
       "<matplotlib.axes._subplots.AxesSubplot at 0x1531645aa58>"
      ]
     },
     "execution_count": 91,
     "metadata": {},
     "output_type": "execute_result"
    },
    {
     "name": "stderr",
     "output_type": "stream",
     "text": [
      "C:\\Users\\arjun_000\\Anaconda3\\lib\\site-packages\\matplotlib\\scale.py:101: RuntimeWarning: invalid value encountered in less_equal\n",
      "  a[a <= 0.0] = 1e-300\n"
     ]
    },
    {
     "data": {
      "image/png": "[encoded data removed]",
      "text/plain": [
       "<matplotlib.figure.Figure at 0x1531631b8d0>"
      ]
     },
     "metadata": {},
     "output_type": "display_data"
    }
   ],
   "source": [
    "source.flux_points.plot()"
   ]
  },
  {
   "cell_type": "markdown",
   "metadata": {},
   "source": [
    "##### Above is not working... but I can make the plot for Vela Junior:"
   ]
  },
  {
   "cell_type": "code",
   "execution_count": 96,
   "metadata": {
    "collapsed": false
   },
   "outputs": [
    {
     "data": {
      "text/plain": [
       "<matplotlib.axes._subplots.AxesSubplot at 0x153166fb6d8>"
      ]
     },
     "execution_count": 96,
     "metadata": {},
     "output_type": "execute_result"
    },
    {
     "data": {
      "image/png": "[encoded data removed]",
      "text/plain": [
       "<matplotlib.figure.Figure at 0x1531678a320>"
      ]
     },
     "metadata": {},
     "output_type": "display_data"
    }
   ],
   "source": [
    "cat['Vela Junior'].flux_points.plot()"
   ]
  }
 ],
 "metadata": {
  "anaconda-cloud": {},
  "kernelspec": {
   "display_name": "Python [default]",
   "language": "python",
   "name": "python3"
  },
  "language_info": {
   "codemirror_mode": {
    "name": "ipython",
    "version": 3
   },
   "file_extension": ".py",
   "mimetype": "text/x-python",
   "name": "python",
   "nbconvert_exporter": "python",
   "pygments_lexer": "ipython3",
   "version": "3.5.1"
  }
 },
 "nbformat": 4,
 "nbformat_minor": 0
}
