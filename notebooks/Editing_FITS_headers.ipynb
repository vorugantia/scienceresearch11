{
 "cells": [
  {
   "cell_type": "code",
   "execution_count": 6,
   "metadata": {
    "collapsed": true
   },
   "outputs": [],
   "source": [
    "import warnings\n",
    "warnings.filterwarnings(\"ignore\", category=UserWarning, module='astropy')\n",
    "\n",
    "import astropy\n",
    "from astropy.io import fits"
   ]
  },
  {
   "cell_type": "markdown",
   "metadata": {},
   "source": [
    "### getdata()\n",
    "\n",
    "Reads data from the fits file, with index=1 extension. setting parameter header to True will also read header."
   ]
  },
  {
   "cell_type": "code",
   "execution_count": 18,
   "metadata": {
    "collapsed": false
   },
   "outputs": [
    {
     "data": {
      "text/plain": [
       "('2FHL J0008.1+4709', 2.0437, 47.1642, 115.33936, -15.068757, 0.061114021, 28.639999, 6.2399998, 2.75, 3.96, 3.1900001, 2.1600001, 4.21, 1.23e-11, 6.7100002e-12, 1.21e-12, 6.7099999e-13, 3.3634447e-12, array([ -1.53668061e-12,   2.16094525e-12], dtype=float32), 5.3535361, 4.3494674e-18, array([             nan,   4.75389346e-12], dtype=float32), 0.0, 8.4487136e-18, array([             nan,   7.29101415e-12], dtype=float32), 0.0, 4.0, 68.150002, 0.99000001, 1, 'MG4 J000800+4712', 0.99721974, 0.83482713, 'bll', 2.0999999, 2.5118842e+15, '3FGL J0008.0+4713', '1FHL J0007.7+4709', '')"
      ]
     },
     "execution_count": 18,
     "metadata": {},
     "output_type": "execute_result"
    }
   ],
   "source": [
    "data = fits.getdata(\"../datasets/2fhl/gll_psch_v08.fit.gz\", ext=1, header=False)\n",
    "\n",
    "data[0]"
   ]
  },
  {
   "cell_type": "markdown",
   "metadata": {},
   "source": [
    "### getheader()\n",
    "\n",
    "Reads just the header, and the hdu_number is the index"
   ]
  },
  {
   "cell_type": "code",
   "execution_count": 15,
   "metadata": {
    "collapsed": false
   },
   "outputs": [
    {
     "data": {
      "text/plain": [
       "XTENSION= 'BINTABLE'           / binary table extension                         \n",
       "BITPIX  =                    8 / array data type                                \n",
       "NAXIS   =                    2 / number of array dimensions                     \n",
       "NAXIS1  =                  247 / length of dimension 1                          \n",
       "NAXIS2  =                  360 / length of dimension 2                          \n",
       "PCOUNT  =                    0 / number of group parameters                     \n",
       "GCOUNT  =                    1 / number of groups                               \n",
       "TFIELDS =                   39 / number of table fields                         \n",
       "TTYPE1  = 'Source_Name'                                                         \n",
       "TFORM1  = '18A     '                                                            \n",
       "TTYPE2  = 'RAJ2000 '                                                            \n",
       "TFORM2  = 'E       '                                                            \n",
       "TUNIT2  = 'deg     '                                                            \n",
       "TDISP2  = 'F10.3   '                                                            \n",
       "TTYPE3  = 'DEJ2000 '                                                            "
      ]
     },
     "execution_count": 15,
     "metadata": {},
     "output_type": "execute_result"
    }
   ],
   "source": [
    "hdu_number = 1\n",
    "header = fits.getheader(\"../datasets/2fhl/gll_psch_v08.fit.gz\", hdu_number)\n",
    "\n",
    "header[:15]"
   ]
  },
  {
   "cell_type": "markdown",
   "metadata": {},
   "source": [
    "### Edit header and rewrite fits file"
   ]
  },
  {
   "cell_type": "code",
   "execution_count": 9,
   "metadata": {
    "collapsed": false
   },
   "outputs": [],
   "source": [
    "header['TTYPE2'] = 'RA'\n",
    "header['TTYPE3'] = 'DEC'"
   ]
  },
  {
   "cell_type": "code",
   "execution_count": 10,
   "metadata": {
    "collapsed": false
   },
   "outputs": [],
   "source": [
    "fits.writeto('output_file.fits', data, header, clobber=True)"
   ]
  }
 ],
 "metadata": {
  "kernelspec": {
   "display_name": "Python 3",
   "language": "python",
   "name": "python3"
  },
  "language_info": {
   "codemirror_mode": {
    "name": "ipython",
    "version": 3
   },
   "file_extension": ".py",
   "mimetype": "text/x-python",
   "name": "python",
   "nbconvert_exporter": "python",
   "pygments_lexer": "ipython3",
   "version": "3.5.1"
  }
 },
 "nbformat": 4,
 "nbformat_minor": 0
}
