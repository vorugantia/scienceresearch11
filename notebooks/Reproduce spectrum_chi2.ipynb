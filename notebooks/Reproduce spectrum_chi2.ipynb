{
 "cells": [
  {
   "cell_type": "markdown",
   "metadata": {},
   "source": [
    "# Reproduce chi2 spectrum fit\n",
    "\n",
    "I tried to reproduce the spectral fit I made with Christoph a few weeks ago using a new source."
   ]
  },
  {
   "cell_type": "markdown",
   "metadata": {},
   "source": [
    "## Load Data"
   ]
  },
  {
   "cell_type": "code",
   "execution_count": 1,
   "metadata": {
    "collapsed": true
   },
   "outputs": [],
   "source": [
    "%matplotlib inline\n",
    "import numpy as np\n",
    "import pandas as pd\n",
    "import matplotlib.pyplot as plt\n",
    "plt.style.use('ggplot')\n",
    "from pprint import pprint\n",
    "import astropy.units as u"
   ]
  },
  {
   "cell_type": "code",
   "execution_count": 2,
   "metadata": {
    "collapsed": false
   },
   "outputs": [
    {
     "name": "stdout",
     "output_type": "stream",
     "text": [
      "<Table length=5>\r\n",
      "   name     dtype        unit      n_bad\r\n",
      "---------- ------- --------------- -----\r\n",
      "     e_ref float64             MeV     0\r\n",
      "     e_min float64             MeV     0\r\n",
      "     e_max float64             MeV     0\r\n",
      "      flux float32     1 / (cm2 s)     0\r\n",
      " flux_errn float32     1 / (cm2 s)     4\r\n",
      " flux_errp float32     1 / (cm2 s)     4\r\n",
      "     eflux float32   erg / (cm2 s)     0\r\n",
      "eflux_errn float32   erg / (cm2 s)     4\r\n",
      "eflux_errp float32   erg / (cm2 s)     4\r\n",
      "      dnde float64 1 / (cm2 MeV s)     0\r\n",
      "  dnde_err float64 1 / (cm2 MeV s)     4\r\n"
     ]
    }
   ],
   "source": [
    "from gammapy.catalog import SourceCatalog3FGL, SourceCatalogObject3FGL\n",
    "\n",
    "cat = SourceCatalog3FGL()\n",
    "\n",
    "# This time I will pick source MSH 15-52 because it should make a nice plot\n",
    "source = cat['MSH 15-52'] # a.k.a. 3FGL J1514.0-5915e\n",
    "data = source.flux_points.table\n",
    "\n",
    "# Flux units\n",
    "data['dnde'] = data['dnde'].to('cm-2 s-1 MeV-1')\n",
    "\n",
    "# Create flux error\n",
    "dnde_err = data['dnde'] * (data['flux_errn'] / data['flux'])\n",
    "data['dnde_err'] = dnde_err.to(data['dnde'].unit)\n",
    "\n",
    "data.info()"
   ]
  },
  {
   "cell_type": "code",
   "execution_count": 3,
   "metadata": {
    "collapsed": false
   },
   "outputs": [
    {
     "data": {
      "text/html": [
       "&lt;Table length=5&gt;\n",
       "<table id=\"table1532787806048\" class=\"table-striped table-bordered table-condensed\">\n",
       "<thead><tr><th>e_ref</th><th>dnde</th><th>dnde_err</th></tr></thead>\n",
       "<thead><tr><th>MeV</th><th>1 / (cm2 MeV s)</th><th>1 / (cm2 MeV s)</th></tr></thead>\n",
       "<thead><tr><th>float64</th><th>float64</th><th>float64</th></tr></thead>\n",
       "<tr><td>173.205080757</td><td>2.83701868472e-11</td><td>inf</td></tr>\n",
       "<tr><td>547.722557505</td><td>4.65581755264e-12</td><td>inf</td></tr>\n",
       "<tr><td>1732.05080757</td><td>7.61241691909e-13</td><td>inf</td></tr>\n",
       "<tr><td>5477.22557505</td><td>1.24927000409e-13</td><td>inf</td></tr>\n",
       "<tr><td>31622.7766017</td><td>6.5243766732e-15</td><td>1.11852487999e-15</td></tr>\n",
       "</table>"
      ],
      "text/plain": [
       "<Table length=5>\n",
       "    e_ref            dnde            dnde_err    \n",
       "     MeV       1 / (cm2 MeV s)   1 / (cm2 MeV s) \n",
       "   float64         float64           float64     \n",
       "------------- ----------------- -----------------\n",
       "173.205080757 2.83701868472e-11               inf\n",
       "547.722557505 4.65581755264e-12               inf\n",
       "1732.05080757 7.61241691909e-13               inf\n",
       "5477.22557505 1.24927000409e-13               inf\n",
       "31622.7766017  6.5243766732e-15 1.11852487999e-15"
      ]
     },
     "execution_count": 3,
     "metadata": {},
     "output_type": "execute_result"
    }
   ],
   "source": [
    "cols = ['e_ref', 'dnde', 'dnde_err']\n",
    "data[cols]"
   ]
  },
  {
   "cell_type": "code",
   "execution_count": 4,
   "metadata": {
    "collapsed": false
   },
   "outputs": [
    {
     "name": "stdout",
     "output_type": "stream",
     "text": [
      "{'amplitude': <Quantity 1.7884677029275653e-12 1 / (cm2 MeV s)>,\n",
      " 'index': <Quantity 1.5713396072387695>,\n",
      " 'reference': <Quantity 1000.0 MeV>}\n",
      "[    100.  100000.] MeV\n"
     ]
    }
   ],
   "source": [
    "pprint(source.spectral_model.parameters)\n",
    "print(source.energy_range)"
   ]
  },
  {
   "cell_type": "markdown",
   "metadata": {},
   "source": [
    "## Plot data and model"
   ]
  },
  {
   "cell_type": "code",
   "execution_count": 12,
   "metadata": {
    "collapsed": false
   },
   "outputs": [
    {
     "data": {
      "text/plain": [
       "<Container object of 3 artists>"
      ]
     },
     "execution_count": 12,
     "metadata": {},
     "output_type": "execute_result"
    },
    {
     "data": {
      "image/png": "[encoded data removed]",
      "text/plain": [
       "<matplotlib.figure.Figure at 0x164e80bf048>"
      ]
     },
     "metadata": {},
     "output_type": "display_data"
    }
   ],
   "source": [
    "# Defining units\n",
    "opts = dict(energy_unit='MeV', flux_unit='cm-2 s-1 MeV-1')\n",
    "\n",
    "source.spectral_model.plot(source.energy_range, **opts)\n",
    "# ^What's the red curve on the plot? Isn't that the model?\n",
    "\n",
    "p = source.spectral_model.parameters\n",
    "e_ref = p['reference']\n",
    "amp = p['amplitude']\n",
    "idx = p['index']\n",
    "\n",
    "# Plot reference point\n",
    "plt.plot(e_ref.value, amp.value, '*')\n",
    "\n",
    "# Plot all data from source's FluxPoints\n",
    "plt.errorbar(x=data['e_ref'],\n",
    "             y = data['dnde'],\n",
    "             yerr = data['dnde_err'],\n",
    "             fmt='.'\n",
    "            )\n",
    "\n",
    "# On Axel's plot (https://github.com/gammasky/fermi-hgps-paper/blob/master/analysis/plots/seds/HESS%20J1514-591_3FGL%20J1514.0-5915e_sed.png),\n",
    "# the slope for 3FGL data is positive. Why is it negative here?"
   ]
  },
  {
   "cell_type": "markdown",
   "metadata": {},
   "source": [
    " ## Likelihood function - chi2\n",
    " \n",
    " We will do a PL model and not an ECPL model this time, because \"p\" has no attribute for energy cutoff."
   ]
  },
  {
   "cell_type": "code",
   "execution_count": 6,
   "metadata": {
    "collapsed": false
   },
   "outputs": [
    {
     "data": {
      "text/latex": [
       "$1.7884677 \\times 10^{-12} \\; \\mathrm{\\frac{1}{MeV\\,s\\,cm^{2}}}$"
      ],
      "text/plain": [
       "<Quantity 1.7884677029275653e-12 1 / (cm2 MeV s)>"
      ]
     },
     "execution_count": 6,
     "metadata": {},
     "output_type": "execute_result"
    }
   ],
   "source": [
    "source.spectral_model(e_ref)"
   ]
  },
  {
   "cell_type": "code",
   "execution_count": 7,
   "metadata": {
    "collapsed": true
   },
   "outputs": [],
   "source": [
    "# The same model as defined in Gammapy\n",
    "def dnde_model_pl(energy, amplitude, index, reference):\n",
    "    return amplitude * (energy / reference) ** (-index)\n",
    "\n",
    "# How would I use an ECPL model if I wanted to, if \"source.spectral_model\"\n",
    "# has no perameter for e_cut?\n",
    "\n",
    "# Defining chi2 function for this source\n",
    "def chi2(amplitude, index, energy_cut):\n",
    "    \n",
    "    dnde_model = dnde_model_pl(\n",
    "        energy=data['e_ref'],\n",
    "        amplitude=amplitude,\n",
    "        index=index,\n",
    "        reference=1000.0 # <-- this is e_ref minus the units\n",
    "    ) \n",
    "    \n",
    "    chi = (data['dnde'] - dnde_model) / data['dnde_err']\n",
    "    return np.sum(chi ** 2)"
   ]
  },
  {
   "cell_type": "code",
   "execution_count": 8,
   "metadata": {
    "collapsed": false
   },
   "outputs": [
    {
     "data": {
      "text/latex": [
       "$1.7884677 \\times 10^{-12} \\; \\mathrm{\\frac{1}{MeV\\,s\\,cm^{2}}}$"
      ],
      "text/plain": [
       "<Quantity 1.7884677029275653e-12 1 / (cm2 MeV s)>"
      ]
     },
     "execution_count": 8,
     "metadata": {},
     "output_type": "execute_result"
    }
   ],
   "source": [
    "# Test one example evaluation - we want the same result as source.spectral_model\n",
    "dnde_model_pl(\n",
    "    energy=e_ref,\n",
    "    amplitude=amp,\n",
    "    index=idx,\n",
    "    reference=e_ref\n",
    ")"
   ]
  },
  {
   "cell_type": "markdown",
   "metadata": {},
   "source": [
    "## ML fit with Minuit\n",
    "\n",
    "Maximum likelihood (ML) analysis."
   ]
  },
  {
   "cell_type": "code",
   "execution_count": 10,
   "metadata": {
    "collapsed": false
   },
   "outputs": [
    {
     "name": "stderr",
     "output_type": "stream",
     "text": [
      "C:\\Users\\arjun_000\\Anaconda3\\lib\\site-packages\\ipykernel\\__main__.py:7: InitialParamWarning: errordef is not given. Default to 1.\n",
      "C:\\Users\\arjun_000\\Anaconda3\\lib\\site-packages\\ipykernel\\__main__.py:7: InitialParamWarning: Parameter amplitude is floating but does not have initial step size. Assume 1.\n",
      "C:\\Users\\arjun_000\\Anaconda3\\lib\\site-packages\\ipykernel\\__main__.py:7: InitialParamWarning: Parameter index is floating but does not have initial step size. Assume 1.\n",
      "C:\\Users\\arjun_000\\Anaconda3\\lib\\site-packages\\ipykernel\\__main__.py:7: InitialParamWarning: Parameter energy_cut does not have initial value. Assume 0.\n",
      "C:\\Users\\arjun_000\\Anaconda3\\lib\\site-packages\\ipykernel\\__main__.py:7: InitialParamWarning: Parameter energy_cut is floating but does not have initial step size. Assume 1.\n"
     ]
    },
    {
     "data": {
      "text/html": [
       "<hr>"
      ]
     },
     "metadata": {},
     "output_type": "display_data"
    },
    {
     "data": {
      "text/html": [
       "\n",
       "        <table>\n",
       "            <tr>\n",
       "                <td title=\"Minimum value of function\">FCN = 3.784860260022252e-09</td>\n",
       "                <td title=\"Total number of call to FCN so far\">TOTAL NCALL = 50</td>\n",
       "                <td title=\"Number of call in last migrad\">NCALLS = 50</td>\n",
       "            </tr>\n",
       "            <tr>\n",
       "                <td title=\"Estimated distance to minimum\">EDM = 3.141305094396968e-09</td>\n",
       "                <td title=\"Maximum EDM definition of convergence\">GOAL EDM = 1e-05</td>\n",
       "                <td title=\"Error def. Amount of increase in FCN to be defined as 1 standard deviation\">\n",
       "                UP = 1.0</td>\n",
       "            </tr>\n",
       "        </table>\n",
       "        \n",
       "        <table>\n",
       "            <tr>\n",
       "                <td align=\"center\" title=\"Validity of the migrad call\">Valid</td>\n",
       "                <td align=\"center\" title=\"Validity of parameters\">Valid Param</td>\n",
       "                <td align=\"center\" title=\"Is Covariance matrix accurate?\">Accurate Covar</td>\n",
       "                <td align=\"center\" title=\"Positive definiteness of covariance matrix\">PosDef</td>\n",
       "                <td align=\"center\" title=\"Was covariance matrix made posdef by adding diagonal element\">Made PosDef</td>\n",
       "            </tr>\n",
       "            <tr>\n",
       "                <td align=\"center\" style=\"background-color:#FF7878\">False</td>\n",
       "                <td align=\"center\" style=\"background-color:#92CCA6\">True</td>\n",
       "                <td align=\"center\" style=\"background-color:#FF7878\">False</td>\n",
       "                <td align=\"center\" style=\"background-color:#FF7878\">False</td>\n",
       "                <td align=\"center\" style=\"background-color:#92CCA6\">False</td>\n",
       "            </tr>\n",
       "            <tr>\n",
       "                <td align=\"center\" title=\"Was last hesse call fail?\">Hesse Fail</td>\n",
       "                <td align=\"center\" title=\"Validity of covariance\">HasCov</td>\n",
       "                <td align=\"center\" title=\"Is EDM above goal EDM?\">Above EDM</td>\n",
       "                <td align=\"center\"></td>\n",
       "                <td align=\"center\" title=\"Did last migrad call reach max call limit?\">Reach calllim</td>\n",
       "            </tr>\n",
       "            <tr>\n",
       "                <td align=\"center\" style=\"background-color:#FF7878\">True</td>\n",
       "                <td align=\"center\" style=\"background-color:#92CCA6\">True</td>\n",
       "                <td align=\"center\" style=\"background-color:#92CCA6\">False</td>\n",
       "                <td align=\"center\"></td>\n",
       "                <td align=\"center\" style=\"background-color:#92CCA6\">False</td>\n",
       "            </tr>\n",
       "        </table>\n",
       "        "
      ]
     },
     "metadata": {},
     "output_type": "display_data"
    },
    {
     "data": {
      "text/html": [
       "\n",
       "        <table>\n",
       "            <tr>\n",
       "                <td><a href=\"#\" onclick=\"$('#ytrfMcOfpK').toggle()\">+</a></td>\n",
       "                <td title=\"Variable name\">Name</td>\n",
       "                <td title=\"Value of parameter\">Value</td>\n",
       "                <td title=\"Parabolic error\">Parab Error</td>\n",
       "                <td title=\"Minos lower error\">Minos Error-</td>\n",
       "                <td title=\"Minos upper error\">Minos Error+</td>\n",
       "                <td title=\"Lower limit of the parameter\">Limit-</td>\n",
       "                <td title=\"Upper limit of the parameter\">Limit+</td>\n",
       "                <td title=\"Is the parameter fixed in the fit\">FIXED</td>\n",
       "            </tr>\n",
       "        \n",
       "            <tr>\n",
       "                <td>1</td>\n",
       "                <td>amplitude</td>\n",
       "                <td>1.61406e-12</td>\n",
       "                <td>1.41421</td>\n",
       "                <td>0</td>\n",
       "                <td>0</td>\n",
       "                <td></td>\n",
       "                <td></td>\n",
       "                <td></td>\n",
       "            </tr>\n",
       "            \n",
       "            <tr>\n",
       "                <td>2</td>\n",
       "                <td>index</td>\n",
       "                <td>1.59558</td>\n",
       "                <td>0.0496355</td>\n",
       "                <td>0</td>\n",
       "                <td>0</td>\n",
       "                <td></td>\n",
       "                <td></td>\n",
       "                <td></td>\n",
       "            </tr>\n",
       "            \n",
       "            <tr>\n",
       "                <td>3</td>\n",
       "                <td>energy_cut</td>\n",
       "                <td>0</td>\n",
       "                <td>1.41421</td>\n",
       "                <td>0</td>\n",
       "                <td>0</td>\n",
       "                <td></td>\n",
       "                <td></td>\n",
       "                <td></td>\n",
       "            </tr>\n",
       "            \n",
       "            </table>\n",
       "        \n",
       "            <pre id=\"ytrfMcOfpK\" style=\"display:none;\">\n",
       "            <textarea rows=\"12\" cols=\"50\" onclick=\"this.select()\" readonly>\\begin{tabular}{|c|r|r|r|r|r|r|r|c|}\n",
       "\\hline\n",
       " & Name & Value & Para Error & Error+ & Error- & Limit+ & Limit- & FIXED\\\\\n",
       "\\hline\n",
       "1 & amplitude & 1.614e-12 & 1.414e+00 &  &  &  &  & \\\\\n",
       "\\hline\n",
       "2 & index & 1.596e+00 & 4.964e-02 &  &  &  &  & \\\\\n",
       "\\hline\n",
       "3 & $energy_{cut}$ & 0.000e+00 & 1.414e+00 &  &  &  &  & \\\\\n",
       "\\hline\n",
       "\\end{tabular}</textarea>\n",
       "            </pre>\n",
       "            "
      ]
     },
     "metadata": {},
     "output_type": "display_data"
    },
    {
     "data": {
      "text/html": [
       "<hr>"
      ]
     },
     "metadata": {},
     "output_type": "display_data"
    },
    {
     "data": {
      "text/plain": [
       "({'fval': 3.784860260022252e-09, 'has_valid_parameters': True, 'up': 1.0, 'has_reached_call_limit': False, 'has_made_posdef_covar': False, 'has_accurate_covar': False, 'has_posdef_covar': False, 'hesse_failed': True, 'nfcn': 50, 'is_above_max_edm': False, 'has_covariance': True, 'is_valid': False, 'edm': 3.141305094396968e-09},\n",
       " [{'has_upper_limit': False, 'upper_limit': 0.0, 'number': 0, 'is_const': False, 'value': 1.6140580181445098e-12, 'lower_limit': 0.0, 'is_fixed': False, 'has_lower_limit': False, 'name': 'amplitude', 'has_limits': False, 'error': 1.4142135623730951},\n",
       "  {'has_upper_limit': False, 'upper_limit': 0.0, 'number': 1, 'is_const': False, 'value': 1.5955836898610853, 'lower_limit': 0.0, 'is_fixed': False, 'has_lower_limit': False, 'name': 'index', 'has_limits': False, 'error': 0.04963554594773415},\n",
       "  {'has_upper_limit': False, 'upper_limit': 0.0, 'number': 2, 'is_const': False, 'value': 0.0, 'lower_limit': 0.0, 'is_fixed': False, 'has_lower_limit': False, 'name': 'energy_cut', 'has_limits': False, 'error': 1.4142135623730951}])"
      ]
     },
     "execution_count": 10,
     "metadata": {},
     "output_type": "execute_result"
    }
   ],
   "source": [
    "from iminuit import Minuit\n",
    "\n",
    "pars = dict(amplitude=1.7884677029275653e-12, #amp value\n",
    "            index=1.5713396072387695          #idx value\n",
    "            )\n",
    "\n",
    "m = Minuit(chi2, **pars)\n",
    "m.migrad()\n",
    "\n",
    "# Why did this fail below?"
   ]
  },
  {
   "cell_type": "code",
   "execution_count": null,
   "metadata": {
    "collapsed": true
   },
   "outputs": [],
   "source": []
  }
 ],
 "metadata": {
  "anaconda-cloud": {},
  "kernelspec": {
   "display_name": "Python [default]",
   "language": "python",
   "name": "python3"
  },
  "language_info": {
   "codemirror_mode": {
    "name": "ipython",
    "version": 3
   },
   "file_extension": ".py",
   "mimetype": "text/x-python",
   "name": "python",
   "nbconvert_exporter": "python",
   "pygments_lexer": "ipython3",
   "version": "3.5.1"
  }
 },
 "nbformat": 4,
 "nbformat_minor": 2
}
