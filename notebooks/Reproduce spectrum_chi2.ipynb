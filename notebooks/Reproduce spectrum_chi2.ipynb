{
 "cells": [
  {
   "cell_type": "markdown",
   "metadata": {},
   "source": [
    "# Reproduce chi2 spectrum fit\n",
    "\n",
    "I tried to reproduce the spectral fit I made with Christoph a few weeks ago using a new source."
   ]
  },
  {
   "cell_type": "markdown",
   "metadata": {},
   "source": [
    "## Load Data"
   ]
  },
  {
   "cell_type": "code",
   "execution_count": 1,
   "metadata": {
    "collapsed": true
   },
   "outputs": [],
   "source": [
    "%matplotlib inline\n",
    "import numpy as np\n",
    "import pandas as pd\n",
    "import matplotlib.pyplot as plt\n",
    "plt.style.use('ggplot')\n",
    "from pprint import pprint\n",
    "import astropy.units as u\n",
    "from astropy.units import Quantity"
   ]
  },
  {
   "cell_type": "code",
   "execution_count": 2,
   "metadata": {
    "collapsed": false
   },
   "outputs": [
    {
     "name": "stdout",
     "output_type": "stream",
     "text": [
      "<Table length=5>\r\n",
      "   name     dtype        unit     \r\n",
      "---------- ------- ---------------\r\n",
      "     e_ref float64             MeV\r\n",
      "     e_min float64             MeV\r\n",
      "     e_max float64             MeV\r\n",
      "      flux float32     1 / (cm2 s)\r\n",
      " flux_errn float32     1 / (cm2 s)\r\n",
      " flux_errp float32     1 / (cm2 s)\r\n",
      "     eflux float32   erg / (cm2 s)\r\n",
      "eflux_errn float32   erg / (cm2 s)\r\n",
      "eflux_errp float32   erg / (cm2 s)\r\n",
      "      dnde float64 1 / (cm2 MeV s)\r\n",
      "  dnde_err float64 1 / (cm2 MeV s)\r\n"
     ]
    }
   ],
   "source": [
    "from gammapy.catalog import SourceCatalog3FGL, SourceCatalogObject3FGL\n",
    "\n",
    "cat = SourceCatalog3FGL()\n",
    "\n",
    "# This time I will pick \"Dragonfly\" as my source\n",
    "source = cat['3FGL J2021.1+3651'] # a.k.a. PSR J2021+3651\n",
    "data = source.flux_points.table\n",
    "\n",
    "# Flux units\n",
    "data['dnde'] = data['dnde'].to('cm-2 s-1 MeV-1')\n",
    "\n",
    "# Create flux error\n",
    "dnde_err = data['dnde'] * (data['flux_errn'] / data['flux'])\n",
    "data['dnde_err'] = dnde_err.to(data['dnde'].unit)\n",
    "\n",
    "data.info()"
   ]
  },
  {
   "cell_type": "code",
   "execution_count": 3,
   "metadata": {
    "collapsed": false
   },
   "outputs": [
    {
     "data": {
      "text/html": [
       "&lt;Table length=5&gt;\n",
       "<table id=\"table1303572856000\" class=\"table-striped table-bordered table-condensed\">\n",
       "<thead><tr><th>e_ref</th><th>dnde</th><th>dnde_err</th></tr></thead>\n",
       "<thead><tr><th>MeV</th><th>1 / (cm2 MeV s)</th><th>1 / (cm2 MeV s)</th></tr></thead>\n",
       "<thead><tr><th>float64</th><th>float64</th><th>float64</th></tr></thead>\n",
       "<tr><td>173.205080757</td><td>2.04104877602e-09</td><td>1.00411133777e-10</td></tr>\n",
       "<tr><td>547.722557505</td><td>2.89106474074e-10</td><td>4.8425992587e-12</td></tr>\n",
       "<tr><td>1732.05080757</td><td>2.83786952947e-11</td><td>4.31495275368e-13</td></tr>\n",
       "<tr><td>5477.22557505</td><td>1.21403330155e-12</td><td>3.57664181501e-14</td></tr>\n",
       "<tr><td>31622.7766017</td><td>2.56073757204e-15</td><td>3.5137554485e-16</td></tr>\n",
       "</table>"
      ],
      "text/plain": [
       "<Table length=5>\n",
       "    e_ref            dnde            dnde_err    \n",
       "     MeV       1 / (cm2 MeV s)   1 / (cm2 MeV s) \n",
       "   float64         float64           float64     \n",
       "------------- ----------------- -----------------\n",
       "173.205080757 2.04104877602e-09 1.00411133777e-10\n",
       "547.722557505 2.89106474074e-10  4.8425992587e-12\n",
       "1732.05080757 2.83786952947e-11 4.31495275368e-13\n",
       "5477.22557505 1.21403330155e-12 3.57664181501e-14\n",
       "31622.7766017 2.56073757204e-15  3.5137554485e-16"
      ]
     },
     "execution_count": 3,
     "metadata": {},
     "output_type": "execute_result"
    }
   ],
   "source": [
    "cols = ['e_ref', 'dnde', 'dnde_err']\n",
    "data[cols]\n",
    "\n",
    "# These will be the same for any source"
   ]
  },
  {
   "cell_type": "code",
   "execution_count": 4,
   "metadata": {
    "collapsed": false
   },
   "outputs": [
    {
     "name": "stdout",
     "output_type": "stream",
     "text": [
      "{'amplitude': <Quantity 1.2799539206298505e-10 1 / (cm2 MeV s)>,\n",
      " 'ecut': <Quantity 3042.514404296875 MeV>,\n",
      " 'index': <Quantity 1.6358338594436646>,\n",
      " 'reference': <Quantity 838.4884033203125 MeV>}\n",
      "[    100.  100000.] MeV\n"
     ]
    }
   ],
   "source": [
    "pprint(source.spectral_model.parameters)\n",
    "print(source.energy_range)"
   ]
  },
  {
   "cell_type": "markdown",
   "metadata": {},
   "source": [
    "## Plot data and model"
   ]
  },
  {
   "cell_type": "code",
   "execution_count": 14,
   "metadata": {
    "collapsed": false
   },
   "outputs": [
    {
     "data": {
      "text/plain": [
       "<Container object of 3 artists>"
      ]
     },
     "execution_count": 14,
     "metadata": {},
     "output_type": "execute_result"
    },
    {
     "data": {
      "image/png": "[encoded data removed]",
      "text/plain": [
       "<matplotlib.figure.Figure at 0x12f85d03e10>"
      ]
     },
     "metadata": {},
     "output_type": "display_data"
    }
   ],
   "source": [
    "# Defining units\n",
    "opts = dict(energy_unit='MeV', flux_unit='cm-2 s-1 MeV-1')\n",
    "\n",
    "source.spectral_model.plot(source.energy_range, **opts)\n",
    "# Spectral model used (PL, ECPL) based on the source's SpectrumType parameter\n",
    "\n",
    "p = source.spectral_model.parameters\n",
    "e_ref = p['reference']\n",
    "amp = p['amplitude']\n",
    "idx = p['index']\n",
    "ecut = p['ecut']\n",
    "\n",
    "\n",
    "# Plot reference point\n",
    "plt.plot(e_ref.value, amp.value, '*')\n",
    "\n",
    "# Plot all data from source's FluxPoints\n",
    "plt.errorbar(x=data['e_ref'],\n",
    "             y = data['dnde'],\n",
    "             yerr = data['dnde_err'],\n",
    "             fmt='.'\n",
    "            )"
   ]
  },
  {
   "cell_type": "markdown",
   "metadata": {},
   "source": [
    " ## Likelihood function - chi2\n",
    "\n",
    "The chi2 function will determine the closeness of fit of our selected model (ECPL) to actual data."
   ]
  },
  {
   "cell_type": "code",
   "execution_count": 6,
   "metadata": {
    "collapsed": false
   },
   "outputs": [
    {
     "data": {
      "text/latex": [
       "$1.2799539 \\times 10^{-10} \\; \\mathrm{\\frac{1}{MeV\\,s\\,cm^{2}}}$"
      ],
      "text/plain": [
       "<Quantity 1.2799539206298505e-10 1 / (cm2 MeV s)>"
      ]
     },
     "execution_count": 6,
     "metadata": {},
     "output_type": "execute_result"
    }
   ],
   "source": [
    "source.spectral_model(e_ref)"
   ]
  },
  {
   "cell_type": "code",
   "execution_count": 7,
   "metadata": {
    "collapsed": true
   },
   "outputs": [],
   "source": [
    "# Defining an ECPL model (same as Gammapy's)\n",
    "def dnde_model_ecpl(energy, amplitude, index, energy_cut, reference):\n",
    "    return amplitude * (energy / reference) ** (-index) * np.exp((reference -energy) / energy_cut)"
   ]
  },
  {
   "cell_type": "code",
   "execution_count": 8,
   "metadata": {
    "collapsed": true
   },
   "outputs": [],
   "source": [
    "# Defining chi2 function for this source\n",
    "def chi2(amplitude, index, energy_cut):\n",
    "    \n",
    "    dnde_model = dnde_model_ecpl(\n",
    "        energy=data['e_ref'],\n",
    "        amplitude=amplitude,\n",
    "        index=index,\n",
    "        energy_cut=energy_cut,\n",
    "        reference=838.4884033203125 # <-- this is e_ref minus the units\n",
    "    ) \n",
    "\n",
    "    chi = (data['dnde'] - dnde_model) / data['dnde_err']\n",
    "    return np.sum(chi ** 2)"
   ]
  },
  {
   "cell_type": "code",
   "execution_count": 27,
   "metadata": {
    "collapsed": false
   },
   "outputs": [
    {
     "data": {
      "text/latex": [
       "$1.2799539 \\times 10^{-10} \\; \\mathrm{\\frac{1}{MeV\\,s\\,cm^{2}}}$"
      ],
      "text/plain": [
       "<Quantity 1.2799539206298505e-10 1 / (cm2 MeV s)>"
      ]
     },
     "execution_count": 27,
     "metadata": {},
     "output_type": "execute_result"
    }
   ],
   "source": [
    "# Test one example evaluation - we want the same result as source.spectral_model\n",
    "dnde_model_ecpl(\n",
    "    energy=e_ref,\n",
    "    amplitude=amp,\n",
    "    index=idx,\n",
    "    energy_cut = ecut,\n",
    "    reference=e_ref\n",
    ")"
   ]
  },
  {
   "cell_type": "markdown",
   "metadata": {},
   "source": [
    "## ML fit with Minuit\n",
    "\n",
    "Maximum likelihood (ML) analysis."
   ]
  },
  {
   "cell_type": "code",
   "execution_count": 29,
   "metadata": {
    "collapsed": false
   },
   "outputs": [
    {
     "name": "stderr",
     "output_type": "stream",
     "text": [
      "C:\\Users\\arjun_000\\Anaconda3\\lib\\site-packages\\ipykernel\\__main__.py:8: InitialParamWarning: errordef is not given. Default to 1.\n",
      "C:\\Users\\arjun_000\\Anaconda3\\lib\\site-packages\\ipykernel\\__main__.py:8: InitialParamWarning: Parameter amplitude is floating but does not have initial step size. Assume 1.\n",
      "C:\\Users\\arjun_000\\Anaconda3\\lib\\site-packages\\ipykernel\\__main__.py:8: InitialParamWarning: Parameter index is floating but does not have initial step size. Assume 1.\n",
      "C:\\Users\\arjun_000\\Anaconda3\\lib\\site-packages\\ipykernel\\__main__.py:8: InitialParamWarning: Parameter energy_cut is floating but does not have initial step size. Assume 1.\n"
     ]
    },
    {
     "data": {
      "text/html": [
       "\n",
       "        <table>\n",
       "            <tr>\n",
       "                <td><a href=\"#\" onclick=\"$('#pcuebqpHOg').toggle()\">+</a></td>\n",
       "                <td title=\"Variable name\">Name</td>\n",
       "                <td title=\"Value of parameter\">Value</td>\n",
       "                <td title=\"Parabolic error\">Parab Error</td>\n",
       "                <td title=\"Minos lower error\">Minos Error-</td>\n",
       "                <td title=\"Minos upper error\">Minos Error+</td>\n",
       "                <td title=\"Lower limit of the parameter\">Limit-</td>\n",
       "                <td title=\"Upper limit of the parameter\">Limit+</td>\n",
       "                <td title=\"Is the parameter fixed in the fit\">FIXED</td>\n",
       "            </tr>\n",
       "        \n",
       "            <tr>\n",
       "                <td>1</td>\n",
       "                <td>amplitude</td>\n",
       "                <td>1.27995e-10</td>\n",
       "                <td>1</td>\n",
       "                <td>0</td>\n",
       "                <td>0</td>\n",
       "                <td></td>\n",
       "                <td></td>\n",
       "                <td></td>\n",
       "            </tr>\n",
       "            \n",
       "            <tr>\n",
       "                <td>2</td>\n",
       "                <td>index</td>\n",
       "                <td>1.63583</td>\n",
       "                <td>1</td>\n",
       "                <td>0</td>\n",
       "                <td>0</td>\n",
       "                <td></td>\n",
       "                <td></td>\n",
       "                <td></td>\n",
       "            </tr>\n",
       "            \n",
       "            <tr>\n",
       "                <td>3</td>\n",
       "                <td>energy_cut</td>\n",
       "                <td>3042.51</td>\n",
       "                <td>1</td>\n",
       "                <td>0</td>\n",
       "                <td>0</td>\n",
       "                <td></td>\n",
       "                <td></td>\n",
       "                <td></td>\n",
       "            </tr>\n",
       "            \n",
       "            </table>\n",
       "        \n",
       "            <pre id=\"pcuebqpHOg\" style=\"display:none;\">\n",
       "            <textarea rows=\"12\" cols=\"50\" onclick=\"this.select()\" readonly>\\begin{tabular}{|c|r|r|r|r|r|r|r|c|}\n",
       "\\hline\n",
       " & Name & Value & Para Error & Error+ & Error- & Limit+ & Limit- & FIXED\\\\\n",
       "\\hline\n",
       "1 & amplitude & 1.280e-10 & 1.000e+00 &  &  &  &  & \\\\\n",
       "\\hline\n",
       "2 & index & 1.636e+00 & 1.000e+00 &  &  &  &  & \\\\\n",
       "\\hline\n",
       "3 & $energy_{cut}$ & 3.043e+03 & 1.000e+00 &  &  &  &  & \\\\\n",
       "\\hline\n",
       "\\end{tabular}</textarea>\n",
       "            </pre>\n",
       "            "
      ]
     },
     "metadata": {},
     "output_type": "display_data"
    },
    {
     "name": "stdout",
     "output_type": "stream",
     "text": [
      "^ Initial parameters\n"
     ]
    },
    {
     "data": {
      "text/html": [
       "<hr>"
      ]
     },
     "metadata": {},
     "output_type": "display_data"
    },
    {
     "data": {
      "text/html": [
       "\n",
       "        <table>\n",
       "            <tr>\n",
       "                <td title=\"Minimum value of function\">FCN = 55.11415067891237</td>\n",
       "                <td title=\"Total number of call to FCN so far\">TOTAL NCALL = 71</td>\n",
       "                <td title=\"Number of call in last migrad\">NCALLS = 71</td>\n",
       "            </tr>\n",
       "            <tr>\n",
       "                <td title=\"Estimated distance to minimum\">EDM = 4.4493011180702984e-07</td>\n",
       "                <td title=\"Maximum EDM definition of convergence\">GOAL EDM = 1e-05</td>\n",
       "                <td title=\"Error def. Amount of increase in FCN to be defined as 1 standard deviation\">\n",
       "                UP = 1.0</td>\n",
       "            </tr>\n",
       "        </table>\n",
       "        \n",
       "        <table>\n",
       "            <tr>\n",
       "                <td align=\"center\" title=\"Validity of the migrad call\">Valid</td>\n",
       "                <td align=\"center\" title=\"Validity of parameters\">Valid Param</td>\n",
       "                <td align=\"center\" title=\"Is Covariance matrix accurate?\">Accurate Covar</td>\n",
       "                <td align=\"center\" title=\"Positive definiteness of covariance matrix\">PosDef</td>\n",
       "                <td align=\"center\" title=\"Was covariance matrix made posdef by adding diagonal element\">Made PosDef</td>\n",
       "            </tr>\n",
       "            <tr>\n",
       "                <td align=\"center\" style=\"background-color:#92CCA6\">True</td>\n",
       "                <td align=\"center\" style=\"background-color:#92CCA6\">True</td>\n",
       "                <td align=\"center\" style=\"background-color:#92CCA6\">True</td>\n",
       "                <td align=\"center\" style=\"background-color:#92CCA6\">True</td>\n",
       "                <td align=\"center\" style=\"background-color:#92CCA6\">False</td>\n",
       "            </tr>\n",
       "            <tr>\n",
       "                <td align=\"center\" title=\"Was last hesse call fail?\">Hesse Fail</td>\n",
       "                <td align=\"center\" title=\"Validity of covariance\">HasCov</td>\n",
       "                <td align=\"center\" title=\"Is EDM above goal EDM?\">Above EDM</td>\n",
       "                <td align=\"center\"></td>\n",
       "                <td align=\"center\" title=\"Did last migrad call reach max call limit?\">Reach calllim</td>\n",
       "            </tr>\n",
       "            <tr>\n",
       "                <td align=\"center\" style=\"background-color:#92CCA6\">False</td>\n",
       "                <td align=\"center\" style=\"background-color:#92CCA6\">True</td>\n",
       "                <td align=\"center\" style=\"background-color:#92CCA6\">False</td>\n",
       "                <td align=\"center\"></td>\n",
       "                <td align=\"center\" style=\"background-color:#92CCA6\">False</td>\n",
       "            </tr>\n",
       "        </table>\n",
       "        "
      ]
     },
     "metadata": {},
     "output_type": "display_data"
    },
    {
     "data": {
      "text/html": [
       "\n",
       "        <table>\n",
       "            <tr>\n",
       "                <td><a href=\"#\" onclick=\"$('#VmjKuZglkO').toggle()\">+</a></td>\n",
       "                <td title=\"Variable name\">Name</td>\n",
       "                <td title=\"Value of parameter\">Value</td>\n",
       "                <td title=\"Parabolic error\">Parab Error</td>\n",
       "                <td title=\"Minos lower error\">Minos Error-</td>\n",
       "                <td title=\"Minos upper error\">Minos Error+</td>\n",
       "                <td title=\"Lower limit of the parameter\">Limit-</td>\n",
       "                <td title=\"Upper limit of the parameter\">Limit+</td>\n",
       "                <td title=\"Is the parameter fixed in the fit\">FIXED</td>\n",
       "            </tr>\n",
       "        \n",
       "            <tr>\n",
       "                <td>1</td>\n",
       "                <td>amplitude</td>\n",
       "                <td>1.27917e-10</td>\n",
       "                <td>1.58353e-12</td>\n",
       "                <td>0</td>\n",
       "                <td>0</td>\n",
       "                <td></td>\n",
       "                <td></td>\n",
       "                <td></td>\n",
       "            </tr>\n",
       "            \n",
       "            <tr>\n",
       "                <td>2</td>\n",
       "                <td>index</td>\n",
       "                <td>1.64734</td>\n",
       "                <td>0.026096</td>\n",
       "                <td>0</td>\n",
       "                <td>0</td>\n",
       "                <td></td>\n",
       "                <td></td>\n",
       "                <td></td>\n",
       "            </tr>\n",
       "            \n",
       "            <tr>\n",
       "                <td>3</td>\n",
       "                <td>energy_cut</td>\n",
       "                <td>2953.55</td>\n",
       "                <td>132.179</td>\n",
       "                <td>0</td>\n",
       "                <td>0</td>\n",
       "                <td></td>\n",
       "                <td></td>\n",
       "                <td></td>\n",
       "            </tr>\n",
       "            \n",
       "            </table>\n",
       "        \n",
       "            <pre id=\"VmjKuZglkO\" style=\"display:none;\">\n",
       "            <textarea rows=\"12\" cols=\"50\" onclick=\"this.select()\" readonly>\\begin{tabular}{|c|r|r|r|r|r|r|r|c|}\n",
       "\\hline\n",
       " & Name & Value & Para Error & Error+ & Error- & Limit+ & Limit- & FIXED\\\\\n",
       "\\hline\n",
       "1 & amplitude & 1.279e-10 & 1.584e-12 &  &  &  &  & \\\\\n",
       "\\hline\n",
       "2 & index & 1.647e+00 & 2.610e-02 &  &  &  &  & \\\\\n",
       "\\hline\n",
       "3 & $energy_{cut}$ & 2.954e+03 & 1.322e+02 &  &  &  &  & \\\\\n",
       "\\hline\n",
       "\\end{tabular}</textarea>\n",
       "            </pre>\n",
       "            "
      ]
     },
     "metadata": {},
     "output_type": "display_data"
    },
    {
     "data": {
      "text/html": [
       "<hr>"
      ]
     },
     "metadata": {},
     "output_type": "display_data"
    },
    {
     "name": "stdout",
     "output_type": "stream",
     "text": [
      "^ Optimized parameters for best-fit model\n"
     ]
    }
   ],
   "source": [
    "from iminuit import Minuit\n",
    "\n",
    "pars = dict(amplitude=1.2799539206298505e-10, #amp value\n",
    "            index=1.6358338594436646,         #idx value\n",
    "            energy_cut=3042.514404296875\n",
    "            )\n",
    "\n",
    "m = Minuit(chi2, **pars)\n",
    "\n",
    "m.print_initial_param()\n",
    "print(\"^ Initial parameters\")\n",
    "\n",
    "m.migrad() # Performs the minimization\n",
    "print(\"^ Optimized parameters for best-fit model\")\n",
    "\n"
   ]
  },
  {
   "cell_type": "code",
   "execution_count": 11,
   "metadata": {
    "collapsed": false
   },
   "outputs": [
    {
     "name": "stdout",
     "output_type": "stream",
     "text": [
      "{'amplitude': 1.2791749556592422e-10,\n",
      " 'energy_cut': 2953.5540418278893,\n",
      " 'index': 1.6473432003473054}\n",
      "{'amplitude': 1.5835329798426252e-12,\n",
      " 'energy_cut': 132.17876069891886,\n",
      " 'index': 0.026095972909697878}\n"
     ]
    }
   ],
   "source": [
    "pprint(m.values)\n",
    "pprint(m.errors)"
   ]
  },
  {
   "cell_type": "markdown",
   "metadata": {},
   "source": [
    "## Final plot\n",
    "\n",
    "Adding the fitted model to the plot from above."
   ]
  },
  {
   "cell_type": "code",
   "execution_count": 12,
   "metadata": {
    "collapsed": false
   },
   "outputs": [
    {
     "data": {
      "text/plain": [
       "[<matplotlib.lines.Line2D at 0x12f85c4c3c8>]"
      ]
     },
     "execution_count": 12,
     "metadata": {},
     "output_type": "execute_result"
    },
    {
     "data": {
      "image/png": "[encoded data removed]",
      "text/plain": [
       "<matplotlib.figure.Figure at 0x12f845a3a20>"
      ]
     },
     "metadata": {},
     "output_type": "display_data"
    }
   ],
   "source": [
    "source.spectral_model.plot(source.energy_range, **opts)\n",
    "\n",
    "plt.errorbar(x=data['e_ref'],\n",
    "             y = data['dnde'],\n",
    "             yerr = data['dnde_err'],\n",
    "             fmt='.'\n",
    "            )\n",
    "\n",
    "\n",
    "e_range = Quantity([100, 100000]) # source.energy_range without units\n",
    "\n",
    "\n",
    "fitted_ecpl = dnde_model_ecpl(energy=e_range,\n",
    "                              amplitude = m.values['amplitude'],\n",
    "                              index = m.values['index'],\n",
    "                              energy_cut = m.values['energy_cut'],\n",
    "                              reference=838.4884033203125\n",
    "                             )\n",
    "plt.plot(e_range, fitted_ecpl)"
   ]
  },
  {
   "cell_type": "code",
   "execution_count": null,
   "metadata": {
    "collapsed": true
   },
   "outputs": [],
   "source": []
  }
 ],
 "metadata": {
  "anaconda-cloud": {},
  "kernelspec": {
   "display_name": "Python [default]",
   "language": "python",
   "name": "python3"
  },
  "language_info": {
   "codemirror_mode": {
    "name": "ipython",
    "version": 3
   },
   "file_extension": ".py",
   "mimetype": "text/x-python",
   "name": "python",
   "nbconvert_exporter": "python",
   "pygments_lexer": "ipython3",
   "version": "3.5.1"
  }
 },
 "nbformat": 4,
 "nbformat_minor": 2
}
