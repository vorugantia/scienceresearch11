{
 "cells": [
  {
   "cell_type": "markdown",
   "metadata": {},
   "source": [
    "# Fitting the H.E.S.S. Crab spectrum with iminuit and emcee\n",
    "\n",
    "As an example of a chi^2 fit, we use the flux points from the Crab nebula\n",
    "as measured by H.E.S.S. in 2006:  http://adsabs.harvard.edu/abs/2006A%26A...457..899A"
   ]
  },
  {
   "cell_type": "code",
   "execution_count": 1,
   "metadata": {
    "collapsed": true
   },
   "outputs": [],
   "source": [
    "%matplotlib inline\n",
    "import numpy as np\n",
    "import pandas as pd\n",
    "import matplotlib.pyplot as plt\n",
    "plt.style.use('ggplot')"
   ]
  },
  {
   "cell_type": "markdown",
   "metadata": {},
   "source": [
    "## The data\n",
    "\n",
    "We start by loading the flux points from a text file.\n",
    "\n",
    "It is of course possible to load this data using just Python\n",
    "or Numpy, but we'll use the [pandas.read_table](http://pandas.pydata.org/pandas-docs/stable/generated/pandas.read_table.html) function\n",
    "because it's very flexible, i.e. by setting a few arguments you'll\n",
    "be able to load most ascii tables.\n",
    "\n",
    "**EDIT: Now I will try to replace the pandas data table with Gammapy's FluxPoints class. I will select the source 3FGL J1459.4-6053.**"
   ]
  },
  {
   "cell_type": "code",
   "execution_count": 2,
   "metadata": {
    "collapsed": false,
    "scrolled": false
   },
   "outputs": [
    {
     "name": "stdout",
     "output_type": "stream",
     "text": [
      "{'table': <Table length=5>\n",
      "    e_ref      e_min   e_max   ...   eflux_errn    eflux_errp         dnde      \n",
      "     MeV        MeV     MeV    ... erg / (cm2 s) erg / (cm2 s)  1 / (cm2 s TeV) \n",
      "   float64    float64 float64  ...    float32       float32         float64     \n",
      "------------- ------- -------- ... ------------- ------------- -----------------\n",
      "173.205080757   100.0    300.0 ...   5.13449e-12   5.17531e-12 0.000649591659276\n",
      "547.722557505   300.0   1000.0 ...   2.31176e-12   2.31176e-12 6.70232016236e-05\n",
      "1732.05080757  1000.0   3000.0 ...   1.21994e-12   1.21994e-12 5.21379369508e-06\n",
      "5477.22557505  3000.0  10000.0 ...   7.68662e-13   7.68662e-13 1.86889846596e-07\n",
      "31622.7766017 10000.0 100000.0 ...   2.03358e-13   2.53179e-13 2.85186831677e-10}\n"
     ]
    }
   ],
   "source": [
    "# data = pd.read_table('../datasets/spectrum_crab_hess_2006/spectrum_crab_hess_2006.txt',\n",
    "#                     comment='#', sep='\\s*', engine='python')\n",
    "# data\n",
    "\n",
    "from gammapy.catalog import SourceCatalog3FGL, SourceCatalogObject3FGL\n",
    "\n",
    "cat = SourceCatalog3FGL()\n",
    "source = cat['3FGL J1459.4-6053']\n",
    "data = source.flux_points\n",
    "\n",
    "print(vars(data))"
   ]
  },
  {
   "cell_type": "markdown",
   "metadata": {},
   "source": [
    "## The model\n",
    "\n",
    "In the paper they fit a power-law with an exponential cutoff and find the following parameters (see row \"all\" in table 6):\n",
    "* gamma = 2.39 +- 0.03\n",
    "* energy_cut = 14.3 +- 2.1 TeV\n",
    "* flux1 = (3.76 +- 0.07) x 1e-11 cm^-2 s^-1 TeV^-1\n",
    "\n",
    "The flux1 is the differential flux at 1 TeV.\n",
    "\n",
    "Let's code up that model ...\n",
    "\n",
    "\n",
    "TODO: extend this tutorial to also consider a power-law model and compare the two models via chi2 / ndf."
   ]
  },
  {
   "cell_type": "code",
   "execution_count": 3,
   "metadata": {
    "collapsed": true
   },
   "outputs": [],
   "source": [
    "def flux_ecpl(energy, flux1, gamma, energy_cut):\n",
    "    return flux1 * energy ** (-gamma) * np.exp(-energy / energy_cut)"
   ]
  },
  {
   "cell_type": "markdown",
   "metadata": {},
   "source": [
    "## Plot data and model\n",
    "\n",
    "Let's plot the data and model and compare to Figure 18b\n",
    "from the paper ..."
   ]
  },
  {
   "cell_type": "code",
   "execution_count": 4,
   "metadata": {
    "collapsed": false
   },
   "outputs": [
    {
     "ename": "AttributeError",
     "evalue": "'FluxPoints' object has no attribute 'dnde'",
     "output_type": "error",
     "traceback": [
      "\u001b[0;31m---------------------------------------------------------------------------\u001b[0m",
      "\u001b[0;31mAttributeError\u001b[0m                            Traceback (most recent call last)",
      "\u001b[0;32m<ipython-input-4-3bd64f1814ef>\u001b[0m in \u001b[0;36m<module>\u001b[0;34m()\u001b[0m\n\u001b[1;32m      8\u001b[0m \u001b[1;31m#             )\u001b[0m\u001b[1;33m\u001b[0m\u001b[1;33m\u001b[0m\u001b[0m\n\u001b[1;32m      9\u001b[0m plt.errorbar(x=data.e_ref,\n\u001b[0;32m---> 10\u001b[0;31m              \u001b[0my\u001b[0m\u001b[1;33m=\u001b[0m\u001b[0mdata\u001b[0m\u001b[1;33m.\u001b[0m\u001b[0mdnde\u001b[0m\u001b[1;33m,\u001b[0m \u001b[1;31m# not a FluxPoints attribute\u001b[0m\u001b[1;33m\u001b[0m\u001b[0m\n\u001b[0m\u001b[1;32m     11\u001b[0m              \u001b[0myerr\u001b[0m\u001b[1;33m=\u001b[0m\u001b[0mdata\u001b[0m\u001b[1;33m.\u001b[0m\u001b[0mflux_err\u001b[0m\u001b[1;33m,\u001b[0m \u001b[1;31m# not a FluxPoints attribute\u001b[0m\u001b[1;33m\u001b[0m\u001b[0m\n\u001b[1;32m     12\u001b[0m              \u001b[0mfmt\u001b[0m\u001b[1;33m=\u001b[0m\u001b[1;34m'.'\u001b[0m\u001b[1;33m\u001b[0m\u001b[0m\n",
      "\u001b[0;31mAttributeError\u001b[0m: 'FluxPoints' object has no attribute 'dnde'"
     ]
    },
    {
     "data": {
      "image/png": "[encoded data removed]",
      "text/plain": [
       "<matplotlib.figure.Figure at 0x23b7948f4e0>"
      ]
     },
     "metadata": {},
     "output_type": "display_data"
    }
   ],
   "source": [
    "energy = np.logspace(-0.5, 1.6, 100)\n",
    "flux = flux_ecpl(energy, flux1=3.76e-11, gamma=2.39, energy_cut=14.3)\n",
    "plt.plot(energy, flux)\n",
    "# plt.errorbar(x=data['energy'],\n",
    "#              y=data['flux'],\n",
    "#              yerr=data['flux_err'],\n",
    "#              fmt='.'\n",
    "#             )\n",
    "plt.errorbar(x=data.e_ref,\n",
    "             y=data.dnde, # not a FluxPoints attribute\n",
    "             yerr=data.flux_err, # not a FluxPoints attribute\n",
    "             fmt='.'\n",
    "            )\n",
    "plt.loglog();"
   ]
  },
  {
   "cell_type": "markdown",
   "metadata": {},
   "source": [
    "# The likelihood\n",
    "\n",
    "In this case we'll use a chi^2 likelihood function to\n",
    "fit the model to the data.\n",
    "\n",
    "Note that the likelihood function combines the data and model, and just depends on the model parameters that\n",
    "shall be estimated (whereas the model function `flux_ecpl` has an extra parameter `energy`).\n",
    "\n",
    "Also note that we're accessing `data` and model `flux_ecpl` from the global scope instead of passing them in explicitly as parameters. Modeling and fitting frameworks like e.g. Sherpa have more elaborate ways to combine data and models and likelihood functions, but for simple, small code examples like we do here, using the global scope to tie things together works just fine."
   ]
  },
  {
   "cell_type": "code",
   "execution_count": 5,
   "metadata": {
    "collapsed": true
   },
   "outputs": [],
   "source": [
    "def chi2(flux1, gamma, energy_cut):\n",
    "    energy = data['energy']\n",
    "    flux_model = flux_ecpl(energy, flux1, gamma, energy_cut)\n",
    "    chi = (data['flux'] - flux_model) / data['flux_err']\n",
    "    return np.sum(chi ** 2)"
   ]
  },
  {
   "cell_type": "code",
   "execution_count": 6,
   "metadata": {
    "collapsed": true
   },
   "outputs": [],
   "source": [
    "# TODO: visualise the likelihood as a 1D profile or\n",
    "# 2D contour to check that the implementation is OK\n",
    "# before fitting. E.g. reproduce Fig 19 from the paper?\n",
    "# Maybe talk about how chi2 differences relate to\n",
    "# confidence levels here?"
   ]
  },
  {
   "cell_type": "markdown",
   "metadata": {},
   "source": [
    "## ML fit with Minuit\n",
    "\n",
    "Let's use Minuit to do a maximum likelihood (ML) analysis.\n",
    "\n",
    "Note that this is not what they did in the paper (TODO: check), so it's not surprising if best-fit results\n",
    "are a little different."
   ]
  },
  {
   "cell_type": "code",
   "execution_count": 7,
   "metadata": {
    "collapsed": false
   },
   "outputs": [
    {
     "name": "stderr",
     "output_type": "stream",
     "text": [
      "C:\\Users\\arjun_000\\Anaconda3\\lib\\site-packages\\ipykernel\\__main__.py:3: InitialParamWarning: errordef is not given. Default to 1.\n",
      "  app.launch_new_instance()\n",
      "C:\\Users\\arjun_000\\Anaconda3\\lib\\site-packages\\ipykernel\\__main__.py:3: InitialParamWarning: Parameter flux1 does not have initial value. Assume 0.\n",
      "  app.launch_new_instance()\n",
      "C:\\Users\\arjun_000\\Anaconda3\\lib\\site-packages\\ipykernel\\__main__.py:3: InitialParamWarning: Parameter flux1 is floating but does not have initial step size. Assume 1.\n",
      "  app.launch_new_instance()\n",
      "C:\\Users\\arjun_000\\Anaconda3\\lib\\site-packages\\ipykernel\\__main__.py:3: InitialParamWarning: Parameter gamma does not have initial value. Assume 0.\n",
      "  app.launch_new_instance()\n",
      "C:\\Users\\arjun_000\\Anaconda3\\lib\\site-packages\\ipykernel\\__main__.py:3: InitialParamWarning: Parameter gamma is floating but does not have initial step size. Assume 1.\n",
      "  app.launch_new_instance()\n",
      "C:\\Users\\arjun_000\\Anaconda3\\lib\\site-packages\\ipykernel\\__main__.py:3: InitialParamWarning: Parameter energy_cut does not have initial value. Assume 0.\n",
      "  app.launch_new_instance()\n",
      "C:\\Users\\arjun_000\\Anaconda3\\lib\\site-packages\\ipykernel\\__main__.py:3: InitialParamWarning: Parameter energy_cut is floating but does not have initial step size. Assume 1.\n",
      "  app.launch_new_instance()\n",
      "C:\\Users\\arjun_000\\Anaconda3\\lib\\site-packages\\ipykernel\\__main__.py:4: RuntimeWarning: Exception Occured \n",
      "fcn is called with following arguments:\n",
      "         flux1 = +0.000000\n",
      "         gamma = +0.000000\n",
      "    energy_cut = +0.000000\n",
      "\n"
     ]
    },
    {
     "ename": "TypeError",
     "evalue": "'FluxPoints' object is not subscriptable",
     "output_type": "error",
     "traceback": [
      "\u001b[0;31m---------------------------------------------------------------------------\u001b[0m",
      "\u001b[0;31mTypeError\u001b[0m                                 Traceback (most recent call last)",
      "\u001b[0;32m<ipython-input-7-b8a5d7c5384f>\u001b[0m in \u001b[0;36m<module>\u001b[0;34m()\u001b[0m\n\u001b[1;32m      2\u001b[0m \u001b[1;33m\u001b[0m\u001b[0m\n\u001b[1;32m      3\u001b[0m \u001b[0mm\u001b[0m \u001b[1;33m=\u001b[0m \u001b[0mMinuit\u001b[0m\u001b[1;33m(\u001b[0m\u001b[0mchi2\u001b[0m\u001b[1;33m)\u001b[0m\u001b[1;33m\u001b[0m\u001b[0m\n\u001b[0;32m----> 4\u001b[0;31m \u001b[0mm\u001b[0m\u001b[1;33m.\u001b[0m\u001b[0mmigrad\u001b[0m\u001b[1;33m(\u001b[0m\u001b[1;33m)\u001b[0m\u001b[1;33m\u001b[0m\u001b[0m\n\u001b[0m",
      "\u001b[0;32miminuit\\_libiminuit.pyx\u001b[0m in \u001b[0;36miminuit._libiminuit.Minuit.migrad (iminuit/_libiminuit.cpp:5716)\u001b[0;34m()\u001b[0m\n",
      "\u001b[0;32m<ipython-input-5-4ea115092b27>\u001b[0m in \u001b[0;36mchi2\u001b[0;34m(flux1, gamma, energy_cut)\u001b[0m\n\u001b[1;32m      1\u001b[0m \u001b[1;32mdef\u001b[0m \u001b[0mchi2\u001b[0m\u001b[1;33m(\u001b[0m\u001b[0mflux1\u001b[0m\u001b[1;33m,\u001b[0m \u001b[0mgamma\u001b[0m\u001b[1;33m,\u001b[0m \u001b[0menergy_cut\u001b[0m\u001b[1;33m)\u001b[0m\u001b[1;33m:\u001b[0m\u001b[1;33m\u001b[0m\u001b[0m\n\u001b[0;32m----> 2\u001b[0;31m     \u001b[0menergy\u001b[0m \u001b[1;33m=\u001b[0m \u001b[0mdata\u001b[0m\u001b[1;33m[\u001b[0m\u001b[1;34m'energy'\u001b[0m\u001b[1;33m]\u001b[0m\u001b[1;33m\u001b[0m\u001b[0m\n\u001b[0m\u001b[1;32m      3\u001b[0m     \u001b[0mflux_model\u001b[0m \u001b[1;33m=\u001b[0m \u001b[0mflux_ecpl\u001b[0m\u001b[1;33m(\u001b[0m\u001b[0menergy\u001b[0m\u001b[1;33m,\u001b[0m \u001b[0mflux1\u001b[0m\u001b[1;33m,\u001b[0m \u001b[0mgamma\u001b[0m\u001b[1;33m,\u001b[0m \u001b[0menergy_cut\u001b[0m\u001b[1;33m)\u001b[0m\u001b[1;33m\u001b[0m\u001b[0m\n\u001b[1;32m      4\u001b[0m     \u001b[0mchi\u001b[0m \u001b[1;33m=\u001b[0m \u001b[1;33m(\u001b[0m\u001b[0mdata\u001b[0m\u001b[1;33m[\u001b[0m\u001b[1;34m'flux'\u001b[0m\u001b[1;33m]\u001b[0m \u001b[1;33m-\u001b[0m \u001b[0mflux_model\u001b[0m\u001b[1;33m)\u001b[0m \u001b[1;33m/\u001b[0m \u001b[0mdata\u001b[0m\u001b[1;33m[\u001b[0m\u001b[1;34m'flux_err'\u001b[0m\u001b[1;33m]\u001b[0m\u001b[1;33m\u001b[0m\u001b[0m\n\u001b[1;32m      5\u001b[0m     \u001b[1;32mreturn\u001b[0m \u001b[0mnp\u001b[0m\u001b[1;33m.\u001b[0m\u001b[0msum\u001b[0m\u001b[1;33m(\u001b[0m\u001b[0mchi\u001b[0m \u001b[1;33m**\u001b[0m \u001b[1;36m2\u001b[0m\u001b[1;33m)\u001b[0m\u001b[1;33m\u001b[0m\u001b[0m\n",
      "\u001b[0;31mTypeError\u001b[0m: 'FluxPoints' object is not subscriptable"
     ]
    }
   ],
   "source": [
    "from iminuit import Minuit\n",
    "\n",
    "m = Minuit(chi2)\n",
    "m.migrad()"
   ]
  },
  {
   "cell_type": "code",
   "execution_count": 8,
   "metadata": {
    "collapsed": false
   },
   "outputs": [
    {
     "name": "stdout",
     "output_type": "stream",
     "text": [
      "{'gamma': 0.0, 'flux1': 0.0, 'energy_cut': 0.0}\n",
      "{'gamma': 1.0, 'flux1': 1.0, 'energy_cut': 1.0}\n"
     ]
    }
   ],
   "source": [
    "print(m.values)\n",
    "print(m.errors)"
   ]
  },
  {
   "cell_type": "markdown",
   "metadata": {},
   "source": [
    "## Analysis with emcee\n",
    "\n",
    "- Should we only do Bayesian analysis? (posterior sampling)\n",
    "- Or should we start with a ML analysis (likelihood sampling and compare with iminuit)"
   ]
  },
  {
   "cell_type": "code",
   "execution_count": 9,
   "metadata": {
    "collapsed": false
   },
   "outputs": [],
   "source": [
    "import emcee\n",
    "\n",
    "# TODO"
   ]
  },
  {
   "cell_type": "markdown",
   "metadata": {},
   "source": [
    "## Error propagation\n",
    "\n",
    "Often the fit parameters are not the quantities quoted when\n",
    "reporting the analysis results. Instead some other quantity\n",
    "that is a function of the fit parameters is of interest.\n",
    "\n",
    "In the Crab paper, the integral flux above 1 TeV is the\n",
    "main flux quantity that's reported int the abstract.\n",
    "\n",
    "Let's see how we can compute it and propagate the error\n",
    "on that quantity.\n",
    "\n",
    "TODO:\n",
    "- The samples from emcee can be used to do this.\n",
    "- For the iminuit analysis I'm not sure it's easily possible. There is [uncertainties](http://pythonhosted.org/uncertainties/), but it requires analytical formulae (automatic differentiation), and the integral flux of ECPL has to be computed numerically. Does it still work?\n",
    "- Maybe we should compute and plot \"spectrum butterflies\" as well?"
   ]
  }
 ],
 "metadata": {
  "anaconda-cloud": {},
  "kernelspec": {
   "display_name": "Python [default]",
   "language": "python",
   "name": "python3"
  },
  "language_info": {
   "codemirror_mode": {
    "name": "ipython",
    "version": 3
   },
   "file_extension": ".py",
   "mimetype": "text/x-python",
   "name": "python",
   "nbconvert_exporter": "python",
   "pygments_lexer": "ipython3",
   "version": "3.5.1"
  }
 },
 "nbformat": 4,
 "nbformat_minor": 0
}
