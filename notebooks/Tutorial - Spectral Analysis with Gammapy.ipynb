{
 "cells": [
  {
   "cell_type": "markdown",
   "metadata": {},
   "source": [
    "I'm following [Gammapy's tutorial on spectral analysis](https://github.com/gammapy/gammapy-extra/blob/master/notebooks/spectrum_analysis.ipynb).\n",
    "\n",
    "It demonstrates how to use the functions and classes in [gammapy.spectrum](http://docs.gammapy.org/en/latest/spectrum/index.html)."
   ]
  },
  {
   "cell_type": "markdown",
   "metadata": {},
   "source": [
    "# Setup"
   ]
  },
  {
   "cell_type": "code",
   "execution_count": 7,
   "metadata": {
    "collapsed": false
   },
   "outputs": [],
   "source": [
    "import warnings\n",
    "warnings.filterwarnings(\"ignore\", category=UserWarning, module='astropy')\n",
    "\n",
    "%matplotlib inline\n",
    "import matplotlib.pyplot as plt\n",
    "plt.style.use('ggplot')\n",
    "\n",
    "import astropy, regions\n",
    "import astropy.units as u\n",
    "from astropy.coordinates import SkyCoord, Angle\n",
    "from regions import CircleSkyRegion\n",
    "\n",
    "\n",
    "import gammapy\n",
    "from gammapy.data import DataStore, ObservationList, Target\n",
    "from gammapy.data import ObservationStats, ObservationSummary\n",
    "from gammapy.image import SkyMask\n",
    "from gammapy.background import ReflectedRegionsBackgroundEstimator\n",
    "from gammapy.spectrum import SpectrumExtraction, SpectrumObservation, SpectrumFit, SpectrumResult\n",
    "from gammapy.spectrum.models import PowerLaw, ExponentialCutoffPowerLaw, LogParabola\n",
    "from gammapy.spectrum import DifferentialFluxPoints, SpectrumEnergyGroupMaker, FluxPointEstimator"
   ]
  },
  {
   "cell_type": "markdown",
   "metadata": {
    "collapsed": false
   },
   "source": [
    "# Load Data\n",
    "For now, I'm using the file from the tutorial. Later, I will try this with my data."
   ]
  },
  {
   "cell_type": "code",
   "execution_count": 8,
   "metadata": {
    "collapsed": false
   },
   "outputs": [
    {
     "name": "stdout",
     "output_type": "stream",
     "text": [
      "Info for OBS_ID = 23523\n",
      "- Start time: 53343.92\n",
      "- Pointing pos: RA 83.63 deg / Dec 21.51 deg\n",
      "- Observation duration: 1687.0 s\n",
      "- Dead-time fraction: 6.240 %\n",
      "\n"
     ]
    }
   ],
   "source": [
    "DATA_DIR = '$GAMMAPY_EXTRA/datasets/hess-crab4-hd-hap-prod2'\n",
    "\n",
    "datastore = DataStore.from_dir(DATA_DIR)\n",
    "obs_ids = [23523, 23526, 23559, 23592]\n",
    "    \n",
    "observations = ObservationList(datastore.obs(obs_id) for obs_id in obs_ids)\n",
    "print(observations[0])"
   ]
  },
  {
   "cell_type": "code",
   "execution_count": null,
   "metadata": {
    "collapsed": true
   },
   "outputs": [],
   "source": []
  }
 ],
 "metadata": {
  "kernelspec": {
   "display_name": "Python 3",
   "language": "python",
   "name": "python3"
  },
  "language_info": {
   "codemirror_mode": {
    "name": "ipython",
    "version": 3
   },
   "file_extension": ".py",
   "mimetype": "text/x-python",
   "name": "python",
   "nbconvert_exporter": "python",
   "pygments_lexer": "ipython3",
   "version": "3.5.1"
  }
 },
 "nbformat": 4,
 "nbformat_minor": 0
}
