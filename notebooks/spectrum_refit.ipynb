{
 "cells": [
  {
   "cell_type": "markdown",
   "metadata": {
    "deletable": true,
    "editable": true
   },
   "source": [
    "# Reproduce chi2 spectrum fit\n",
    "\n",
    "I tried to reproduce the spectral fit I made with Christoph a few weeks ago using a new source.\n",
    "\n",
    "**\\*The way I defined the environment variable below was only a temporary solution, because [this](http://nbviewer.jupyter.org/github/gammapy/gammapy-extra/blob/master/notebooks/first_steps.ipynb#Setup) did not work for me.**"
   ]
  },
  {
   "cell_type": "markdown",
   "metadata": {
    "deletable": true,
    "editable": true
   },
   "source": [
    "## Load Data"
   ]
  },
  {
   "cell_type": "code",
   "execution_count": 1,
   "metadata": {
    "collapsed": false,
    "deletable": true,
    "editable": true
   },
   "outputs": [],
   "source": [
    "%matplotlib inline\n",
    "import numpy as np\n",
    "import pandas as pd\n",
    "import matplotlib.pyplot as plt\n",
    "plt.style.use('ggplot')\n",
    "from pprint import pprint\n",
    "import astropy.units as u\n",
    "from astropy.units import Quantity\n",
    "\n",
    "import os\n",
    "os.environ['GAMMAPY_EXTRA'] = os.path.join('C:/Users/Arjun/github/gammapy-extra')\n"
   ]
  },
  {
   "cell_type": "code",
   "execution_count": 2,
   "metadata": {
    "collapsed": false,
    "deletable": true,
    "editable": true
   },
   "outputs": [
    {
     "name": "stdout",
     "output_type": "stream",
     "text": [
      "<Table length=5>\r\n",
      "   name     dtype        unit      n_bad\r\n",
      "---------- ------- --------------- -----\r\n",
      "     e_ref float64             MeV     0\r\n",
      "     e_min float64             MeV     0\r\n",
      "     e_max float64             MeV     0\r\n",
      "      flux float32     1 / (cm2 s)     0\r\n",
      " flux_errn float32     1 / (cm2 s)     0\r\n",
      " flux_errp float32     1 / (cm2 s)     0\r\n",
      "     eflux float32   erg / (cm2 s)     0\r\n",
      "eflux_errn float32   erg / (cm2 s)     0\r\n",
      "eflux_errp float32   erg / (cm2 s)     0\r\n",
      "     is_ul    bool                     0\r\n",
      "   flux_ul float64     1 / (cm2 s)     5\r\n",
      "  eflux_ul float64   erg / (cm2 s)     5\r\n",
      "      dnde float64 1 / (cm2 MeV s)     0\r\n",
      "  dnde_err float64 1 / (cm2 MeV s)     0\r\n"
     ]
    }
   ],
   "source": [
    "from gammapy.catalog import SourceCatalog3FGL, SourceCatalogObject3FGL\n",
    "\n",
    "cat = SourceCatalog3FGL()\n",
    "\n",
    "# This time I will pick \"Dragonfly\" as my source\n",
    "source = cat['3FGL J2021.1+3651'] # a.k.a. PSR J2021+3651\n",
    "data = source.flux_points.table\n",
    "\n",
    "# Flux units\n",
    "data['dnde'] = data['dnde'].to('cm-2 s-1 MeV-1')\n",
    "\n",
    "# Create flux error\n",
    "dnde_err = data['dnde'] * (data['flux_errn'] / data['flux'])\n",
    "data['dnde_err'] = dnde_err.to(data['dnde'].unit)\n",
    "\n",
    "data.info()"
   ]
  },
  {
   "cell_type": "code",
   "execution_count": 3,
   "metadata": {
    "collapsed": false,
    "deletable": true,
    "editable": true
   },
   "outputs": [
    {
     "data": {
      "text/html": [
       "&lt;Table length=5&gt;\n",
       "<table id=\"table1819733519776\" class=\"table-striped table-bordered table-condensed\">\n",
       "<thead><tr><th>e_ref</th><th>dnde</th><th>dnde_err</th></tr></thead>\n",
       "<thead><tr><th>MeV</th><th>1 / (cm2 MeV s)</th><th>1 / (cm2 MeV s)</th></tr></thead>\n",
       "<thead><tr><th>float64</th><th>float64</th><th>float64</th></tr></thead>\n",
       "<tr><td>173.205080757</td><td>2.04104877602e-09</td><td>1.00411133777e-10</td></tr>\n",
       "<tr><td>547.722557505</td><td>2.89106474074e-10</td><td>4.8425992587e-12</td></tr>\n",
       "<tr><td>1732.05080757</td><td>2.83786952947e-11</td><td>4.31495275368e-13</td></tr>\n",
       "<tr><td>5477.22557505</td><td>1.21403330155e-12</td><td>3.57664181501e-14</td></tr>\n",
       "<tr><td>31622.7766017</td><td>2.56073757204e-15</td><td>3.5137554485e-16</td></tr>\n",
       "</table>"
      ],
      "text/plain": [
       "<Table length=5>\n",
       "    e_ref            dnde            dnde_err    \n",
       "     MeV       1 / (cm2 MeV s)   1 / (cm2 MeV s) \n",
       "   float64         float64           float64     \n",
       "------------- ----------------- -----------------\n",
       "173.205080757 2.04104877602e-09 1.00411133777e-10\n",
       "547.722557505 2.89106474074e-10  4.8425992587e-12\n",
       "1732.05080757 2.83786952947e-11 4.31495275368e-13\n",
       "5477.22557505 1.21403330155e-12 3.57664181501e-14\n",
       "31622.7766017 2.56073757204e-15  3.5137554485e-16"
      ]
     },
     "execution_count": 3,
     "metadata": {},
     "output_type": "execute_result"
    }
   ],
   "source": [
    "cols = ['e_ref', 'dnde', 'dnde_err']\n",
    "data[cols]\n",
    "\n",
    "# These will be the same for any source"
   ]
  },
  {
   "cell_type": "code",
   "execution_count": 4,
   "metadata": {
    "collapsed": false,
    "deletable": true,
    "editable": true
   },
   "outputs": [
    {
     "name": "stdout",
     "output_type": "stream",
     "text": [
      "ParameterList\n",
      "Parameter(name='index', value=1.6358338594436646, unit=Unit(dimensionless), min=0, max=None, frozen=False)\n",
      "Parameter(name='amplitude', value=1.2799539206298505e-10, unit=Unit(\"1 / (cm2 MeV s)\"), min=0, max=None, frozen=False)\n",
      "Parameter(name='reference', value=838.4884033203125, unit=Unit(\"MeV\"), min=None, max=None, frozen=0)\n",
      "Parameter(name='ecut', value=3042.514404296875, unit=Unit(\"MeV\"), min=None, max=None, frozen=False)\n",
      "\n",
      "Covariance: [[  4.23747921e-04   0.00000000e+00   0.00000000e+00   0.00000000e+00]\n",
      " [  0.00000000e+00   2.34193217e-24   0.00000000e+00   0.00000000e+00]\n",
      " [  0.00000000e+00   0.00000000e+00   0.00000000e+00   0.00000000e+00]\n",
      " [  0.00000000e+00   0.00000000e+00   0.00000000e+00   1.45080933e+04]]\n",
      "[    100.  100000.] MeV\n"
     ]
    }
   ],
   "source": [
    "print(source.spectral_model.parameters)\n",
    "print(source.energy_range)"
   ]
  },
  {
   "cell_type": "markdown",
   "metadata": {
    "deletable": true,
    "editable": true
   },
   "source": [
    "## Plot data and model"
   ]
  },
  {
   "cell_type": "code",
   "execution_count": 5,
   "metadata": {
    "collapsed": false,
    "deletable": true,
    "editable": true
   },
   "outputs": [
    {
     "data": {
      "text/plain": [
       "<Container object of 3 artists>"
      ]
     },
     "execution_count": 5,
     "metadata": {},
     "output_type": "execute_result"
    },
    {
     "data": {
      "image/png": "[encoded data removed]",
      "text/plain": [
       "<matplotlib.figure.Figure at 0x1a7b517b470>"
      ]
     },
     "metadata": {},
     "output_type": "display_data"
    }
   ],
   "source": [
    "# Defining units\n",
    "opts = dict(energy_unit='MeV', flux_unit='cm-2 s-1 MeV-1')\n",
    "\n",
    "source.spectral_model.plot(source.energy_range, **opts)\n",
    "# Spectral model used (PL, ECPL) based on the source's SpectrumType parameter\n",
    "\n",
    "p = source.spectral_model.parameters\n",
    "\n",
    "# Plot reference point\n",
    "plt.plot(p['reference'].value, p['amplitude'].value, '*')\n",
    "\n",
    "# Plot all data from source's FluxPoints\n",
    "plt.errorbar(x=data['e_ref'],\n",
    "             y = data['dnde'],\n",
    "             yerr = data['dnde_err'],\n",
    "             fmt='.'\n",
    "            )"
   ]
  },
  {
   "cell_type": "markdown",
   "metadata": {
    "deletable": true,
    "editable": true
   },
   "source": [
    " ## Likelihood function - chi2\n",
    "\n",
    "The chi2 function will determine the closeness of fit of our selected model (ECPL) to actual data."
   ]
  },
  {
   "cell_type": "code",
   "execution_count": 6,
   "metadata": {
    "collapsed": false,
    "deletable": true,
    "editable": true
   },
   "outputs": [
    {
     "data": {
      "text/latex": [
       "$1.2799539 \\times 10^{-10} \\; \\mathrm{\\frac{1}{MeV\\,s\\,cm^{2}}}$"
      ],
      "text/plain": [
       "<Quantity 1.2799539206298505e-10 1 / (cm2 MeV s)>"
      ]
     },
     "execution_count": 6,
     "metadata": {},
     "output_type": "execute_result"
    }
   ],
   "source": [
    "# Code for parameters and spectral models has changed.\n",
    "# Now there's a Parameter class, and you can call `.quantity` on it to get a quantity\n",
    "source.spectral_model(p['reference'].quantity)"
   ]
  },
  {
   "cell_type": "code",
   "execution_count": 7,
   "metadata": {
    "collapsed": true,
    "deletable": true,
    "editable": true
   },
   "outputs": [],
   "source": [
    "# This isn't really needed, you could just call `SourceCatalogObject3FGL.evaluate`\n",
    "# instead of rewriting the formula.\n",
    "# I guess you did it for tutorial purposes? Keeping it for now\n",
    "\n",
    "# Defining an ECPL model (same as Gammapy's)\n",
    "def dnde_model_ecpl(energy, amplitude, index, energy_cut, reference):\n",
    "    return amplitude * (energy / reference) ** (-index) * np.exp((reference -energy) / energy_cut)"
   ]
  },
  {
   "cell_type": "code",
   "execution_count": 8,
   "metadata": {
    "collapsed": true,
    "deletable": true,
    "editable": true
   },
   "outputs": [],
   "source": [
    "# Defining chi2 function for this source\n",
    "def chi2(amplitude, index, energy_cut):\n",
    "    \n",
    "    dnde_model = dnde_model_ecpl(\n",
    "        energy=data['e_ref'],\n",
    "        amplitude=amplitude,\n",
    "        index=index,\n",
    "        energy_cut=energy_cut,\n",
    "        reference=p['reference'].value\n",
    "    ) \n",
    "\n",
    "    chi = (data['dnde'] - dnde_model) / data['dnde_err']\n",
    "    return np.sum(chi ** 2)"
   ]
  },
  {
   "cell_type": "code",
   "execution_count": 9,
   "metadata": {
    "collapsed": false,
    "deletable": true,
    "editable": true
   },
   "outputs": [
    {
     "data": {
      "text/latex": [
       "$1.2799539 \\times 10^{-10} \\; \\mathrm{\\frac{1}{MeV\\,s\\,cm^{2}}}$"
      ],
      "text/plain": [
       "<Quantity 1.2799539206298505e-10 1 / (cm2 MeV s)>"
      ]
     },
     "execution_count": 9,
     "metadata": {},
     "output_type": "execute_result"
    }
   ],
   "source": [
    "# Test one example evaluation - we want the same result as source.spectral_model\n",
    "dnde_model_ecpl(\n",
    "    energy=p['reference'].quantity,\n",
    "    amplitude=p['amplitude'].quantity,\n",
    "    index=p['index'].quantity,\n",
    "    energy_cut=p['ecut'].quantity,\n",
    "    reference=p['reference'].quantity,\n",
    ")"
   ]
  },
  {
   "cell_type": "markdown",
   "metadata": {
    "deletable": true,
    "editable": true
   },
   "source": [
    "## ML fit with Minuit\n",
    "\n",
    "Maximum likelihood (ML) analysis."
   ]
  },
  {
   "cell_type": "code",
   "execution_count": 10,
   "metadata": {
    "collapsed": false,
    "deletable": true,
    "editable": true
   },
   "outputs": [
    {
     "name": "stderr",
     "output_type": "stream",
     "text": [
      "C:\\Users\\Arjun\\Anaconda3\\lib\\site-packages\\ipykernel_launcher.py:7: InitialParamWarning: errordef is not given. Default to 1.\n",
      "  import sys\n",
      "C:\\Users\\Arjun\\Anaconda3\\lib\\site-packages\\ipykernel_launcher.py:7: InitialParamWarning: Parameter amplitude is floating but does not have initial step size. Assume 1.\n",
      "  import sys\n",
      "C:\\Users\\Arjun\\Anaconda3\\lib\\site-packages\\ipykernel_launcher.py:7: InitialParamWarning: Parameter index is floating but does not have initial step size. Assume 1.\n",
      "  import sys\n",
      "C:\\Users\\Arjun\\Anaconda3\\lib\\site-packages\\ipykernel_launcher.py:7: InitialParamWarning: Parameter energy_cut is floating but does not have initial step size. Assume 1.\n",
      "  import sys\n"
     ]
    }
   ],
   "source": [
    "from iminuit import Minuit\n",
    "\n",
    "pars = dict(amplitude=1.2799539206298505e-10, #amp value\n",
    "            index=1.6358338594436646,         #idx value\n",
    "            energy_cut=3042.514404296875\n",
    "            )\n",
    "minuit = Minuit(chi2, **pars)"
   ]
  },
  {
   "cell_type": "code",
   "execution_count": 11,
   "metadata": {
    "collapsed": false,
    "deletable": true,
    "editable": true
   },
   "outputs": [
    {
     "data": {
      "text/html": [
       "\n",
       "        <table>\n",
       "            <tr>\n",
       "                <td><a href=\"#\" onclick=\"$('#ehXyIUkmnF').toggle()\">+</a></td>\n",
       "                <td title=\"Variable name\">Name</td>\n",
       "                <td title=\"Value of parameter\">Value</td>\n",
       "                <td title=\"Parabolic error\">Parab Error</td>\n",
       "                <td title=\"Minos lower error\">Minos Error-</td>\n",
       "                <td title=\"Minos upper error\">Minos Error+</td>\n",
       "                <td title=\"Lower limit of the parameter\">Limit-</td>\n",
       "                <td title=\"Upper limit of the parameter\">Limit+</td>\n",
       "                <td title=\"Is the parameter fixed in the fit\">FIXED</td>\n",
       "            </tr>\n",
       "        \n",
       "            <tr>\n",
       "                <td>1</td>\n",
       "                <td>amplitude</td>\n",
       "                <td>1.27995e-10</td>\n",
       "                <td>1</td>\n",
       "                <td>0</td>\n",
       "                <td>0</td>\n",
       "                <td></td>\n",
       "                <td></td>\n",
       "                <td></td>\n",
       "            </tr>\n",
       "            \n",
       "            <tr>\n",
       "                <td>2</td>\n",
       "                <td>index</td>\n",
       "                <td>1.63583</td>\n",
       "                <td>1</td>\n",
       "                <td>0</td>\n",
       "                <td>0</td>\n",
       "                <td></td>\n",
       "                <td></td>\n",
       "                <td></td>\n",
       "            </tr>\n",
       "            \n",
       "            <tr>\n",
       "                <td>3</td>\n",
       "                <td>energy_cut</td>\n",
       "                <td>3042.51</td>\n",
       "                <td>1</td>\n",
       "                <td>0</td>\n",
       "                <td>0</td>\n",
       "                <td></td>\n",
       "                <td></td>\n",
       "                <td></td>\n",
       "            </tr>\n",
       "            \n",
       "            </table>\n",
       "        \n",
       "            <pre id=\"ehXyIUkmnF\" style=\"display:none;\">\n",
       "            <textarea rows=\"12\" cols=\"50\" onclick=\"this.select()\" readonly>\\begin{tabular}{|c|r|r|r|r|r|r|r|c|}\n",
       "\\hline\n",
       " & Name & Value & Para Error & Error+ & Error- & Limit+ & Limit- & FIXED\\\\\n",
       "\\hline\n",
       "1 & amplitude & 1.280e-10 & 1.000e+00 &  &  &  &  & \\\\\n",
       "\\hline\n",
       "2 & index & 1.636e+00 & 1.000e+00 &  &  &  &  & \\\\\n",
       "\\hline\n",
       "3 & $energy_{cut}$ & 3.043e+03 & 1.000e+00 &  &  &  &  & \\\\\n",
       "\\hline\n",
       "\\end{tabular}</textarea>\n",
       "            </pre>\n",
       "            "
      ]
     },
     "metadata": {},
     "output_type": "display_data"
    }
   ],
   "source": [
    "minuit.print_initial_param()"
   ]
  },
  {
   "cell_type": "code",
   "execution_count": 12,
   "metadata": {
    "collapsed": false,
    "deletable": true,
    "editable": true
   },
   "outputs": [
    {
     "data": {
      "text/html": [
       "<hr>"
      ]
     },
     "metadata": {},
     "output_type": "display_data"
    },
    {
     "data": {
      "text/html": [
       "\n",
       "        <table>\n",
       "            <tr>\n",
       "                <td title=\"Minimum value of function\">FCN = 55.11415067891237</td>\n",
       "                <td title=\"Total number of call to FCN so far\">TOTAL NCALL = 71</td>\n",
       "                <td title=\"Number of call in last migrad\">NCALLS = 71</td>\n",
       "            </tr>\n",
       "            <tr>\n",
       "                <td title=\"Estimated distance to minimum\">EDM = 4.4493011180702984e-07</td>\n",
       "                <td title=\"Maximum EDM definition of convergence\">GOAL EDM = 1e-05</td>\n",
       "                <td title=\"Error def. Amount of increase in FCN to be defined as 1 standard deviation\">\n",
       "                UP = 1.0</td>\n",
       "            </tr>\n",
       "        </table>\n",
       "        \n",
       "        <table>\n",
       "            <tr>\n",
       "                <td align=\"center\" title=\"Validity of the migrad call\">Valid</td>\n",
       "                <td align=\"center\" title=\"Validity of parameters\">Valid Param</td>\n",
       "                <td align=\"center\" title=\"Is Covariance matrix accurate?\">Accurate Covar</td>\n",
       "                <td align=\"center\" title=\"Positive definiteness of covariance matrix\">PosDef</td>\n",
       "                <td align=\"center\" title=\"Was covariance matrix made posdef by adding diagonal element\">Made PosDef</td>\n",
       "            </tr>\n",
       "            <tr>\n",
       "                <td align=\"center\" style=\"background-color:#92CCA6\">True</td>\n",
       "                <td align=\"center\" style=\"background-color:#92CCA6\">True</td>\n",
       "                <td align=\"center\" style=\"background-color:#92CCA6\">True</td>\n",
       "                <td align=\"center\" style=\"background-color:#92CCA6\">True</td>\n",
       "                <td align=\"center\" style=\"background-color:#92CCA6\">False</td>\n",
       "            </tr>\n",
       "            <tr>\n",
       "                <td align=\"center\" title=\"Was last hesse call fail?\">Hesse Fail</td>\n",
       "                <td align=\"center\" title=\"Validity of covariance\">HasCov</td>\n",
       "                <td align=\"center\" title=\"Is EDM above goal EDM?\">Above EDM</td>\n",
       "                <td align=\"center\"></td>\n",
       "                <td align=\"center\" title=\"Did last migrad call reach max call limit?\">Reach calllim</td>\n",
       "            </tr>\n",
       "            <tr>\n",
       "                <td align=\"center\" style=\"background-color:#92CCA6\">False</td>\n",
       "                <td align=\"center\" style=\"background-color:#92CCA6\">True</td>\n",
       "                <td align=\"center\" style=\"background-color:#92CCA6\">False</td>\n",
       "                <td align=\"center\"></td>\n",
       "                <td align=\"center\" style=\"background-color:#92CCA6\">False</td>\n",
       "            </tr>\n",
       "        </table>\n",
       "        "
      ]
     },
     "metadata": {},
     "output_type": "display_data"
    },
    {
     "data": {
      "text/html": [
       "\n",
       "        <table>\n",
       "            <tr>\n",
       "                <td><a href=\"#\" onclick=\"$('#wwcSulackt').toggle()\">+</a></td>\n",
       "                <td title=\"Variable name\">Name</td>\n",
       "                <td title=\"Value of parameter\">Value</td>\n",
       "                <td title=\"Parabolic error\">Parab Error</td>\n",
       "                <td title=\"Minos lower error\">Minos Error-</td>\n",
       "                <td title=\"Minos upper error\">Minos Error+</td>\n",
       "                <td title=\"Lower limit of the parameter\">Limit-</td>\n",
       "                <td title=\"Upper limit of the parameter\">Limit+</td>\n",
       "                <td title=\"Is the parameter fixed in the fit\">FIXED</td>\n",
       "            </tr>\n",
       "        \n",
       "            <tr>\n",
       "                <td>1</td>\n",
       "                <td>amplitude</td>\n",
       "                <td>1.27917e-10</td>\n",
       "                <td>1.58353e-12</td>\n",
       "                <td>0</td>\n",
       "                <td>0</td>\n",
       "                <td></td>\n",
       "                <td></td>\n",
       "                <td></td>\n",
       "            </tr>\n",
       "            \n",
       "            <tr>\n",
       "                <td>2</td>\n",
       "                <td>index</td>\n",
       "                <td>1.64734</td>\n",
       "                <td>0.026096</td>\n",
       "                <td>0</td>\n",
       "                <td>0</td>\n",
       "                <td></td>\n",
       "                <td></td>\n",
       "                <td></td>\n",
       "            </tr>\n",
       "            \n",
       "            <tr>\n",
       "                <td>3</td>\n",
       "                <td>energy_cut</td>\n",
       "                <td>2953.55</td>\n",
       "                <td>132.179</td>\n",
       "                <td>0</td>\n",
       "                <td>0</td>\n",
       "                <td></td>\n",
       "                <td></td>\n",
       "                <td></td>\n",
       "            </tr>\n",
       "            \n",
       "            </table>\n",
       "        \n",
       "            <pre id=\"wwcSulackt\" style=\"display:none;\">\n",
       "            <textarea rows=\"12\" cols=\"50\" onclick=\"this.select()\" readonly>\\begin{tabular}{|c|r|r|r|r|r|r|r|c|}\n",
       "\\hline\n",
       " & Name & Value & Para Error & Error+ & Error- & Limit+ & Limit- & FIXED\\\\\n",
       "\\hline\n",
       "1 & amplitude & 1.279e-10 & 1.584e-12 &  &  &  &  & \\\\\n",
       "\\hline\n",
       "2 & index & 1.647e+00 & 2.610e-02 &  &  &  &  & \\\\\n",
       "\\hline\n",
       "3 & $energy_{cut}$ & 2.954e+03 & 1.322e+02 &  &  &  &  & \\\\\n",
       "\\hline\n",
       "\\end{tabular}</textarea>\n",
       "            </pre>\n",
       "            "
      ]
     },
     "metadata": {},
     "output_type": "display_data"
    },
    {
     "data": {
      "text/html": [
       "<hr>"
      ]
     },
     "metadata": {},
     "output_type": "display_data"
    },
    {
     "data": {
      "text/plain": [
       "({'has_reached_call_limit': False, 'has_posdef_covar': True, 'up': 1.0, 'has_made_posdef_covar': False, 'is_above_max_edm': False, 'has_accurate_covar': True, 'is_valid': True, 'nfcn': 71, 'has_covariance': True, 'has_valid_parameters': True, 'fval': 55.11415067891237, 'edm': 4.4493011180702984e-07, 'hesse_failed': False},\n",
       " [{'is_const': False, 'upper_limit': 0.0, 'has_upper_limit': False, 'name': 'amplitude', 'is_fixed': False, 'has_limits': False, 'error': 1.5835329798426252e-12, 'has_lower_limit': False, 'value': 1.2791749556592422e-10, 'lower_limit': 0.0, 'number': 0},\n",
       "  {'is_const': False, 'upper_limit': 0.0, 'has_upper_limit': False, 'name': 'index', 'is_fixed': False, 'has_limits': False, 'error': 0.026095972909697878, 'has_lower_limit': False, 'value': 1.6473432003473054, 'lower_limit': 0.0, 'number': 1},\n",
       "  {'is_const': False, 'upper_limit': 0.0, 'has_upper_limit': False, 'name': 'energy_cut', 'is_fixed': False, 'has_limits': False, 'error': 132.17876069891886, 'has_lower_limit': False, 'value': 2953.5540418278893, 'lower_limit': 0.0, 'number': 2}])"
      ]
     },
     "execution_count": 12,
     "metadata": {},
     "output_type": "execute_result"
    }
   ],
   "source": [
    "minuit.migrad() # Performs the minimization"
   ]
  },
  {
   "cell_type": "code",
   "execution_count": 13,
   "metadata": {
    "collapsed": false,
    "deletable": true,
    "editable": true
   },
   "outputs": [
    {
     "name": "stdout",
     "output_type": "stream",
     "text": [
      "{'amplitude': 1.2791749556592422e-10,\n",
      " 'energy_cut': 2953.5540418278893,\n",
      " 'index': 1.6473432003473054}\n",
      "{'amplitude': 1.5835329798426252e-12,\n",
      " 'energy_cut': 132.17876069891886,\n",
      " 'index': 0.026095972909697878}\n"
     ]
    }
   ],
   "source": [
    "pprint(minuit.values)\n",
    "pprint(minuit.errors)"
   ]
  },
  {
   "cell_type": "markdown",
   "metadata": {
    "deletable": true,
    "editable": true
   },
   "source": [
    "## Final plot\n",
    "\n",
    "Adding the fitted model to the plot from above."
   ]
  },
  {
   "cell_type": "code",
   "execution_count": 14,
   "metadata": {
    "collapsed": false,
    "deletable": true,
    "editable": true
   },
   "outputs": [
    {
     "data": {
      "text/plain": [
       "[<matplotlib.lines.Line2D at 0x1a7b6a61400>]"
      ]
     },
     "execution_count": 14,
     "metadata": {},
     "output_type": "execute_result"
    },
    {
     "data": {
      "image/png": "[encoded data removed]",
      "text/plain": [
       "<matplotlib.figure.Figure at 0x1a7b54afe48>"
      ]
     },
     "metadata": {},
     "output_type": "display_data"
    }
   ],
   "source": [
    "source.spectral_model.plot(source.energy_range, **opts)\n",
    "\n",
    "plt.errorbar(x=data['e_ref'],\n",
    "             y = data['dnde'],\n",
    "             yerr = data['dnde_err'],\n",
    "             fmt='.'\n",
    "            )\n",
    "\n",
    "\n",
    "from gammapy.utils.energy import Energy\n",
    "energy = Energy.equal_log_spacing(\n",
    "    emin=source.energy_range[0],\n",
    "    emax=source.energy_range[1],\n",
    "    nbins=100,\n",
    ")\n",
    "\n",
    "\n",
    "flux = dnde_model_ecpl(\n",
    "    energy=energy.to('MeV').value,\n",
    "    amplitude = minuit.values['amplitude'],\n",
    "    index = minuit.values['index'],\n",
    "    energy_cut = minuit.values['energy_cut'],\n",
    "    reference=p['reference'].value,\n",
    ")\n",
    "plt.plot(energy, flux)"
   ]
  }
 ],
 "metadata": {
  "anaconda-cloud": {},
  "kernelspec": {
   "display_name": "Python 3",
   "language": "python",
   "name": "python3"
  },
  "language_info": {
   "codemirror_mode": {
    "name": "ipython",
    "version": 3
   },
   "file_extension": ".py",
   "mimetype": "text/x-python",
   "name": "python",
   "nbconvert_exporter": "python",
   "pygments_lexer": "ipython3",
   "version": "3.5.1"
  }
 },
 "nbformat": 4,
 "nbformat_minor": 2
}
