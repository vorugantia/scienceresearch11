{
 "cells": [
  {
   "cell_type": "markdown",
   "metadata": {},
   "source": [
    "# Getting started with Gammapy\n",
    "\n",
    "I'm following along the tutorial [here](http://nbviewer.jupyter.org/github/gammapy/gammapy-extra/blob/master/notebooks/first_steps.ipynb) and copying over code to make sure I can produce the same plots."
   ]
  },
  {
   "cell_type": "markdown",
   "metadata": {},
   "source": [
    "## Setup"
   ]
  },
  {
   "cell_type": "code",
   "execution_count": 13,
   "metadata": {
    "collapsed": true
   },
   "outputs": [],
   "source": [
    "%matplotlib inline\n",
    "import matplotlib.pyplot as plt\n",
    "plt.style.use('ggplot')\n",
    "\n",
    "import numpy as np\n",
    "import astropy.units as u\n",
    "from gammapy.catalog import source_catalogs"
   ]
  },
  {
   "cell_type": "markdown",
   "metadata": {},
   "source": [
    "## Dataset\n",
    "\n",
    "* Load 2FHL catalog, select brightest sources.\n",
    "* Load event list, cone select events and print some stats"
   ]
  },
  {
   "cell_type": "code",
   "execution_count": 9,
   "metadata": {
    "collapsed": false
   },
   "outputs": [
    {
     "name": "stdout",
     "output_type": "stream",
     "text": [
      "   Source_Name       ASSOC     CLASS\n",
      "----------------- ------------ -----\n",
      "2FHL J1104.4+3812      Mkn 421   bll\n",
      "2FHL J0534.5+2201         Crab   pwn\n",
      "2FHL J1653.9+3945      Mkn 501   bll\n",
      "2FHL J1555.7+1111  PG 1553+113   bll\n",
      "2FHL J2158.8-3013 PKS 2155-304   bll\n",
      "2FHL J0507.9+6737 1ES 0502+675   bll\n",
      "2FHL J1427.0+2348 PKS 1424+240   bll\n",
      "2FHL J0222.6+4301       3C 66A   bll\n",
      "2FHL J1015.0+4926  1H 1013+498   bll\n"
     ]
    }
   ],
   "source": [
    "cat = source_catalogs['2fhl']\n",
    "table = cat.table\n",
    "table.sort('TS')\n",
    "table = table[::-1]  # every 1st element, starting from the end of the list\n",
    "table[:9][['Source_Name', 'ASSOC', 'CLASS']].pprint()"
   ]
  },
  {
   "cell_type": "markdown",
   "metadata": {},
   "source": [
    "## Images\n",
    "\n",
    "* Make counts image"
   ]
  },
  {
   "cell_type": "code",
   "execution_count": 10,
   "metadata": {
    "collapsed": true
   },
   "outputs": [],
   "source": [
    "# TODO"
   ]
  },
  {
   "cell_type": "markdown",
   "metadata": {},
   "source": [
    "## Spectra Plots\n",
    "\n",
    "* Plot spectra\n",
    "* Plot energy distributions"
   ]
  },
  {
   "cell_type": "code",
   "execution_count": 11,
   "metadata": {
    "collapsed": true
   },
   "outputs": [],
   "source": [
    "source = cat['2FHL J0534.5+2201'] # Crab"
   ]
  },
  {
   "cell_type": "code",
   "execution_count": 30,
   "metadata": {
    "collapsed": false
   },
   "outputs": [
    {
     "name": "stdout",
     "output_type": "stream",
     "text": [
      "     ENERGY     ENERGY_ERR_HI ...  DIFF_FLUX_ERR_HI  DIFF_FLUX_ERR_LO \n",
      "      TeV            GeV      ...  1 / (cm2 s TeV)   1 / (cm2 s TeV)  \n",
      "--------------- ------------- ... ----------------- ------------------\n",
      "0.0924662100445 78.5337899555 ... 2.23818967156e-11 -1.60496821024e-11\n",
      " 0.316283101035 268.716898965 ... 6.25183928301e-12                nan\n",
      "  1.08166538264 918.334617361 ...  2.0050402582e-12                nan\n"
     ]
    },
    {
     "data": {
      "text/plain": [
       "<matplotlib.axes._subplots.AxesSubplot at 0x1bd564020b8>"
      ]
     },
     "execution_count": 30,
     "metadata": {},
     "output_type": "execute_result"
    },
    {
     "data": {
      "image/png": "[encoded data removed]",
      "text/plain": [
       "<matplotlib.figure.Figure at 0x1bd5647aac8>"
      ]
     },
     "metadata": {},
     "output_type": "display_data"
    }
   ],
   "source": [
    "energy_range = [50 * u.GeV, 1 * u.TeV]\n",
    "print(source.flux_points)\n",
    "source.flux_points.plot()\n",
    "\n",
    "source.spectral_model.plot(energy_range=[40, 4000] * u.GeV, energy_power=2)"
   ]
  },
  {
   "cell_type": "markdown",
   "metadata": {},
   "source": [
    "(Skipping the light curve tutorial)"
   ]
  }
 ],
 "metadata": {
  "kernelspec": {
   "display_name": "Python 3",
   "language": "python",
   "name": "python3"
  },
  "language_info": {
   "codemirror_mode": {
    "name": "ipython",
    "version": 3
   },
   "file_extension": ".py",
   "mimetype": "text/x-python",
   "name": "python",
   "nbconvert_exporter": "python",
   "pygments_lexer": "ipython3",
   "version": "3.5.1"
  }
 },
 "nbformat": 4,
 "nbformat_minor": 0
}
