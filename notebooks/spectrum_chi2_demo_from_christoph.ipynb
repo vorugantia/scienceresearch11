{
 "cells": [
  {
   "cell_type": "markdown",
   "metadata": {},
   "source": [
    "# Fitting the H.E.S.S. Crab spectrum with iminuit and emcee\n",
    "\n",
    "As an example of a chi^2 fit, we use the flux points from the Crab nebula\n",
    "as measured by H.E.S.S. in 2006:  http://adsabs.harvard.edu/abs/2006A%26A...457..899A"
   ]
  },
  {
   "cell_type": "code",
   "execution_count": 1,
   "metadata": {
    "collapsed": true
   },
   "outputs": [],
   "source": [
    "%matplotlib inline\n",
    "import numpy as np\n",
    "import pandas as pd\n",
    "import matplotlib.pyplot as plt\n",
    "plt.style.use('ggplot')"
   ]
  },
  {
   "cell_type": "markdown",
   "metadata": {},
   "source": [
    "## The data\n",
    "\n",
    "We start by loading the flux points from a text file.\n",
    "\n",
    "It is of course possible to load this data using just Python\n",
    "or Numpy, but we'll use the [pandas.read_table](http://pandas.pydata.org/pandas-docs/stable/generated/pandas.read_table.html) function\n",
    "because it's very flexible, i.e. by setting a few arguments you'll\n",
    "be able to load most ascii tables.\n",
    "\n",
    "**EDIT: Now I will try to replace the pandas data table with Gammapy's FluxPoints class. I will select the source 3FGL J1459.4-6053.**"
   ]
  },
  {
   "cell_type": "code",
   "execution_count": 52,
   "metadata": {
    "collapsed": false,
    "scrolled": false
   },
   "outputs": [
    {
     "name": "stdout",
     "output_type": "stream",
     "text": [
      "<Table length=5>\n",
      "   name     dtype        unit     \n",
      "---------- ------- ---------------\n",
      "     e_ref float64             MeV\n",
      "     e_min float64             MeV\n",
      "     e_max float64             MeV\n",
      "      flux float32     1 / (cm2 s)\n",
      " flux_errn float32     1 / (cm2 s)\n",
      " flux_errp float32     1 / (cm2 s)\n",
      "     eflux float32   erg / (cm2 s)\n",
      "eflux_errn float32   erg / (cm2 s)\n",
      "eflux_errp float32   erg / (cm2 s)\n",
      "      dnde float64 1 / (cm2 MeV s)\n",
      "  dnde_err float64 1 / (cm2 MeV s)\n"
     ]
    }
   ],
   "source": [
    "from gammapy.catalog import SourceCatalog3FGL, SourceCatalogObject3FGL\n",
    "\n",
    "cat = SourceCatalog3FGL()\n",
    "source = cat['3FGL J1459.4-6053']\n",
    "# source = cat['3FGL J0534.5+2201i'] # crab\n",
    "data = source.flux_points.table\n",
    "\n",
    "\n",
    "# t = source.flux_points.table\n",
    "data['dnde'] = data['dnde'].to('cm-2 s-1 MeV-1')\n",
    "dnde_err = data['dnde'] * (data['flux_errn'] / data['flux'])\n",
    "data['dnde_err'] = dnde_err.to(data['dnde'].unit)\n",
    "\n",
    "data.info()\n",
    "# data.show_in_notebook()"
   ]
  },
  {
   "cell_type": "code",
   "execution_count": 9,
   "metadata": {
    "collapsed": false
   },
   "outputs": [
    {
     "name": "stdout",
     "output_type": "stream",
     "text": [
      "{'amplitude': <Quantity 1.545281264059284e-11 1 / (cm2 MeV s)>,\n",
      " 'ecut': <Quantity 3130.83056640625 MeV>,\n",
      " 'index': <Quantity 1.8699387311935425>,\n",
      " 'reference': <Quantity 1085.46142578125 MeV>}\n"
     ]
    }
   ],
   "source": [
    "from pprint import pprint\n",
    "pprint(source.spectral_model.parameters)"
   ]
  },
  {
   "cell_type": "code",
   "execution_count": 55,
   "metadata": {
    "collapsed": false
   },
   "outputs": [
    {
     "name": "stdout",
     "output_type": "stream",
     "text": [
      "[    100.  100000.] MeV\n",
      "1085.46142578125 MeV\n",
      "1.545281264059284e-11 1 / (cm2 MeV s)\n"
     ]
    },
    {
     "data": {
      "text/html": [
       "&lt;Table length=5&gt;\n",
       "<table id=\"table4481387656\" class=\"table-striped table-bordered table-condensed\">\n",
       "<thead><tr><th>e_ref</th><th>dnde</th><th>dnde_err</th></tr></thead>\n",
       "<thead><tr><th>MeV</th><th>1 / (cm2 MeV s)</th><th>1 / (cm2 MeV s)</th></tr></thead>\n",
       "<thead><tr><th>float64</th><th>float64</th><th>float64</th></tr></thead>\n",
       "<tr><td>173.205080757</td><td>6.49591659276e-10</td><td>1.06823212212e-10</td></tr>\n",
       "<tr><td>547.722557505</td><td>6.70232016236e-11</td><td>4.80963380543e-12</td></tr>\n",
       "<tr><td>1732.05080757</td><td>5.21379369508e-12</td><td>2.53808176338e-13</td></tr>\n",
       "<tr><td>5477.22557505</td><td>1.86889846596e-13</td><td>1.5992033305e-14</td></tr>\n",
       "<tr><td>31622.7766017</td><td>2.85186831677e-16</td><td>1.26925782458e-16</td></tr>\n",
       "</table>"
      ],
      "text/plain": [
       "<Table length=5>\n",
       "    e_ref            dnde            dnde_err    \n",
       "     MeV       1 / (cm2 MeV s)   1 / (cm2 MeV s) \n",
       "   float64         float64           float64     \n",
       "------------- ----------------- -----------------\n",
       "173.205080757 6.49591659276e-10 1.06823212212e-10\n",
       "547.722557505 6.70232016236e-11 4.80963380543e-12\n",
       "1732.05080757 5.21379369508e-12 2.53808176338e-13\n",
       "5477.22557505 1.86889846596e-13  1.5992033305e-14\n",
       "31622.7766017 2.85186831677e-16 1.26925782458e-16"
      ]
     },
     "execution_count": 55,
     "metadata": {},
     "output_type": "execute_result"
    },
    {
     "data": {
      "image/png": "[encoded data removed]",
      "text/plain": [
       "<matplotlib.figure.Figure at 0x10b3bd128>"
      ]
     },
     "metadata": {},
     "output_type": "display_data"
    }
   ],
   "source": [
    "print(source.energy_range)\n",
    "opts = dict(energy_unit='MeV', flux_unit='cm-2 s-1 MeV-1')\n",
    "# source.flux_points.plot(**opts)\n",
    "source.spectral_model.plot(source.energy_range, **opts)\n",
    "\n",
    "p = source.spectral_model.parameters\n",
    "e_ref = p['reference']\n",
    "print(e_ref)\n",
    "print(p['amplitude'])\n",
    "plt.plot(e_ref.value, p['amplitude'].value, '*')\n",
    "\n",
    "# data['dnde']\n",
    "plt.errorbar(x=data['e_ref'], y=data['dnde'], yerr=data['dnde_err'], fmt='*')\n",
    "\n",
    "# print(source.spectral_model(energy=e_ref))\n",
    "# source.spectral_model.plot?\n",
    "cols = ['e_ref', 'dnde', 'dnde_err']\n",
    "data[cols]"
   ]
  },
  {
   "cell_type": "code",
   "execution_count": 34,
   "metadata": {
    "collapsed": false
   },
   "outputs": [
    {
     "data": {
      "text/plain": [
       "[<matplotlib.lines.Line2D at 0x10acc86d8>]"
      ]
     },
     "execution_count": 34,
     "metadata": {},
     "output_type": "execute_result"
    },
    {
     "data": {
      "image/png": "[encoded data removed]",
      "text/plain": [
       "<matplotlib.figure.Figure at 0x10ae4d438>"
      ]
     },
     "metadata": {},
     "output_type": "display_data"
    }
   ],
   "source": [
    "# plt.plot([1, 2],[7, 3])"
   ]
  },
  {
   "cell_type": "markdown",
   "metadata": {},
   "source": [
    "## The model\n",
    "\n",
    "In the paper they fit a power-law with an exponential cutoff and find the following parameters (see row \"all\" in table 6):\n",
    "* gamma = 2.39 +- 0.03\n",
    "* energy_cut = 14.3 +- 2.1 TeV\n",
    "* flux1 = (3.76 +- 0.07) x 1e-11 cm^-2 s^-1 TeV^-1\n",
    "\n",
    "The flux1 is the differential flux at 1 TeV.\n",
    "\n",
    "Let's code up that model ...\n",
    "\n",
    "\n",
    "TODO: extend this tutorial to also consider a power-law model and compare the two models via chi2 / ndf."
   ]
  },
  {
   "cell_type": "code",
   "execution_count": 56,
   "metadata": {
    "collapsed": true
   },
   "outputs": [],
   "source": [
    "def flux_ecpl(energy, flux1, gamma, energy_cut):\n",
    "    return flux1 * energy ** (-gamma) * np.exp(-energy / energy_cut)"
   ]
  },
  {
   "cell_type": "markdown",
   "metadata": {},
   "source": [
    "## Plot data and model\n",
    "\n",
    "Let's plot the data and model and compare to Figure 18b\n",
    "from the paper ..."
   ]
  },
  {
   "cell_type": "code",
   "execution_count": 4,
   "metadata": {
    "collapsed": false
   },
   "outputs": [
    {
     "data": {
      "image/png": "[encoded data removed]",
      "text/plain": [
       "<matplotlib.figure.Figure at 0x1cf30530da0>"
      ]
     },
     "metadata": {},
     "output_type": "display_data"
    }
   ],
   "source": [
    "energy = np.logspace(-0.5, 1.6, 100)\n",
    "\n",
    "# What three values should I use here for the new source? Right now they are\n",
    "# for the Crab model.\n",
    "flux = flux_ecpl(energy, flux1=3.76e-11, gamma=2.39, energy_cut=14.3)\n",
    "\n",
    "plt.plot(energy, flux)\n",
    "\n",
    "plt.errorbar(x=data['e_ref'] / 1e6, # convert MeV to TeV\n",
    "             y=data['dnde'],\n",
    "             yerr=data['flux_errp'], # or is it ['flux_errn']?\n",
    "             fmt='.'\n",
    "            )\n",
    "plt.loglog();"
   ]
  },
  {
   "cell_type": "code",
   "execution_count": 5,
   "metadata": {
    "collapsed": false
   },
   "outputs": [
    {
     "name": "stderr",
     "output_type": "stream",
     "text": [
      "C:\\Users\\arjun_000\\Anaconda3\\lib\\site-packages\\pandas\\io\\parsers.py:1961: FutureWarning: split() requires a non-empty pattern match.\n",
      "  yield pat.split(line.strip())\n",
      "C:\\Users\\arjun_000\\Anaconda3\\lib\\site-packages\\pandas\\io\\parsers.py:1963: FutureWarning: split() requires a non-empty pattern match.\n",
      "  yield pat.split(line.strip())\n"
     ]
    },
    {
     "data": {
      "text/plain": [
       "[]"
      ]
     },
     "execution_count": 5,
     "metadata": {},
     "output_type": "execute_result"
    },
    {
     "data": {
      "image/png": "[encoded data removed]",
      "text/plain": [
       "<matplotlib.figure.Figure at 0x1cf32e4f780>"
      ]
     },
     "metadata": {},
     "output_type": "display_data"
    }
   ],
   "source": [
    "# This is the plot for the Crab model using data from the .txt file.\n",
    "\n",
    "data2 = pd.read_table('../datasets/spectrum_crab_hess_2006/spectrum_crab_hess_2006.txt',\n",
    "                    comment='#', sep='\\s*', engine='python')\n",
    "plt.plot(energy, flux)\n",
    "plt.errorbar(x=data2['energy'],\n",
    "             y=data2['flux'],\n",
    "             yerr=data2['flux_err'],\n",
    "             fmt='.'\n",
    "            )\n",
    "plt.loglog()"
   ]
  },
  {
   "cell_type": "markdown",
   "metadata": {},
   "source": [
    "# The likelihood\n",
    "\n",
    "In this case we'll use a chi^2 likelihood function to\n",
    "fit the model to the data.\n",
    "\n",
    "Note that the likelihood function combines the data and model, and just depends on the model parameters that\n",
    "shall be estimated (whereas the model function `flux_ecpl` has an extra parameter `energy`).\n",
    "\n",
    "Also note that we're accessing `data` and model `flux_ecpl` from the global scope instead of passing them in explicitly as parameters. Modeling and fitting frameworks like e.g. Sherpa have more elaborate ways to combine data and models and likelihood functions, but for simple, small code examples like we do here, using the global scope to tie things together works just fine."
   ]
  },
  {
   "cell_type": "code",
   "execution_count": 65,
   "metadata": {
    "collapsed": false
   },
   "outputs": [
    {
     "name": "stdout",
     "output_type": "stream",
     "text": [
      "{'amplitude': <Quantity 1.545281264059284e-11 1 / (cm2 MeV s)>,\n",
      " 'ecut': <Quantity 3130.83056640625 MeV>,\n",
      " 'index': <Quantity 1.8699387311935425>,\n",
      " 'reference': <Quantity 1085.46142578125 MeV>}\n"
     ]
    },
    {
     "data": {
      "text/latex": [
       "$1.5452813 \\times 10^{-11} \\; \\mathrm{\\frac{1}{MeV\\,s\\,cm^{2}}}$"
      ],
      "text/plain": [
       "<Quantity 1.545281264059284e-11 1 / (cm2 MeV s)>"
      ]
     },
     "execution_count": 65,
     "metadata": {},
     "output_type": "execute_result"
    }
   ],
   "source": [
    "data # Table object\n",
    "pprint(source.spectral_model.parameters)\n",
    "\n",
    "import astropy.units as u\n",
    "source.spectral_model(1085.46142578125 * u.MeV)"
   ]
  },
  {
   "cell_type": "code",
   "execution_count": 75,
   "metadata": {
    "collapsed": true
   },
   "outputs": [],
   "source": [
    "def dnde_model_ecpl(energy, amplitude, index, energy_cut, reference):\n",
    "    return amplitude * (energy / reference) ** (-index) * np.exp((reference -energy) / energy_cut)\n",
    "\n",
    "def chi2(amplitude, index, energy_cut):\n",
    "    dnde_model = dnde_model_ecpl(\n",
    "        energy=data['e_ref'],\n",
    "        amplitude=amplitude,\n",
    "        index=index,\n",
    "        energy_cut=energy_cut,\n",
    "        reference=1085.46142578125,\n",
    "    )\n",
    "    chi = (data['dnde'] - dnde_model) / data['dnde_err']\n",
    "    return np.sum(chi ** 2)"
   ]
  },
  {
   "cell_type": "code",
   "execution_count": 78,
   "metadata": {
    "collapsed": false
   },
   "outputs": [
    {
     "data": {
      "text/plain": [
       "1.5452812640592839e-11"
      ]
     },
     "execution_count": 78,
     "metadata": {},
     "output_type": "execute_result"
    }
   ],
   "source": [
    "\n",
    "# Test one example evaluation\n",
    "dnde_model_ecpl(\n",
    "    energy=1085.46142578125, amplitude=1.545281264059284e-11,\n",
    "    index=1.8699387311935425, energy_cut=3130.83056640625,\n",
    "    reference=1085.46142578125,\n",
    ")"
   ]
  },
  {
   "cell_type": "code",
   "execution_count": null,
   "metadata": {
    "collapsed": true
   },
   "outputs": [],
   "source": [
    "class Chi2Fitter(object):\n",
    "    def __init__(self, flux_points, spectral_model):\n",
    "        self.flux_points = flux_points\n",
    "        self.spectral_model = spectral_model\n",
    "    \n",
    "    def fit(self):\n",
    "        # create chi2 function\n",
    "        # create Minuit object\n",
    "        # call m.migrad()\n",
    "        # call m.hesse()\n",
    "        # Access or pretty-print best-fit parameters and parameter errors\n",
    "        # Maybe: plot results\n",
    "\n",
    "# to use it:\n",
    "# Load up HESS data into an Astropy Table with cols: e_ref, dnde, dnde_err\n",
    "# Load up Fermi data into an Astropy Table with cols: e_ref, dnde, dnde_err\n",
    "from astropy.table import vstack as vstack_table\n",
    "table = vstack_table([hess_data.flux_points.table, fermi_data.flux_points.table])\n",
    "flux_points = FluxPoints(table)\n",
    "# Now have all data in one table\n",
    "\n",
    "from gammapy.spectrum.models import LogParabola\n",
    "\n",
    "spectral_model = LogParabola(...) # pass some parameters so that it's very roughly a Fermi / HESS spectrum\n",
    "\n",
    "fitter = Chi2Fitter(flux_points=flux_points, spectral_model=spectral_model)\n",
    "fitter.fit()\n",
    "print(fitter.results)"
   ]
  },
  {
   "cell_type": "code",
   "execution_count": 7,
   "metadata": {
    "collapsed": true
   },
   "outputs": [],
   "source": [
    "# TODO: visualise the likelihood as a 1D profile or\n",
    "# 2D contour to check that the implementation is OK\n",
    "# before fitting. E.g. reproduce Fig 19 from the paper?\n",
    "# Maybe talk about how chi2 differences relate to\n",
    "# confidence levels here?"
   ]
  },
  {
   "cell_type": "markdown",
   "metadata": {},
   "source": [
    "## ML fit with Minuit\n",
    "\n",
    "Let's use Minuit to do a maximum likelihood (ML) analysis.\n",
    "\n",
    "Note that this is not what they did in the paper (TODO: check), so it's not surprising if best-fit results\n",
    "are a little different."
   ]
  },
  {
   "cell_type": "code",
   "execution_count": 76,
   "metadata": {
    "collapsed": false
   },
   "outputs": [
    {
     "name": "stderr",
     "output_type": "stream",
     "text": [
      "/opt/local/Library/Frameworks/Python.framework/Versions/3.5/lib/python3.5/site-packages/ipykernel/__main__.py:4: InitialParamWarning: errordef is not given. Default to 1.\n",
      "/opt/local/Library/Frameworks/Python.framework/Versions/3.5/lib/python3.5/site-packages/ipykernel/__main__.py:4: InitialParamWarning: Parameter amplitude is floating but does not have initial step size. Assume 1.\n",
      "/opt/local/Library/Frameworks/Python.framework/Versions/3.5/lib/python3.5/site-packages/ipykernel/__main__.py:4: InitialParamWarning: Parameter index is floating but does not have initial step size. Assume 1.\n",
      "/opt/local/Library/Frameworks/Python.framework/Versions/3.5/lib/python3.5/site-packages/ipykernel/__main__.py:4: InitialParamWarning: Parameter energy_cut is floating but does not have initial step size. Assume 1.\n"
     ]
    },
    {
     "data": {
      "text/html": [
       "<hr>"
      ]
     },
     "metadata": {},
     "output_type": "display_data"
    },
    {
     "data": {
      "text/html": [
       "\n",
       "        <table>\n",
       "            <tr>\n",
       "                <td title=\"Minimum value of function\">FCN = 4.993143110998242</td>\n",
       "                <td title=\"Total number of call to FCN so far\">TOTAL NCALL = 70</td>\n",
       "                <td title=\"Number of call in last migrad\">NCALLS = 70</td>\n",
       "            </tr>\n",
       "            <tr>\n",
       "                <td title=\"Estimated distance to minimum\">EDM = 5.9463735714717e-06</td>\n",
       "                <td title=\"Maximum EDM definition of convergence\">GOAL EDM = 1e-05</td>\n",
       "                <td title=\"Error def. Amount of increase in FCN to be defined as 1 standard deviation\">\n",
       "                UP = 1.0</td>\n",
       "            </tr>\n",
       "        </table>\n",
       "        \n",
       "        <table>\n",
       "            <tr>\n",
       "                <td align=\"center\" title=\"Validity of the migrad call\">Valid</td>\n",
       "                <td align=\"center\" title=\"Validity of parameters\">Valid Param</td>\n",
       "                <td align=\"center\" title=\"Is Covariance matrix accurate?\">Accurate Covar</td>\n",
       "                <td align=\"center\" title=\"Positive definiteness of covariance matrix\">PosDef</td>\n",
       "                <td align=\"center\" title=\"Was covariance matrix made posdef by adding diagonal element\">Made PosDef</td>\n",
       "            </tr>\n",
       "            <tr>\n",
       "                <td align=\"center\" style=\"background-color:#92CCA6\">True</td>\n",
       "                <td align=\"center\" style=\"background-color:#92CCA6\">True</td>\n",
       "                <td align=\"center\" style=\"background-color:#92CCA6\">True</td>\n",
       "                <td align=\"center\" style=\"background-color:#92CCA6\">True</td>\n",
       "                <td align=\"center\" style=\"background-color:#92CCA6\">False</td>\n",
       "            </tr>\n",
       "            <tr>\n",
       "                <td align=\"center\" title=\"Was last hesse call fail?\">Hesse Fail</td>\n",
       "                <td align=\"center\" title=\"Validity of covariance\">HasCov</td>\n",
       "                <td align=\"center\" title=\"Is EDM above goal EDM?\">Above EDM</td>\n",
       "                <td align=\"center\"></td>\n",
       "                <td align=\"center\" title=\"Did last migrad call reach max call limit?\">Reach calllim</td>\n",
       "            </tr>\n",
       "            <tr>\n",
       "                <td align=\"center\" style=\"background-color:#92CCA6\">False</td>\n",
       "                <td align=\"center\" style=\"background-color:#92CCA6\">True</td>\n",
       "                <td align=\"center\" style=\"background-color:#92CCA6\">False</td>\n",
       "                <td align=\"center\"></td>\n",
       "                <td align=\"center\" style=\"background-color:#92CCA6\">False</td>\n",
       "            </tr>\n",
       "        </table>\n",
       "        "
      ]
     },
     "metadata": {},
     "output_type": "display_data"
    },
    {
     "data": {
      "text/html": [
       "\n",
       "        <table>\n",
       "            <tr>\n",
       "                <td><a href=\"#\" onclick=\"$('#IlzCrwzgZb').toggle()\">+</a></td>\n",
       "                <td title=\"Variable name\">Name</td>\n",
       "                <td title=\"Value of parameter\">Value</td>\n",
       "                <td title=\"Parabolic error\">Parab Error</td>\n",
       "                <td title=\"Minos lower error\">Minos Error-</td>\n",
       "                <td title=\"Minos upper error\">Minos Error+</td>\n",
       "                <td title=\"Lower limit of the parameter\">Limit-</td>\n",
       "                <td title=\"Upper limit of the parameter\">Limit+</td>\n",
       "                <td title=\"Is the parameter fixed in the fit\">FIXED</td>\n",
       "            </tr>\n",
       "        \n",
       "            <tr>\n",
       "                <td>1</td>\n",
       "                <td>amplitude</td>\n",
       "                <td>1.54312e-11</td>\n",
       "                <td>1.63009e-12</td>\n",
       "                <td>0</td>\n",
       "                <td>0</td>\n",
       "                <td></td>\n",
       "                <td></td>\n",
       "                <td></td>\n",
       "            </tr>\n",
       "            \n",
       "            <tr>\n",
       "                <td>2</td>\n",
       "                <td>index</td>\n",
       "                <td>1.89632</td>\n",
       "                <td>0.147375</td>\n",
       "                <td>0</td>\n",
       "                <td>0</td>\n",
       "                <td></td>\n",
       "                <td></td>\n",
       "                <td></td>\n",
       "            </tr>\n",
       "            \n",
       "            <tr>\n",
       "                <td>3</td>\n",
       "                <td>energy_cut</td>\n",
       "                <td>3270.3</td>\n",
       "                <td>1121.69</td>\n",
       "                <td>0</td>\n",
       "                <td>0</td>\n",
       "                <td></td>\n",
       "                <td></td>\n",
       "                <td></td>\n",
       "            </tr>\n",
       "            \n",
       "            </table>\n",
       "        \n",
       "            <pre id=\"IlzCrwzgZb\" style=\"display:none;\">\n",
       "            <textarea rows=\"12\" cols=\"50\" onclick=\"this.select()\" readonly>\\begin{tabular}{|c|r|r|r|r|r|r|r|c|}\n",
       "\\hline\n",
       " & Name & Value & Para Error & Error+ & Error- & Limit+ & Limit- & FIXED\\\\\n",
       "\\hline\n",
       "1 & amplitude & 1.543e-11 & 1.630e-12 &  &  &  &  & \\\\\n",
       "\\hline\n",
       "2 & index & 1.896e+00 & 1.474e-01 &  &  &  &  & \\\\\n",
       "\\hline\n",
       "3 & $energy_{cut}$ & 3.270e+03 & 1.122e+03 &  &  &  &  & \\\\\n",
       "\\hline\n",
       "\\end{tabular}</textarea>\n",
       "            </pre>\n",
       "            "
      ]
     },
     "metadata": {},
     "output_type": "display_data"
    },
    {
     "data": {
      "text/html": [
       "<hr>"
      ]
     },
     "metadata": {},
     "output_type": "display_data"
    },
    {
     "data": {
      "text/plain": [
       "({'has_valid_parameters': True, 'nfcn': 70, 'is_valid': True, 'edm': 5.9463735714717e-06, 'has_covariance': True, 'has_reached_call_limit': False, 'has_made_posdef_covar': False, 'is_above_max_edm': False, 'has_posdef_covar': True, 'fval': 4.993143110998242, 'hesse_failed': False, 'up': 1.0, 'has_accurate_covar': True},\n",
       " [{'has_limits': False, 'number': 0, 'name': 'amplitude', 'error': 1.6300865229328577e-12, 'has_lower_limit': False, 'upper_limit': 0.0, 'has_upper_limit': False, 'lower_limit': 0.0, 'is_const': False, 'value': 1.5431202012178562e-11, 'is_fixed': False},\n",
       "  {'has_limits': False, 'number': 1, 'name': 'index', 'error': 0.14737492357580745, 'has_lower_limit': False, 'upper_limit': 0.0, 'has_upper_limit': False, 'lower_limit': 0.0, 'is_const': False, 'value': 1.8963171925248166, 'is_fixed': False},\n",
       "  {'has_limits': False, 'number': 2, 'name': 'energy_cut', 'error': 1121.6924863120232, 'has_lower_limit': False, 'upper_limit': 0.0, 'has_upper_limit': False, 'lower_limit': 0.0, 'is_const': False, 'value': 3270.301337657552, 'is_fixed': False}])"
      ]
     },
     "execution_count": 76,
     "metadata": {},
     "output_type": "execute_result"
    }
   ],
   "source": [
    "from iminuit import Minuit\n",
    "\n",
    "pars = dict(amplitude=1.545281264059284e-11, index=1.8699387311935425, energy_cut=3130.83056640625)\n",
    "m = Minuit(chi2, **pars)\n",
    "m.migrad()"
   ]
  },
  {
   "cell_type": "code",
   "execution_count": 77,
   "metadata": {
    "collapsed": false
   },
   "outputs": [
    {
     "name": "stdout",
     "output_type": "stream",
     "text": [
      "{'energy_cut': 3270.301337657552, 'amplitude': 1.5431202012178562e-11, 'index': 1.8963171925248166}\n",
      "{'energy_cut': 1121.6924863120232, 'amplitude': 1.6300865229328577e-12, 'index': 0.14737492357580745}\n"
     ]
    }
   ],
   "source": [
    "print(m.values)\n",
    "print(m.errors)"
   ]
  },
  {
   "cell_type": "markdown",
   "metadata": {},
   "source": [
    "## Analysis with emcee\n",
    "\n",
    "- Should we only do Bayesian analysis? (posterior sampling)\n",
    "- Or should we start with a ML analysis (likelihood sampling and compare with iminuit)"
   ]
  },
  {
   "cell_type": "code",
   "execution_count": 10,
   "metadata": {
    "collapsed": false
   },
   "outputs": [],
   "source": [
    "import emcee\n",
    "\n",
    "# TODO"
   ]
  },
  {
   "cell_type": "markdown",
   "metadata": {},
   "source": [
    "## Error propagation\n",
    "\n",
    "Often the fit parameters are not the quantities quoted when\n",
    "reporting the analysis results. Instead some other quantity\n",
    "that is a function of the fit parameters is of interest.\n",
    "\n",
    "In the Crab paper, the integral flux above 1 TeV is the\n",
    "main flux quantity that's reported int the abstract.\n",
    "\n",
    "Let's see how we can compute it and propagate the error\n",
    "on that quantity.\n",
    "\n",
    "TODO:\n",
    "- The samples from emcee can be used to do this.\n",
    "- For the iminuit analysis I'm not sure it's easily possible. There is [uncertainties](http://pythonhosted.org/uncertainties/), but it requires analytical formulae (automatic differentiation), and the integral flux of ECPL has to be computed numerically. Does it still work?\n",
    "- Maybe we should compute and plot \"spectrum butterflies\" as well?"
   ]
  }
 ],
 "metadata": {
  "anaconda-cloud": {},
  "kernelspec": {
   "display_name": "Python 3",
   "language": "python",
   "name": "python3"
  },
  "language_info": {
   "codemirror_mode": {
    "name": "ipython",
    "version": 3
   },
   "file_extension": ".py",
   "mimetype": "text/x-python",
   "name": "python",
   "nbconvert_exporter": "python",
   "pygments_lexer": "ipython3",
   "version": "3.5.3"
  }
 },
 "nbformat": 4,
 "nbformat_minor": 0
}
