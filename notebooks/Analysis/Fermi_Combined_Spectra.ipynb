{
 "cells": [
  {
   "cell_type": "markdown",
   "metadata": {
    "deletable": true,
    "editable": true
   },
   "source": [
    "Example to show how to plot spectrum of Fermi/LAT sources\n",
    "\n",
    "https://github.com/gammapy/gammapy/blob/master/examples/example_fermi_catalogs.py"
   ]
  },
  {
   "cell_type": "code",
   "execution_count": 9,
   "metadata": {
    "collapsed": true,
    "deletable": true,
    "editable": true
   },
   "outputs": [],
   "source": [
    "# import matplotlib.pyplot as plt\n",
    "\n",
    "# from gammapy.catalog import SourceCatalog3FGL, SourceCatalog2FHL, SourceCatalog1FHL, SourceCatalog3FHL\n",
    "# from gammapy.utils.energy import EnergyBounds"
   ]
  },
  {
   "cell_type": "code",
   "execution_count": 10,
   "metadata": {
    "collapsed": true,
    "deletable": true,
    "editable": true
   },
   "outputs": [],
   "source": [
    "# name = 'PKS 2155-304'"
   ]
  },
  {
   "cell_type": "code",
   "execution_count": 11,
   "metadata": {
    "collapsed": false,
    "deletable": true,
    "editable": true
   },
   "outputs": [],
   "source": [
    "# # load catalogs\n",
    "# fermi_3fgl = SourceCatalog3FGL()\n",
    "# fermi_2fhl = SourceCatalog2FHL()\n",
    "# fermi_1fhl = SourceCatalog1FHL()\n",
    "# # fermi_3fhl = SourceCatalog3FHL()"
   ]
  },
  {
   "cell_type": "code",
   "execution_count": 12,
   "metadata": {
    "collapsed": true,
    "deletable": true,
    "editable": true
   },
   "outputs": [],
   "source": [
    "# # access crab data by corresponding identifier\n",
    "# src_3fgl = fermi_3fgl[name]\n",
    "# src_2fhl = fermi_2fhl[name]\n",
    "# src_1fhl = fermi_1fhl[name]\n",
    "# # src_3fhl = fermi_3fhl[name]"
   ]
  },
  {
   "cell_type": "code",
   "execution_count": 13,
   "metadata": {
    "collapsed": false,
    "deletable": true,
    "editable": true,
    "scrolled": true
   },
   "outputs": [],
   "source": [
    "# # 3FGL\n",
    "# ax = src_3fgl.spectral_model.plot(src_3fgl.energy_range, energy_power=2,\n",
    "#                                   label='Fermi 3FGL', color='r',\n",
    "#                                   flux_unit='erg-1 cm-2 s-1')\n",
    "\n",
    "# src_3fgl.spectral_model.plot_error(src_3fgl.energy_range, ax=ax, energy_power=2,\n",
    "#                                   facecolor='r', flux_unit='erg-1 cm-2 s-1')\n",
    "\n",
    "# src_3fgl.flux_points.plot(ax=ax, sed_type='eflux', color='r',\n",
    "#                           flux_unit='erg cm-2 s-1')"
   ]
  },
  {
   "cell_type": "markdown",
   "metadata": {
    "deletable": true,
    "editable": true
   },
   "source": [
    "TRYING AGAIN - using same method from my other jupyter notebook, for all Fermi data."
   ]
  },
  {
   "cell_type": "code",
   "execution_count": 1,
   "metadata": {
    "collapsed": true,
    "deletable": true,
    "editable": true
   },
   "outputs": [],
   "source": [
    "%matplotlib inline\n",
    "import numpy as np\n",
    "import pandas as pd\n",
    "import matplotlib.pyplot as plt\n",
    "plt.style.use('ggplot')\n",
    "from pprint import pprint\n",
    "import astropy.units as u\n",
    "from astropy.units import Quantity"
   ]
  },
  {
   "cell_type": "code",
   "execution_count": 2,
   "metadata": {
    "collapsed": false,
    "deletable": true,
    "editable": true
   },
   "outputs": [],
   "source": [
    "from gammapy.catalog import SourceCatalog3FGL, SourceCatalog2FHL, SourceCatalog1FHL\n",
    "\n",
    "cat_3fgl = SourceCatalog3FGL()\n",
    "cat_2fhl = SourceCatalog2FHL()\n",
    "cat_1fhl = SourceCatalog1FHL()\n",
    "\n",
    "name = 'PKS 2155-304'\n",
    "\n",
    "source_3fgl = cat_3fgl[name]\n",
    "source_2fhl = cat_2fhl[name]\n",
    "source_1fhl = cat_1fhl[name]\n",
    "\n",
    "data_3fgl = source_3fgl.flux_points.table\n",
    "data_2fhl = source_2fhl.flux_points.table\n",
    "data_1fhl = source_1fhl.flux_points.table\n",
    "\n",
    "# Create flux error\n",
    "def getError(data):\n",
    "    return (data['dnde'] * (data['flux_errn'] / data['flux'])).to(data['dnde'].unit)\n",
    "\n",
    "data_3fgl['dnde_err'] = getError(data_3fgl)\n",
    "data_2fhl['dnde_err'] = getError(data_2fhl)\n",
    "data_1fhl['dnde_err'] = getError(data_1fhl)"
   ]
  },
  {
   "cell_type": "code",
   "execution_count": 3,
   "metadata": {
    "collapsed": false,
    "deletable": true,
    "editable": true
   },
   "outputs": [
    {
     "name": "stdout",
     "output_type": "stream",
     "text": [
      "ParameterList\n",
      "Parameter(name='amplitude', value=2.2036867122765535e-11, unit=Unit(\"1 / (cm2 MeV s)\"), min=0, max=None, frozen=False)\n",
      "Parameter(name='reference', value=904.0284423828125, unit=Unit(\"MeV\"), min=None, max=None, frozen=True)\n",
      "Parameter(name='alpha', value=1.7503279447555542, unit=Unit(dimensionless), min=None, max=None, frozen=False)\n",
      "Parameter(name='beta', value=0.039075858891010284, unit=Unit(dimensionless), min=None, max=None, frozen=False)\n",
      "\n",
      "Covariance: [[  1.44888846e-25   0.00000000e+00   0.00000000e+00   0.00000000e+00]\n",
      " [  0.00000000e+00   0.00000000e+00   0.00000000e+00   0.00000000e+00]\n",
      " [  0.00000000e+00   0.00000000e+00   3.13668917e-04   0.00000000e+00]\n",
      " [  0.00000000e+00   0.00000000e+00   0.00000000e+00   4.52646056e-05]]\n",
      "[    100.  100000.] MeV\n"
     ]
    }
   ],
   "source": [
    "print(source_3fgl.spectral_model.parameters)\n",
    "print(source_3fgl.energy_range)"
   ]
  },
  {
   "cell_type": "code",
   "execution_count": 4,
   "metadata": {
    "collapsed": false,
    "deletable": true,
    "editable": true
   },
   "outputs": [
    {
     "name": "stdout",
     "output_type": "stream",
     "text": [
      "ParameterList\n",
      "Parameter(name='amplitude', value=3.6799999159065067e-10, unit=Unit(\"1 / (cm2 s)\"), min=0, max=None, frozen=False)\n",
      "Parameter(name='index', value=2.380000114440918, unit=Unit(dimensionless), min=0, max=None, frozen=False)\n",
      "Parameter(name='emin', value=0.05, unit=Unit(\"TeV\"), min=None, max=None, frozen=False)\n",
      "Parameter(name='emax', value=2.0, unit=Unit(\"TeV\"), min=None, max=None, frozen=False)\n",
      "\n",
      "Covariance: [[  1.39128999e-21   0.00000000e+00   0.00000000e+00   0.00000000e+00]\n",
      " [  0.00000000e+00   2.55999989e-02   0.00000000e+00   0.00000000e+00]\n",
      " [  0.00000000e+00   0.00000000e+00   0.00000000e+00   0.00000000e+00]\n",
      " [  0.00000000e+00   0.00000000e+00   0.00000000e+00   0.00000000e+00]]\n",
      "[ 0.05  2.  ] TeV\n"
     ]
    }
   ],
   "source": [
    "print(source_2fhl.spectral_model.parameters)\n",
    "print(source_2fhl.energy_range)"
   ]
  },
  {
   "cell_type": "code",
   "execution_count": 5,
   "metadata": {
    "collapsed": false,
    "deletable": true,
    "editable": true
   },
   "outputs": [
    {
     "name": "stdout",
     "output_type": "stream",
     "text": [
      "ParameterList\n",
      "Parameter(name='amplitude', value=2.8162769893924633e-09, unit=Unit(\"1 / (cm2 s)\"), min=0, max=None, frozen=False)\n",
      "Parameter(name='index', value=2.123613119125366, unit=Unit(dimensionless), min=0, max=None, frozen=False)\n",
      "Parameter(name='emin', value=0.01, unit=Unit(\"TeV\"), min=None, max=None, frozen=False)\n",
      "Parameter(name='emax', value=0.5, unit=Unit(\"TeV\"), min=None, max=None, frozen=False)\n",
      "\n",
      "Covariance: [[  3.34341526e-20   0.00000000e+00   0.00000000e+00   0.00000000e+00]\n",
      " [  0.00000000e+00   7.50548656e-03   0.00000000e+00   0.00000000e+00]\n",
      " [  0.00000000e+00   0.00000000e+00   0.00000000e+00   0.00000000e+00]\n",
      " [  0.00000000e+00   0.00000000e+00   0.00000000e+00   0.00000000e+00]]\n",
      "[ 0.01  0.5 ] TeV\n"
     ]
    }
   ],
   "source": [
    "print(source_1fhl.spectral_model.parameters)\n",
    "print(source_1fhl.energy_range)"
   ]
  },
  {
   "cell_type": "code",
   "execution_count": 6,
   "metadata": {
    "collapsed": false,
    "deletable": true,
    "editable": true
   },
   "outputs": [
    {
     "data": {
      "text/plain": [
       "<Container object of 3 artists>"
      ]
     },
     "execution_count": 6,
     "metadata": {},
     "output_type": "execute_result"
    },
    {
     "data": {
      "image/png": "[encoded data removed]",
      "text/plain": [
       "<matplotlib.figure.Figure at 0x20f300b43c8>"
      ]
     },
     "metadata": {},
     "output_type": "display_data"
    }
   ],
   "source": [
    "# Defining units\n",
    "opts = dict(energy_unit='TeV', flux_unit='cm-2 s-1 TeV-1')\n",
    "\n",
    "# Plot spectral models (expected data)\n",
    "source_3fgl.spectral_model.plot(source_3fgl.energy_range, **opts)\n",
    "source_2fhl.spectral_model.plot(source_2fhl.energy_range, **opts)\n",
    "source_1fhl.spectral_model.plot(source_1fhl.energy_range, **opts)\n",
    "\n",
    "# Plot reference point\n",
    "# plt.plot(source_3fgl.spectral_model.parameters['reference'].value,\n",
    "#          source_3fgl.spectral_model.parameters['amplitude'].value,\n",
    "#         '*')\n",
    "\n",
    "# Plot flux points data (actual data)\n",
    "def plotActualData(data):\n",
    "    return plt.errorbar(x=data['e_ref'],\n",
    "             y = data['dnde'],\n",
    "             yerr = data['dnde_err'],\n",
    "             fmt='.'\n",
    "            )\n",
    "\n",
    "plotActualData(data_3fgl)\n",
    "\n"
   ]
  },
  {
   "cell_type": "code",
   "execution_count": null,
   "metadata": {
    "collapsed": false,
    "deletable": true,
    "editable": true
   },
   "outputs": [],
   "source": []
  },
  {
   "cell_type": "code",
   "execution_count": null,
   "metadata": {
    "collapsed": true,
    "deletable": true,
    "editable": true
   },
   "outputs": [],
   "source": []
  }
 ],
 "metadata": {
  "anaconda-cloud": {},
  "kernelspec": {
   "display_name": "Python 3",
   "language": "python",
   "name": "python3"
  },
  "language_info": {
   "codemirror_mode": {
    "name": "ipython",
    "version": 3
   },
   "file_extension": ".py",
   "mimetype": "text/x-python",
   "name": "python",
   "nbconvert_exporter": "python",
   "pygments_lexer": "ipython3",
   "version": "3.5.1"
  }
 },
 "nbformat": 4,
 "nbformat_minor": 2
}
