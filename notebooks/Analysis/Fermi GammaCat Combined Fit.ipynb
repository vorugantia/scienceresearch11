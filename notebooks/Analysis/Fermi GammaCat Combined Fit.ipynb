{
 "cells": [
  {
   "cell_type": "markdown",
   "metadata": {
    "deletable": true,
    "editable": true
   },
   "source": [
    "# Make a chi2 spectrum fit with mixed Fermi/HGPS data"
   ]
  },
  {
   "cell_type": "code",
   "execution_count": 1,
   "metadata": {
    "collapsed": true,
    "deletable": true,
    "editable": true
   },
   "outputs": [],
   "source": [
    "%matplotlib inline\n",
    "import numpy as np\n",
    "import pandas as pd\n",
    "import matplotlib.pyplot as plt\n",
    "plt.style.use('ggplot')\n",
    "from pprint import pprint\n",
    "import astropy.units as u\n",
    "from astropy.units import Quantity\n",
    "from astropy.table import Table, vstack\n",
    "\n",
    "# Temporarily fixing environment variable for gamma-cat\n",
    "import os\n",
    "os.environ['GAMMA_CAT'] = os.path.join('C:/Users/Arjun/github/gamma-cat')"
   ]
  },
  {
   "cell_type": "markdown",
   "metadata": {
    "deletable": true,
    "editable": true
   },
   "source": [
    "## The source\n",
    "\n",
    "[HESS J1507-622](https://github.com/gammasky/fermi-hgps-paper/blob/master/analysis/plots/seds/HESS_J1507m622_sed_0.png) (this picture is from the new HESS data, I won't be using it).\n",
    "\n",
    "- gamma-sky.net: http://gamma-sky.net/#/cat/tev/77\n",
    "\n",
    "- gamma-cat: source id 77\n",
    "\n",
    "- AKA 3FGL J1506.6-6219 (3FGL) and 2FHL J1507.4-6213 (2FHL)\n",
    "\n",
    "- unidentified source. \n",
    "\n",
    "- I want to fit a LogParabola spectral model to this source.\n"
   ]
  },
  {
   "cell_type": "code",
   "execution_count": 2,
   "metadata": {
    "collapsed": false
   },
   "outputs": [],
   "source": [
    "# Preparing Fermi data\n",
    "from gammapy.catalog import SourceCatalog3FGL\n",
    "\n",
    "cat_f = SourceCatalog3FGL()\n",
    "source_f = cat_f['3FGL J1506.6-6219']\n",
    "\n",
    "data_f = source_f.flux_points.table\n",
    "\n",
    "dnde_err_f = data_f['dnde'] * (data_f['flux_errn'] / data_f['flux'])\n",
    "data_f['dnde_err'] = dnde_err_f.to(data_f['dnde'].unit)"
   ]
  },
  {
   "cell_type": "code",
   "execution_count": 3,
   "metadata": {
    "collapsed": false,
    "deletable": true,
    "editable": true
   },
   "outputs": [],
   "source": [
    "# Preparing gamma-cat data\n",
    "from gammapy.catalog import SourceCatalogGammaCat\n",
    "\n",
    "cat_g = SourceCatalogGammaCat()\n",
    "source_g = cat_g['HESS J1507-622']\n",
    "\n",
    "data_f['e_ref'] = data_f['e_ref'].to('TeV')\n",
    "data_f['e_min'] = data_f['e_min'].to('TeV')\n",
    "data_f['e_max'] = data_f['e_max'].to('TeV')\n",
    "\n",
    "data_g = source_g.flux_points.table\n",
    "dnde_err_g = data_g['dnde'] * (data_g['dnde_errn'] / data_g['dnde'])\n",
    "data_g['dnde_err'] = dnde_err_g.to(data_g['dnde'].unit)"
   ]
  },
  {
   "cell_type": "code",
   "execution_count": 4,
   "metadata": {
    "collapsed": false,
    "deletable": true,
    "editable": true
   },
   "outputs": [
    {
     "name": "stdout",
     "output_type": "stream",
     "text": [
      "Spectral info from Fermi:\n",
      "\n",
      "<Table length=5>\r\n",
      "   name     dtype        unit      n_bad\r\n",
      "---------- ------- --------------- -----\r\n",
      "     e_ref float64             TeV     0\r\n",
      "     e_min float64             TeV     0\r\n",
      "     e_max float64             TeV     0\r\n",
      "      flux float32     1 / (cm2 s)     1\r\n",
      " flux_errn float32     1 / (cm2 s)     1\r\n",
      " flux_errp float32     1 / (cm2 s)     1\r\n",
      "     eflux float32   erg / (cm2 s)     1\r\n",
      "eflux_errn float32   erg / (cm2 s)     1\r\n",
      "eflux_errp float32   erg / (cm2 s)     1\r\n",
      "     is_ul    bool                     0\r\n",
      "   flux_ul float64     1 / (cm2 s)     4\r\n",
      "  eflux_ul float64   erg / (cm2 s)     4\r\n",
      "      dnde float64 1 / (cm2 s TeV)     0\r\n",
      "  dnde_err float64 1 / (cm2 s TeV)     1\r\n",
      "\n",
      " ParameterList\n",
      "Parameter(name='index', value=1.8567168712615967, unit=Unit(dimensionless), min=0, max=None, frozen=False)\n",
      "Parameter(name='amplitude', value=2.013417644414206e-14, unit=Unit(\"1 / (cm2 MeV s)\"), min=0, max=None, frozen=False)\n",
      "Parameter(name='reference', value=6664.8046875, unit=Unit(\"MeV\"), min=None, max=None, frozen=True)\n",
      "\n",
      "Covariance: [[  2.15736996e-02   0.00000000e+00   0.00000000e+00]\n",
      " [  0.00000000e+00   1.40100114e-29   0.00000000e+00]\n",
      " [  0.00000000e+00   0.00000000e+00   0.00000000e+00]]\n"
     ]
    }
   ],
   "source": [
    "print(\"Spectral info from Fermi:\\n\")\n",
    "\n",
    "data_f.info()\n",
    "\n",
    "print('\\n', source_f.spectral_model.parameters)"
   ]
  },
  {
   "cell_type": "code",
   "execution_count": 56,
   "metadata": {
    "collapsed": false,
    "deletable": true,
    "editable": true
   },
   "outputs": [
    {
     "name": "stdout",
     "output_type": "stream",
     "text": [
      "Spectral info from H.E.S.S.:\n",
      "\n",
      "<Table length=6>\r\n",
      "   name    dtype        unit      n_bad\r\n",
      "--------- ------- --------------- -----\r\n",
      "    e_ref float32             TeV     0\r\n",
      "     dnde float32 1 / (cm2 s TeV)     0\r\n",
      "dnde_errp float32 1 / (cm2 s TeV)     0\r\n",
      "dnde_errn float32 1 / (cm2 s TeV)     0\r\n",
      "  dnde_ul float32 1 / (cm2 s TeV)     6\r\n",
      " dnde_err float32 1 / (cm2 s TeV)     0\r\n",
      "\n",
      " ParameterList\n",
      "Parameter(name='index', value=2.490000009536743, unit=Unit(dimensionless), min=0, max=None, frozen=False)\n",
      "Parameter(name='amplitude', value=3.100000074349185e-12, unit=Unit(\"1 / (cm2 s TeV)\"), min=0, max=None, frozen=False)\n",
      "Parameter(name='reference', value=1.0, unit=Unit(\"TeV\"), min=None, max=None, frozen=True)\n",
      "\n",
      "Covariance: [[  3.24000026e-02   0.00000000e+00   0.00000000e+00]\n",
      " [  0.00000000e+00   6.39999978e-25   0.00000000e+00]\n",
      " [  0.00000000e+00   0.00000000e+00   0.00000000e+00]]\n"
     ]
    }
   ],
   "source": [
    "print(\"Spectral info from H.E.S.S.:\\n\")\n",
    "\n",
    "data_g.info()\n",
    "\n",
    "print('\\n', source_g.spectral_model.parameters)"
   ]
  },
  {
   "cell_type": "markdown",
   "metadata": {
    "deletable": true,
    "editable": true
   },
   "source": [
    "## Combining source data\n",
    "\n",
    "`data_combined` contains all data from SourceCatalog3FGL and SourceCatalogGammaCat in the columns `e_ref`, `dnde`, and `dnde_err`."
   ]
  },
  {
   "cell_type": "code",
   "execution_count": 6,
   "metadata": {
    "collapsed": false,
    "deletable": true,
    "editable": true
   },
   "outputs": [
    {
     "name": "stderr",
     "output_type": "stream",
     "text": [
      "WARNING: MergeConflictWarning: Cannot merge meta key 'SED_TYPE' types <class 'str'> and <class 'str'>, choosing SED_TYPE='dnde' [astropy.utils.metadata]\n"
     ]
    },
    {
     "data": {
      "text/html": [
       "&lt;Table length=11&gt;\n",
       "<table id=\"table1779774365536\" class=\"table-striped table-bordered table-condensed\">\n",
       "<thead><tr><th>e_ref</th><th>dnde</th><th>dnde_err</th></tr></thead>\n",
       "<thead><tr><th>TeV</th><th>1 / (cm2 s TeV)</th><th>1 / (cm2 s TeV)</th></tr></thead>\n",
       "<thead><tr><th>float64</th><th>float64</th><th>float64</th></tr></thead>\n",
       "<tr><td>0.000173205080757</td><td>0.000180007080937</td><td>5.71533417236e-05</td></tr>\n",
       "<tr><td>0.000547722557505</td><td>2.17380797837e-07</td><td>nan</td></tr>\n",
       "<tr><td>0.00173205080757</td><td>2.52993839033e-07</td><td>1.00000774199e-07</td></tr>\n",
       "<tr><td>0.00547722557505</td><td>2.65716043394e-08</td><td>7.94052959033e-09</td></tr>\n",
       "<tr><td>0.0316227766017</td><td>1.27980441338e-09</td><td>3.67413027204e-10</td></tr>\n",
       "<tr><td>0.860900402069</td><td>2.29119002416e-12</td><td>8.70542678742e-13</td></tr>\n",
       "<tr><td>1.56151199341</td><td>6.98171717921e-13</td><td>2.20354116898e-13</td></tr>\n",
       "<tr><td>2.76375293732</td><td>1.69061501452e-13</td><td>6.75869814759e-14</td></tr>\n",
       "<tr><td>4.89159679413</td><td>7.72924882734e-14</td><td>2.40131790727e-14</td></tr>\n",
       "<tr><td>9.98858356476</td><td>1.03253400974e-14</td><td>5.06314706551e-15</td></tr>\n",
       "<tr><td>27.0403499603</td><td>7.44986705873e-16</td><td>5.72089017191e-16</td></tr>\n",
       "</table>"
      ],
      "text/plain": [
       "<Table length=11>\n",
       "      e_ref              dnde            dnde_err    \n",
       "       TeV         1 / (cm2 s TeV)   1 / (cm2 s TeV) \n",
       "     float64           float64           float64     \n",
       "----------------- ----------------- -----------------\n",
       "0.000173205080757 0.000180007080937 5.71533417236e-05\n",
       "0.000547722557505 2.17380797837e-07               nan\n",
       " 0.00173205080757 2.52993839033e-07 1.00000774199e-07\n",
       " 0.00547722557505 2.65716043394e-08 7.94052959033e-09\n",
       "  0.0316227766017 1.27980441338e-09 3.67413027204e-10\n",
       "   0.860900402069 2.29119002416e-12 8.70542678742e-13\n",
       "    1.56151199341 6.98171717921e-13 2.20354116898e-13\n",
       "    2.76375293732 1.69061501452e-13 6.75869814759e-14\n",
       "    4.89159679413 7.72924882734e-14 2.40131790727e-14\n",
       "    9.98858356476 1.03253400974e-14 5.06314706551e-15\n",
       "    27.0403499603 7.44986705873e-16 5.72089017191e-16"
      ]
     },
     "execution_count": 6,
     "metadata": {},
     "output_type": "execute_result"
    }
   ],
   "source": [
    "colnames=['e_ref', 'dnde', 'dnde_err']\n",
    "\n",
    "data_combined = vstack([\n",
    "                    data_f[colnames], \n",
    "                    data_g[colnames]\n",
    "                    ])\n",
    "\n",
    "data_combined"
   ]
  },
  {
   "cell_type": "markdown",
   "metadata": {
    "deletable": true,
    "editable": true
   },
   "source": [
    "## Plot data and model\n",
    "\n",
    "We'll be plotting the spectral model for the source as given by `SourceCatalogObject3FGL`."
   ]
  },
  {
   "cell_type": "code",
   "execution_count": 7,
   "metadata": {
    "collapsed": false,
    "deletable": true,
    "editable": true
   },
   "outputs": [
    {
     "data": {
      "text/plain": [
       "<Container object of 3 artists>"
      ]
     },
     "execution_count": 7,
     "metadata": {},
     "output_type": "execute_result"
    },
    {
     "data": {
      "image/png": "[encoded data removed]",
      "text/plain": [
       "<matplotlib.figure.Figure at 0x19e62d19550>"
      ]
     },
     "metadata": {},
     "output_type": "display_data"
    }
   ],
   "source": [
    "# Defining units\n",
    "energy_range = [1e-4, 100] * u.TeV\n",
    "opts = dict(energy_unit='TeV', flux_unit='cm-2 s-1 TeV-1', energy_range=energy_range)\n",
    "\n",
    "source_f.spectral_model.plot(**opts, color='r')\n",
    "# Using the combined energy range to stretch to gamma-cat data\n",
    "\n",
    "p_f = source_f.spectral_model.parameters\n",
    "p_g = source_g.spectral_model.parameters\n",
    "plt.plot(p_f['reference'].value / 1e6, p_f['amplitude'].value * 1e6, '*', color='c')\n",
    "plt.plot(p_g['reference'].value, p_g['amplitude'].value, '*', color='c')\n",
    "\n",
    "\n",
    "\n",
    "# Combined 3FGL + gamma-cat:\n",
    "# TODO: Split the colors for the flux points (first 5 purple, last 6 red)\n",
    "# Instead of the below code, I can call plt.errorbar() for each catalog individually. \n",
    "\n",
    "plt.errorbar(x=data_combined['e_ref'],\n",
    "             y=data_combined['dnde'],\n",
    "             yerr=data_combined['dnde_err'],\n",
    "             fmt='.',\n",
    "             color='b'\n",
    "            )"
   ]
  },
  {
   "cell_type": "markdown",
   "metadata": {
    "deletable": true,
    "editable": true
   },
   "source": [
    "## Defining chi2 function"
   ]
  },
  {
   "cell_type": "code",
   "execution_count": 66,
   "metadata": {
    "collapsed": true,
    "deletable": true,
    "editable": true
   },
   "outputs": [],
   "source": [
    "def chi2(amplitude, index):\n",
    "    \n",
    "    dnde_model = source_g.spectral_model.evaluate(\n",
    "        energy=data_combined['e_ref'],\n",
    "        amplitude=amplitude,\n",
    "        index=index,\n",
    "        reference=p_g['reference'].value\n",
    "    ) \n",
    "\n",
    "    chi = (data_combined['dnde'] - dnde_model) / data_combined['dnde_err']\n",
    "    return np.sum(chi ** 2)"
   ]
  },
  {
   "cell_type": "markdown",
   "metadata": {
    "deletable": true,
    "editable": true
   },
   "source": [
    "## Maximum likelihood fit"
   ]
  },
  {
   "cell_type": "code",
   "execution_count": 67,
   "metadata": {
    "collapsed": false,
    "deletable": true,
    "editable": true
   },
   "outputs": [
    {
     "name": "stderr",
     "output_type": "stream",
     "text": [
      "C:\\Users\\Arjun\\Anaconda3\\lib\\site-packages\\ipykernel_launcher.py:5: InitialParamWarning: errordef is not given. Default to 1.\n",
      "  \"\"\"\n",
      "C:\\Users\\Arjun\\Anaconda3\\lib\\site-packages\\ipykernel_launcher.py:5: InitialParamWarning: Parameter amplitude is floating but does not have initial step size. Assume 1.\n",
      "  \"\"\"\n",
      "C:\\Users\\Arjun\\Anaconda3\\lib\\site-packages\\ipykernel_launcher.py:5: InitialParamWarning: Parameter index is floating but does not have initial step size. Assume 1.\n",
      "  \"\"\"\n"
     ]
    },
    {
     "data": {
      "text/html": [
       "\n",
       "        <table>\n",
       "            <tr>\n",
       "                <td><a href=\"#\" onclick=\"$('#wtrnZShmxU').toggle()\">+</a></td>\n",
       "                <td title=\"Variable name\">Name</td>\n",
       "                <td title=\"Value of parameter\">Value</td>\n",
       "                <td title=\"Parabolic error\">Parab Error</td>\n",
       "                <td title=\"Minos lower error\">Minos Error-</td>\n",
       "                <td title=\"Minos upper error\">Minos Error+</td>\n",
       "                <td title=\"Lower limit of the parameter\">Limit-</td>\n",
       "                <td title=\"Upper limit of the parameter\">Limit+</td>\n",
       "                <td title=\"Is the parameter fixed in the fit\">FIXED</td>\n",
       "            </tr>\n",
       "        \n",
       "            <tr>\n",
       "                <td>1</td>\n",
       "                <td>amplitude</td>\n",
       "                <td>3.1e-12</td>\n",
       "                <td>1</td>\n",
       "                <td>0</td>\n",
       "                <td>0</td>\n",
       "                <td></td>\n",
       "                <td></td>\n",
       "                <td></td>\n",
       "            </tr>\n",
       "            \n",
       "            <tr>\n",
       "                <td>2</td>\n",
       "                <td>index</td>\n",
       "                <td>2.49</td>\n",
       "                <td>1</td>\n",
       "                <td>0</td>\n",
       "                <td>0</td>\n",
       "                <td></td>\n",
       "                <td></td>\n",
       "                <td></td>\n",
       "            </tr>\n",
       "            \n",
       "            </table>\n",
       "        \n",
       "            <pre id=\"wtrnZShmxU\" style=\"display:none;\">\n",
       "            <textarea rows=\"10\" cols=\"50\" onclick=\"this.select()\" readonly>\\begin{tabular}{|c|r|r|r|r|r|r|r|c|}\n",
       "\\hline\n",
       " & Name & Value & Para Error & Error+ & Error- & Limit+ & Limit- & FIXED\\\\\n",
       "\\hline\n",
       "1 & amplitude & 3.100e-12 & 1.000e+00 &  &  &  &  & \\\\\n",
       "\\hline\n",
       "2 & index & 2.490e+00 & 1.000e+00 &  &  &  &  & \\\\\n",
       "\\hline\n",
       "\\end{tabular}</textarea>\n",
       "            </pre>\n",
       "            "
      ]
     },
     "metadata": {},
     "output_type": "display_data"
    },
    {
     "name": "stdout",
     "output_type": "stream",
     "text": [
      "^ Initial parameters\n"
     ]
    },
    {
     "name": "stderr",
     "output_type": "stream",
     "text": [
      "C:\\Users\\Arjun\\Anaconda3\\lib\\site-packages\\ipykernel_launcher.py:10: RuntimeWarning: fcn returns Nan\n",
      "fcn is called with following arguments:\n",
      "    amplitude = +0.000000\n",
      "        index = +2.490000\n",
      "\n",
      "  # Remove the CWD from sys.path while we load stuff.\n",
      "C:\\Users\\Arjun\\Anaconda3\\lib\\site-packages\\ipykernel_launcher.py:10: RuntimeWarning: fcn returns Nan\n",
      "fcn is called with following arguments:\n",
      "    amplitude = +nan\n",
      "        index = +2.490000\n",
      "\n",
      "  # Remove the CWD from sys.path while we load stuff.\n",
      "C:\\Users\\Arjun\\Anaconda3\\lib\\site-packages\\ipykernel_launcher.py:10: RuntimeWarning: fcn returns Nan\n",
      "fcn is called with following arguments:\n",
      "    amplitude = +0.000000\n",
      "        index = +nan\n",
      "\n",
      "  # Remove the CWD from sys.path while we load stuff.\n",
      "C:\\Users\\Arjun\\Anaconda3\\lib\\site-packages\\ipykernel_launcher.py:10: RuntimeWarning: fcn returns Nan\n",
      "fcn is called with following arguments:\n",
      "    amplitude = -nan(ind)\n",
      "        index = -nan(ind)\n",
      "\n",
      "  # Remove the CWD from sys.path while we load stuff.\n",
      "C:\\Users\\Arjun\\Anaconda3\\lib\\site-packages\\ipykernel_launcher.py:10: RuntimeWarning: fcn returns Nan\n",
      "fcn is called with following arguments:\n",
      "    amplitude = +nan\n",
      "        index = +nan\n",
      "\n",
      "  # Remove the CWD from sys.path while we load stuff.\n",
      "C:\\Users\\Arjun\\Anaconda3\\lib\\site-packages\\ipykernel_launcher.py:10: RuntimeWarning: fcn returns Nan\n",
      "fcn is called with following arguments:\n",
      "    amplitude = +nan\n",
      "        index = -nan(ind)\n",
      "\n",
      "  # Remove the CWD from sys.path while we load stuff.\n",
      "C:\\Users\\Arjun\\Anaconda3\\lib\\site-packages\\ipykernel_launcher.py:10: RuntimeWarning: fcn returns Nan\n",
      "fcn is called with following arguments:\n",
      "    amplitude = -nan(ind)\n",
      "        index = +nan\n",
      "\n",
      "  # Remove the CWD from sys.path while we load stuff.\n"
     ]
    },
    {
     "data": {
      "text/html": [
       "<hr>"
      ]
     },
     "metadata": {},
     "output_type": "display_data"
    },
    {
     "data": {
      "text/html": [
       "\n",
       "        <table>\n",
       "            <tr>\n",
       "                <td title=\"Minimum value of function\">FCN = nan</td>\n",
       "                <td title=\"Total number of call to FCN so far\">TOTAL NCALL = 36</td>\n",
       "                <td title=\"Number of call in last migrad\">NCALLS = 36</td>\n",
       "            </tr>\n",
       "            <tr>\n",
       "                <td title=\"Estimated distance to minimum\">EDM = nan</td>\n",
       "                <td title=\"Maximum EDM definition of convergence\">GOAL EDM = 1e-05</td>\n",
       "                <td title=\"Error def. Amount of increase in FCN to be defined as 1 standard deviation\">\n",
       "                UP = 1.0</td>\n",
       "            </tr>\n",
       "        </table>\n",
       "        \n",
       "        <table>\n",
       "            <tr>\n",
       "                <td align=\"center\" title=\"Validity of the migrad call\">Valid</td>\n",
       "                <td align=\"center\" title=\"Validity of parameters\">Valid Param</td>\n",
       "                <td align=\"center\" title=\"Is Covariance matrix accurate?\">Accurate Covar</td>\n",
       "                <td align=\"center\" title=\"Positive definiteness of covariance matrix\">PosDef</td>\n",
       "                <td align=\"center\" title=\"Was covariance matrix made posdef by adding diagonal element\">Made PosDef</td>\n",
       "            </tr>\n",
       "            <tr>\n",
       "                <td align=\"center\" style=\"background-color:#92CCA6\">True</td>\n",
       "                <td align=\"center\" style=\"background-color:#92CCA6\">True</td>\n",
       "                <td align=\"center\" style=\"background-color:#FF7878\">False</td>\n",
       "                <td align=\"center\" style=\"background-color:#92CCA6\">True</td>\n",
       "                <td align=\"center\" style=\"background-color:#92CCA6\">False</td>\n",
       "            </tr>\n",
       "            <tr>\n",
       "                <td align=\"center\" title=\"Was last hesse call fail?\">Hesse Fail</td>\n",
       "                <td align=\"center\" title=\"Validity of covariance\">HasCov</td>\n",
       "                <td align=\"center\" title=\"Is EDM above goal EDM?\">Above EDM</td>\n",
       "                <td align=\"center\"></td>\n",
       "                <td align=\"center\" title=\"Did last migrad call reach max call limit?\">Reach calllim</td>\n",
       "            </tr>\n",
       "            <tr>\n",
       "                <td align=\"center\" style=\"background-color:#92CCA6\">False</td>\n",
       "                <td align=\"center\" style=\"background-color:#92CCA6\">True</td>\n",
       "                <td align=\"center\" style=\"background-color:#92CCA6\">False</td>\n",
       "                <td align=\"center\"></td>\n",
       "                <td align=\"center\" style=\"background-color:#92CCA6\">False</td>\n",
       "            </tr>\n",
       "        </table>\n",
       "        "
      ]
     },
     "metadata": {},
     "output_type": "display_data"
    },
    {
     "data": {
      "text/html": [
       "\n",
       "        <table>\n",
       "            <tr>\n",
       "                <td><a href=\"#\" onclick=\"$('#zDpXQCfijb').toggle()\">+</a></td>\n",
       "                <td title=\"Variable name\">Name</td>\n",
       "                <td title=\"Value of parameter\">Value</td>\n",
       "                <td title=\"Parabolic error\">Parab Error</td>\n",
       "                <td title=\"Minos lower error\">Minos Error-</td>\n",
       "                <td title=\"Minos upper error\">Minos Error+</td>\n",
       "                <td title=\"Lower limit of the parameter\">Limit-</td>\n",
       "                <td title=\"Upper limit of the parameter\">Limit+</td>\n",
       "                <td title=\"Is the parameter fixed in the fit\">FIXED</td>\n",
       "            </tr>\n",
       "        \n",
       "            <tr>\n",
       "                <td>1</td>\n",
       "                <td>amplitude</td>\n",
       "                <td>nan</td>\n",
       "                <td>nan</td>\n",
       "                <td>0</td>\n",
       "                <td>0</td>\n",
       "                <td></td>\n",
       "                <td></td>\n",
       "                <td></td>\n",
       "            </tr>\n",
       "            \n",
       "            <tr>\n",
       "                <td>2</td>\n",
       "                <td>index</td>\n",
       "                <td>nan</td>\n",
       "                <td>nan</td>\n",
       "                <td>0</td>\n",
       "                <td>0</td>\n",
       "                <td></td>\n",
       "                <td></td>\n",
       "                <td></td>\n",
       "            </tr>\n",
       "            \n",
       "            </table>\n",
       "        \n",
       "            <pre id=\"zDpXQCfijb\" style=\"display:none;\">\n",
       "            <textarea rows=\"10\" cols=\"50\" onclick=\"this.select()\" readonly>\\begin{tabular}{|c|r|r|r|r|r|r|r|c|}\n",
       "\\hline\n",
       " & Name & Value & Para Error & Error+ & Error- & Limit+ & Limit- & FIXED\\\\\n",
       "\\hline\n",
       "1 & amplitude &   nan &   nan &  &  &  &  & \\\\\n",
       "\\hline\n",
       "2 & index &   nan &   nan &  &  &  &  & \\\\\n",
       "\\hline\n",
       "\\end{tabular}</textarea>\n",
       "            </pre>\n",
       "            "
      ]
     },
     "metadata": {},
     "output_type": "display_data"
    },
    {
     "data": {
      "text/html": [
       "<hr>"
      ]
     },
     "metadata": {},
     "output_type": "display_data"
    },
    {
     "name": "stdout",
     "output_type": "stream",
     "text": [
      "^ Optimized parameters for best-fit model\n"
     ]
    }
   ],
   "source": [
    "from iminuit import Minuit\n",
    "\n",
    "pars = dict(amplitude=p_g['amplitude'].value, index=p_g['index'].value)\n",
    "\n",
    "minuit = Minuit(chi2, **pars)\n",
    "\n",
    "minuit.print_initial_param()\n",
    "print(\"^ Initial parameters\")\n",
    "\n",
    "minuit.migrad() # Performs the minimization\n",
    "print(\"^ Optimized parameters for best-fit model\")"
   ]
  },
  {
   "cell_type": "code",
   "execution_count": 51,
   "metadata": {
    "collapsed": false
   },
   "outputs": [
    {
     "name": "stdout",
     "output_type": "stream",
     "text": [
      "{'index': nan, 'amplitude': nan}\n",
      "{'index': nan, 'amplitude': nan}\n"
     ]
    }
   ],
   "source": [
    "print(minuit.values)\n",
    "print(minuit.errors)"
   ]
  },
  {
   "cell_type": "markdown",
   "metadata": {},
   "source": [
    "## Final plot"
   ]
  },
  {
   "cell_type": "code",
   "execution_count": 10,
   "metadata": {
    "collapsed": false,
    "deletable": true,
    "editable": true
   },
   "outputs": [
    {
     "data": {
      "text/plain": [
       "[<matplotlib.lines.Line2D at 0x19e644e8f60>]"
      ]
     },
     "execution_count": 10,
     "metadata": {},
     "output_type": "execute_result"
    },
    {
     "data": {
      "image/png": "[encoded data removed]",
      "text/plain": [
       "<matplotlib.figure.Figure at 0x19e62e5aeb8>"
      ]
     },
     "metadata": {},
     "output_type": "display_data"
    }
   ],
   "source": [
    "source_g.spectral_model.plot(linestyle='dashed', alpha=0.7, **opts)\n",
    "\n",
    "plt.plot(p_f['reference'].value / 1e6, p_f['amplitude'].value * 1e6, '*', color='c')\n",
    "plt.plot(p_g['reference'].value, p_g['amplitude'].value, '*', color='c')\n",
    "\n",
    "plt.errorbar(x=data_combined['e_ref'],\n",
    "             y = data_combined['dnde'],\n",
    "             yerr = data_combined['dnde_err'],\n",
    "             fmt='.',\n",
    "             color='b'\n",
    "            )\n",
    "\n",
    "\n",
    "from gammapy.utils.energy import Energy\n",
    "energy = Energy.equal_log_spacing(\n",
    "    emin=energy_range[0],\n",
    "    emax=energy_range[1],\n",
    "    nbins=100,\n",
    ")\n",
    "\n",
    "flux = source_g.spectral_model.evaluate(\n",
    "    energy=energy.to('TeV').value,\n",
    "    amplitude = minuit.values['amplitude'],\n",
    "    index = minuit.values['index'],\n",
    "    reference=p_g['reference'].value,\n",
    ")\n",
    "plt.plot(energy, flux, linewidth=2)"
   ]
  }
 ],
 "metadata": {
  "anaconda-cloud": {},
  "kernelspec": {
   "display_name": "Python 3",
   "language": "python",
   "name": "python3"
  },
  "language_info": {
   "codemirror_mode": {
    "name": "ipython",
    "version": 3
   },
   "file_extension": ".py",
   "mimetype": "text/x-python",
   "name": "python",
   "nbconvert_exporter": "python",
   "pygments_lexer": "ipython3",
   "version": "3.5.1"
  }
 },
 "nbformat": 4,
 "nbformat_minor": 2
}
