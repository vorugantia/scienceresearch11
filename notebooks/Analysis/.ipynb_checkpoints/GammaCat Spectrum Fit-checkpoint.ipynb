{
 "cells": [
  {
   "cell_type": "markdown",
   "metadata": {},
   "source": [
    "# Using only gamma-cat flux points."
   ]
  },
  {
   "cell_type": "code",
   "execution_count": 6,
   "metadata": {
    "collapsed": true
   },
   "outputs": [],
   "source": [
    "%matplotlib inline\n",
    "import numpy as np\n",
    "import pandas as pd\n",
    "import matplotlib.pyplot as plt\n",
    "plt.style.use('ggplot')\n",
    "from pprint import pprint\n",
    "import astropy.units as u\n",
    "from astropy.units import Quantity\n",
    "\n",
    "# Temporarily fixing environment variable for gamma-cat\n",
    "import os\n",
    "os.environ['GAMMA_CAT'] = os.path.join('C:/Users/Arjun/github/gamma-cat')"
   ]
  },
  {
   "cell_type": "markdown",
   "metadata": {},
   "source": [
    "## The source\n",
    "\n",
    "[HESS J1507-622](https://github.com/gammasky/fermi-hgps-paper/blob/master/analysis/plots/seds/HESS_J1507m622_sed_0.png) (this picture is from the new HESS data, I won't be using it).\n",
    "\n",
    "- gamma-sky.net: http://gamma-sky.net/#/cat/tev/77\n",
    "\n",
    "- gamma-cat: source id 77\n",
    "\n",
    "- AKA 3FGL J1506.6-6219 (3FGL) and 2FHL J1507.4-6213 (2FHL)\n",
    "\n",
    "- unidentified source. \n",
    "\n",
    "- I want to fit a LogParabola spectral model to this source.\n"
   ]
  },
  {
   "cell_type": "code",
   "execution_count": 19,
   "metadata": {
    "collapsed": false
   },
   "outputs": [
    {
     "data": {
      "text/html": [
       "&lt;Table length=6&gt;\n",
       "<table id=\"table2861514721208\" class=\"table-striped table-bordered table-condensed\">\n",
       "<thead><tr><th>e_ref</th><th>dnde</th><th>dnde_errp</th><th>dnde_errn</th><th>dnde_ul</th><th>dnde_err</th></tr></thead>\n",
       "<thead><tr><th>TeV</th><th>1 / (cm2 s TeV)</th><th>1 / (cm2 s TeV)</th><th>1 / (cm2 s TeV)</th><th>1 / (cm2 s TeV)</th><th>1 / (cm2 s TeV)</th></tr></thead>\n",
       "<thead><tr><th>float32</th><th>float32</th><th>float32</th><th>float32</th><th>float32</th><th>float32</th></tr></thead>\n",
       "<tr><td>0.8609</td><td>2.29119e-12</td><td>8.95502e-13</td><td>8.70543e-13</td><td>nan</td><td>8.70543e-13</td></tr>\n",
       "<tr><td>1.56151</td><td>6.98172e-13</td><td>2.30407e-13</td><td>2.20354e-13</td><td>nan</td><td>2.20354e-13</td></tr>\n",
       "<tr><td>2.76375</td><td>1.69062e-13</td><td>7.18838e-14</td><td>6.7587e-14</td><td>nan</td><td>6.7587e-14</td></tr>\n",
       "<tr><td>4.8916</td><td>7.72925e-14</td><td>2.60749e-14</td><td>2.40132e-14</td><td>nan</td><td>2.40132e-14</td></tr>\n",
       "<tr><td>9.98858</td><td>1.03253e-14</td><td>5.64195e-15</td><td>5.06315e-15</td><td>nan</td><td>5.06315e-15</td></tr>\n",
       "<tr><td>27.0403</td><td>7.44987e-16</td><td>7.25999e-16</td><td>5.72089e-16</td><td>nan</td><td>5.72089e-16</td></tr>\n",
       "</table>"
      ],
      "text/plain": [
       "<Table length=6>\n",
       " e_ref        dnde         dnde_errp    ...     dnde_ul         dnde_err   \n",
       "  TeV   1 / (cm2 s TeV) 1 / (cm2 s TeV) ... 1 / (cm2 s TeV) 1 / (cm2 s TeV)\n",
       "float32     float32         float32     ...     float32         float32    \n",
       "------- --------------- --------------- ... --------------- ---------------\n",
       " 0.8609     2.29119e-12     8.95502e-13 ...             nan     8.70543e-13\n",
       "1.56151     6.98172e-13     2.30407e-13 ...             nan     2.20354e-13\n",
       "2.76375     1.69062e-13     7.18838e-14 ...             nan      6.7587e-14\n",
       " 4.8916     7.72925e-14     2.60749e-14 ...             nan     2.40132e-14\n",
       "9.98858     1.03253e-14     5.64195e-15 ...             nan     5.06315e-15\n",
       "27.0403     7.44987e-16     7.25999e-16 ...             nan     5.72089e-16"
      ]
     },
     "execution_count": 19,
     "metadata": {},
     "output_type": "execute_result"
    }
   ],
   "source": [
    "from gammapy.catalog import SourceCatalogGammaCat, SourceCatalogObjectGammaCat\n",
    "\n",
    "cat = SourceCatalogGammaCat()\n",
    "source = cat['HESS J1507-622']\n",
    "\n",
    "data = source.flux_points.table\n",
    "\n",
    "dnde_err = data['dnde'] * (data['dnde_errn'] / data['dnde'])\n",
    "data['dnde_err'] = dnde_err.to(data['dnde'].unit)\n",
    "\n",
    "data"
   ]
  },
  {
   "cell_type": "code",
   "execution_count": 62,
   "metadata": {
    "collapsed": false
   },
   "outputs": [
    {
     "name": "stdout",
     "output_type": "stream",
     "text": [
      "ParameterList\n",
      "Parameter(name='index', value=2.490000009536743, unit=Unit(dimensionless), min=0, max=None, frozen=False)\n",
      "Parameter(name='amplitude', value=3.100000074349185e-12, unit=Unit(\"1 / (cm2 s TeV)\"), min=0, max=None, frozen=False)\n",
      "Parameter(name='reference', value=1.0, unit=Unit(\"TeV\"), min=None, max=None, frozen=True)\n",
      "\n",
      "Covariance: [[  3.24000026e-02   0.00000000e+00   0.00000000e+00]\n",
      " [  0.00000000e+00   6.39999978e-25   0.00000000e+00]\n",
      " [  0.00000000e+00   0.00000000e+00   0.00000000e+00]]\n"
     ]
    }
   ],
   "source": [
    "p = source.spectral_model.parameters\n",
    "print(p)"
   ]
  },
  {
   "cell_type": "markdown",
   "metadata": {},
   "source": [
    "## Plotting data and model\n",
    "\n",
    "We're plotting a LogParabola model."
   ]
  },
  {
   "cell_type": "code",
   "execution_count": 107,
   "metadata": {
    "collapsed": false
   },
   "outputs": [
    {
     "data": {
      "text/plain": [
       "<Container object of 3 artists>"
      ]
     },
     "execution_count": 107,
     "metadata": {},
     "output_type": "execute_result"
    },
    {
     "data": {
      "image/png": "[encoded data removed]",
      "text/plain": [
       "<matplotlib.figure.Figure at 0x29a45366160>"
      ]
     },
     "metadata": {},
     "output_type": "display_data"
    }
   ],
   "source": [
    "# defining units and energy range\n",
    "energy_range = [0.5, 100] * u.TeV\n",
    "opts = dict(energy_unit='TeV', flux_unit='cm-2 s-1 TeV-1', energy_range=energy_range)\n",
    "\n",
    "source.spectral_model.plot(linestyle='dashed', alpha=0.7, **opts)\n",
    "\n",
    "plt.plot(p['reference'].value, p['amplitude'].value, '*')\n",
    "\n",
    "plt.errorbar(x=data['e_ref'],\n",
    "             y=data['dnde'],\n",
    "             yerr=data['dnde_err'],\n",
    "             fmt='.')\n"
   ]
  },
  {
   "cell_type": "markdown",
   "metadata": {},
   "source": [
    "## Defining chi2 function"
   ]
  },
  {
   "cell_type": "code",
   "execution_count": 78,
   "metadata": {
    "collapsed": false
   },
   "outputs": [],
   "source": [
    "def chi2(amplitude, index):\n",
    "    \n",
    "    dnde_model = source.spectral_model.evaluate(\n",
    "        energy=data['e_ref'],\n",
    "        amplitude=amplitude,\n",
    "        index=index,\n",
    "        reference=p['reference'].value\n",
    "    )\n",
    "    \n",
    "    chi = (data['dnde'] - dnde_model) / data['dnde_err']\n",
    "    return np.sum(chi ** 2)"
   ]
  },
  {
   "cell_type": "markdown",
   "metadata": {},
   "source": [
    "## Maximum likelihood fit for our model"
   ]
  },
  {
   "cell_type": "code",
   "execution_count": 79,
   "metadata": {
    "collapsed": false
   },
   "outputs": [
    {
     "name": "stderr",
     "output_type": "stream",
     "text": [
      "C:\\Users\\Arjun\\Anaconda3\\lib\\site-packages\\ipykernel_launcher.py:5: InitialParamWarning: errordef is not given. Default to 1.\n",
      "  \"\"\"\n",
      "C:\\Users\\Arjun\\Anaconda3\\lib\\site-packages\\ipykernel_launcher.py:5: InitialParamWarning: Parameter amplitude is floating but does not have initial step size. Assume 1.\n",
      "  \"\"\"\n",
      "C:\\Users\\Arjun\\Anaconda3\\lib\\site-packages\\ipykernel_launcher.py:5: InitialParamWarning: Parameter index is floating but does not have initial step size. Assume 1.\n",
      "  \"\"\"\n"
     ]
    },
    {
     "data": {
      "text/html": [
       "\n",
       "        <table>\n",
       "            <tr>\n",
       "                <td><a href=\"#\" onclick=\"$('#BDkVcYGQXJ').toggle()\">+</a></td>\n",
       "                <td title=\"Variable name\">Name</td>\n",
       "                <td title=\"Value of parameter\">Value</td>\n",
       "                <td title=\"Parabolic error\">Parab Error</td>\n",
       "                <td title=\"Minos lower error\">Minos Error-</td>\n",
       "                <td title=\"Minos upper error\">Minos Error+</td>\n",
       "                <td title=\"Lower limit of the parameter\">Limit-</td>\n",
       "                <td title=\"Upper limit of the parameter\">Limit+</td>\n",
       "                <td title=\"Is the parameter fixed in the fit\">FIXED</td>\n",
       "            </tr>\n",
       "        \n",
       "            <tr>\n",
       "                <td>1</td>\n",
       "                <td>amplitude</td>\n",
       "                <td>3.1e-12</td>\n",
       "                <td>1</td>\n",
       "                <td>0</td>\n",
       "                <td>0</td>\n",
       "                <td></td>\n",
       "                <td></td>\n",
       "                <td></td>\n",
       "            </tr>\n",
       "            \n",
       "            <tr>\n",
       "                <td>2</td>\n",
       "                <td>index</td>\n",
       "                <td>2.49</td>\n",
       "                <td>1</td>\n",
       "                <td>0</td>\n",
       "                <td>0</td>\n",
       "                <td></td>\n",
       "                <td></td>\n",
       "                <td></td>\n",
       "            </tr>\n",
       "            \n",
       "            </table>\n",
       "        \n",
       "            <pre id=\"BDkVcYGQXJ\" style=\"display:none;\">\n",
       "            <textarea rows=\"10\" cols=\"50\" onclick=\"this.select()\" readonly>\\begin{tabular}{|c|r|r|r|r|r|r|r|c|}\n",
       "\\hline\n",
       " & Name & Value & Para Error & Error+ & Error- & Limit+ & Limit- & FIXED\\\\\n",
       "\\hline\n",
       "1 & amplitude & 3.100e-12 & 1.000e+00 &  &  &  &  & \\\\\n",
       "\\hline\n",
       "2 & index & 2.490e+00 & 1.000e+00 &  &  &  &  & \\\\\n",
       "\\hline\n",
       "\\end{tabular}</textarea>\n",
       "            </pre>\n",
       "            "
      ]
     },
     "metadata": {},
     "output_type": "display_data"
    },
    {
     "name": "stdout",
     "output_type": "stream",
     "text": [
      "^ Initial parameters\n"
     ]
    },
    {
     "data": {
      "text/html": [
       "<hr>"
      ]
     },
     "metadata": {},
     "output_type": "display_data"
    },
    {
     "data": {
      "text/html": [
       "\n",
       "        <table>\n",
       "            <tr>\n",
       "                <td title=\"Minimum value of function\">FCN = 1.708320140838623</td>\n",
       "                <td title=\"Total number of call to FCN so far\">TOTAL NCALL = 80</td>\n",
       "                <td title=\"Number of call in last migrad\">NCALLS = 80</td>\n",
       "            </tr>\n",
       "            <tr>\n",
       "                <td title=\"Estimated distance to minimum\">EDM = 3.327811441405095e-08</td>\n",
       "                <td title=\"Maximum EDM definition of convergence\">GOAL EDM = 1e-05</td>\n",
       "                <td title=\"Error def. Amount of increase in FCN to be defined as 1 standard deviation\">\n",
       "                UP = 1.0</td>\n",
       "            </tr>\n",
       "        </table>\n",
       "        \n",
       "        <table>\n",
       "            <tr>\n",
       "                <td align=\"center\" title=\"Validity of the migrad call\">Valid</td>\n",
       "                <td align=\"center\" title=\"Validity of parameters\">Valid Param</td>\n",
       "                <td align=\"center\" title=\"Is Covariance matrix accurate?\">Accurate Covar</td>\n",
       "                <td align=\"center\" title=\"Positive definiteness of covariance matrix\">PosDef</td>\n",
       "                <td align=\"center\" title=\"Was covariance matrix made posdef by adding diagonal element\">Made PosDef</td>\n",
       "            </tr>\n",
       "            <tr>\n",
       "                <td align=\"center\" style=\"background-color:#92CCA6\">True</td>\n",
       "                <td align=\"center\" style=\"background-color:#92CCA6\">True</td>\n",
       "                <td align=\"center\" style=\"background-color:#92CCA6\">True</td>\n",
       "                <td align=\"center\" style=\"background-color:#92CCA6\">True</td>\n",
       "                <td align=\"center\" style=\"background-color:#92CCA6\">False</td>\n",
       "            </tr>\n",
       "            <tr>\n",
       "                <td align=\"center\" title=\"Was last hesse call fail?\">Hesse Fail</td>\n",
       "                <td align=\"center\" title=\"Validity of covariance\">HasCov</td>\n",
       "                <td align=\"center\" title=\"Is EDM above goal EDM?\">Above EDM</td>\n",
       "                <td align=\"center\"></td>\n",
       "                <td align=\"center\" title=\"Did last migrad call reach max call limit?\">Reach calllim</td>\n",
       "            </tr>\n",
       "            <tr>\n",
       "                <td align=\"center\" style=\"background-color:#92CCA6\">False</td>\n",
       "                <td align=\"center\" style=\"background-color:#92CCA6\">True</td>\n",
       "                <td align=\"center\" style=\"background-color:#92CCA6\">False</td>\n",
       "                <td align=\"center\"></td>\n",
       "                <td align=\"center\" style=\"background-color:#92CCA6\">False</td>\n",
       "            </tr>\n",
       "        </table>\n",
       "        "
      ]
     },
     "metadata": {},
     "output_type": "display_data"
    },
    {
     "data": {
      "text/html": [
       "\n",
       "        <table>\n",
       "            <tr>\n",
       "                <td><a href=\"#\" onclick=\"$('#lTZBnZlALi').toggle()\">+</a></td>\n",
       "                <td title=\"Variable name\">Name</td>\n",
       "                <td title=\"Value of parameter\">Value</td>\n",
       "                <td title=\"Parabolic error\">Parab Error</td>\n",
       "                <td title=\"Minos lower error\">Minos Error-</td>\n",
       "                <td title=\"Minos upper error\">Minos Error+</td>\n",
       "                <td title=\"Lower limit of the parameter\">Limit-</td>\n",
       "                <td title=\"Upper limit of the parameter\">Limit+</td>\n",
       "                <td title=\"Is the parameter fixed in the fit\">FIXED</td>\n",
       "            </tr>\n",
       "        \n",
       "            <tr>\n",
       "                <td>1</td>\n",
       "                <td>amplitude</td>\n",
       "                <td>1.84517e-12</td>\n",
       "                <td>3.23998e-13</td>\n",
       "                <td>0</td>\n",
       "                <td>0</td>\n",
       "                <td></td>\n",
       "                <td></td>\n",
       "                <td></td>\n",
       "            </tr>\n",
       "            \n",
       "            <tr>\n",
       "                <td>2</td>\n",
       "                <td>index</td>\n",
       "                <td>2.26064</td>\n",
       "                <td>0.0627938</td>\n",
       "                <td>0</td>\n",
       "                <td>0</td>\n",
       "                <td></td>\n",
       "                <td></td>\n",
       "                <td></td>\n",
       "            </tr>\n",
       "            \n",
       "            </table>\n",
       "        \n",
       "            <pre id=\"lTZBnZlALi\" style=\"display:none;\">\n",
       "            <textarea rows=\"10\" cols=\"50\" onclick=\"this.select()\" readonly>\\begin{tabular}{|c|r|r|r|r|r|r|r|c|}\n",
       "\\hline\n",
       " & Name & Value & Para Error & Error+ & Error- & Limit+ & Limit- & FIXED\\\\\n",
       "\\hline\n",
       "1 & amplitude & 1.845e-12 & 3.240e-13 &  &  &  &  & \\\\\n",
       "\\hline\n",
       "2 & index & 2.261e+00 & 6.279e-02 &  &  &  &  & \\\\\n",
       "\\hline\n",
       "\\end{tabular}</textarea>\n",
       "            </pre>\n",
       "            "
      ]
     },
     "metadata": {},
     "output_type": "display_data"
    },
    {
     "data": {
      "text/html": [
       "<hr>"
      ]
     },
     "metadata": {},
     "output_type": "display_data"
    },
    {
     "name": "stdout",
     "output_type": "stream",
     "text": [
      "^ Optimized parameters for best-fit model\n"
     ]
    }
   ],
   "source": [
    "from iminuit import Minuit\n",
    "\n",
    "pars = dict(amplitude=p['amplitude'].value, index=p['index'].value)\n",
    "\n",
    "minuit = Minuit(chi2, **pars)\n",
    "\n",
    "minuit.print_initial_param()\n",
    "print(\"^ Initial parameters\")\n",
    "\n",
    "minuit.migrad() # Performs the minimization\n",
    "print(\"^ Optimized parameters for best-fit model\")"
   ]
  },
  {
   "cell_type": "markdown",
   "metadata": {},
   "source": [
    "## Final plot"
   ]
  },
  {
   "cell_type": "code",
   "execution_count": 110,
   "metadata": {
    "collapsed": false
   },
   "outputs": [
    {
     "data": {
      "text/plain": [
       "[<matplotlib.lines.Line2D at 0x29a4850e7b8>]"
      ]
     },
     "execution_count": 110,
     "metadata": {},
     "output_type": "execute_result"
    },
    {
     "data": {
      "image/png": "[encoded data removed]",
      "text/plain": [
       "<matplotlib.figure.Figure at 0x29a4850e710>"
      ]
     },
     "metadata": {},
     "output_type": "display_data"
    }
   ],
   "source": [
    "source.spectral_model.plot(linestyle='dashed', alpha=0.7, **opts)\n",
    "\n",
    "plt.errorbar(x=data['e_ref'],\n",
    "             y = data['dnde'],\n",
    "             yerr = data['dnde_err'],\n",
    "             fmt='.'\n",
    "            )\n",
    "\n",
    "\n",
    "from gammapy.utils.energy import Energy\n",
    "energy = Energy.equal_log_spacing(\n",
    "    emin=energy_range[0],\n",
    "    emax=energy_range[1],\n",
    "    nbins=100,\n",
    ")\n",
    "\n",
    "\n",
    "flux = source.spectral_model.evaluate(\n",
    "    energy=energy.to('TeV').value,\n",
    "    amplitude = minuit.values['amplitude'],\n",
    "    index = minuit.values['index'],\n",
    "    reference=p['reference'].value,\n",
    ")\n",
    "plt.plot(energy, flux, linewidth=2)"
   ]
  }
 ],
 "metadata": {
  "kernelspec": {
   "display_name": "Python 3",
   "language": "python",
   "name": "python3"
  },
  "language_info": {
   "codemirror_mode": {
    "name": "ipython",
    "version": 3
   },
   "file_extension": ".py",
   "mimetype": "text/x-python",
   "name": "python",
   "nbconvert_exporter": "python",
   "pygments_lexer": "ipython3",
   "version": "3.5.1"
  }
 },
 "nbformat": 4,
 "nbformat_minor": 2
}
