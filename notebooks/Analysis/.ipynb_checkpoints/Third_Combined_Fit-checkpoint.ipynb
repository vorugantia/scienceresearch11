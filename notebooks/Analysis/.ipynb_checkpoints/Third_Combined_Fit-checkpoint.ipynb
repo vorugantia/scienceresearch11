{
 "cells": [
  {
   "cell_type": "code",
   "execution_count": 2,
   "metadata": {
    "collapsed": true
   },
   "outputs": [],
   "source": [
    "%matplotlib inline\n",
    "import numpy as np\n",
    "import pandas as pd\n",
    "import matplotlib.pyplot as plt\n",
    "plt.style.use('ggplot')\n",
    "from pprint import pprint\n",
    "import astropy.units as u\n",
    "from astropy.units import Quantity\n",
    "from astropy.table import Table, vstack\n",
    "from gammapy.spectrum import FluxPoints\n",
    "from numpy import isnan\n",
    "\n",
    "# Temporarily fixing environment variable for gamma-cat\n",
    "import os\n",
    "os.environ['GAMMA_CAT'] = os.path.join('C:/Users/Arjun/github/gamma-cat')"
   ]
  },
  {
   "cell_type": "markdown",
   "metadata": {},
   "source": [
    "## The source\n",
    "\n",
    "HESS J1418-609\n",
    "\n",
    "3FGL J1418.6-6058\n",
    "\n",
    "https://github.com/gammasky/fermi-hgps-paper/blob/master/analysis/sources/hgps/pages/HESS_J1418m609.md\n",
    "\n",
    "Identified as PWN"
   ]
  },
  {
   "cell_type": "code",
   "execution_count": 102,
   "metadata": {
    "collapsed": false
   },
   "outputs": [
    {
     "data": {
      "text/html": [
       "&lt;Table length=5&gt;\n",
       "<table id=\"table1677301029072\" class=\"table-striped table-bordered table-condensed\">\n",
       "<thead><tr><th>e_ref</th><th>e_min</th><th>e_max</th><th>flux</th><th>flux_errn</th><th>flux_errp</th><th>eflux</th><th>eflux_errn</th><th>eflux_errp</th><th>is_ul</th><th>flux_ul</th><th>eflux_ul</th><th>dnde</th><th>dnde_err</th></tr></thead>\n",
       "<thead><tr><th>TeV</th><th>TeV</th><th>TeV</th><th>1 / (cm2 s)</th><th>1 / (cm2 s)</th><th>1 / (cm2 s)</th><th>erg / (cm2 s)</th><th>erg / (cm2 s)</th><th>erg / (cm2 s)</th><th></th><th>1 / (cm2 s)</th><th>erg / (cm2 s)</th><th>1 / (cm2 s TeV)</th><th>1 / (cm2 s TeV)</th></tr></thead>\n",
       "<thead><tr><th>float64</th><th>float64</th><th>float64</th><th>float32</th><th>float32</th><th>float32</th><th>float32</th><th>float32</th><th>float32</th><th>bool</th><th>float64</th><th>float64</th><th>float64</th><th>float64</th></tr></thead>\n",
       "<tr><td>0.000173205080757</td><td>0.0001</td><td>0.0003</td><td>1.31657e-07</td><td>3.03161e-08</td><td>3.03198e-08</td><td>3.05017e-11</td><td>7.02347e-12</td><td>7.02433e-12</td><td>False</td><td>nan</td><td>nan</td><td>0.000634588857121</td><td>0.000146123465419</td></tr>\n",
       "<tr><td>0.000547722557505</td><td>0.0003</td><td>0.001</td><td>2.6386e-08</td><td>7.8923e-09</td><td>7.38518e-09</td><td>1.73427e-11</td><td>5.18737e-12</td><td>4.85406e-12</td><td>False</td><td>nan</td><td>nan</td><td>3.60815814632e-05</td><td>1.07923423086e-05</td></tr>\n",
       "<tr><td>0.00173205080757</td><td>0.001</td><td>0.003</td><td>2.16535e-09</td><td>8.60455e-10</td><td>8.9116e-10</td><td>5.01656e-12</td><td>1.99346e-12</td><td>2.06459e-12</td><td>False</td><td>nan</td><td>nan</td><td>1.04369724875e-06</td><td>4.14739212389e-07</td></tr>\n",
       "<tr><td>0.00547722557505</td><td>0.003</td><td>0.01</td><td>8.80494e-10</td><td>1.90678e-10</td><td>1.9308e-10</td><td>5.78722e-12</td><td>1.25327e-12</td><td>1.26905e-12</td><td>False</td><td>nan</td><td>nan</td><td>1.20403294325e-07</td><td>2.60742241825e-08</td></tr>\n",
       "<tr><td>0.0316227766017</td><td>0.01</td><td>0.1</td><td>1.53718e-10</td><td>4.84497e-11</td><td>5.58215e-11</td><td>2.3669e-12</td><td>7.46016e-13</td><td>8.59525e-13</td><td>False</td><td>nan</td><td>nan</td><td>1.47730519638e-09</td><td>4.65626478983e-10</td></tr>\n",
       "</table>"
      ],
      "text/plain": [
       "<Table length=5>\n",
       "      e_ref        e_min   e_max  ...        dnde            dnde_err    \n",
       "       TeV          TeV     TeV   ...  1 / (cm2 s TeV)   1 / (cm2 s TeV) \n",
       "     float64      float64 float64 ...      float64           float64     \n",
       "----------------- ------- ------- ... ----------------- -----------------\n",
       "0.000173205080757  0.0001  0.0003 ... 0.000634588857121 0.000146123465419\n",
       "0.000547722557505  0.0003   0.001 ... 3.60815814632e-05 1.07923423086e-05\n",
       " 0.00173205080757   0.001   0.003 ... 1.04369724875e-06 4.14739212389e-07\n",
       " 0.00547722557505   0.003    0.01 ... 1.20403294325e-07 2.60742241825e-08\n",
       "  0.0316227766017    0.01     0.1 ... 1.47730519638e-09 4.65626478983e-10"
      ]
     },
     "execution_count": 102,
     "metadata": {},
     "output_type": "execute_result"
    }
   ],
   "source": [
    "# Preparing Fermi data\n",
    "from gammapy.catalog import SourceCatalog3FGL\n",
    "\n",
    "cat_f = SourceCatalog3FGL()\n",
    "source_f = cat_f['3FGL J1641.1-4619c']\n",
    "\n",
    "data_f = source_f.flux_points.table\n",
    "\n",
    "data_f['e_ref'] = data_f['e_ref'].to('TeV')\n",
    "data_f['e_min'] = data_f['e_min'].to('TeV')\n",
    "data_f['e_max'] = data_f['e_max'].to('TeV')\n",
    "\n",
    "dnde_err_f = data_f['dnde'] * (data_f['flux_errn'] / data_f['flux'])\n",
    "data_f['dnde_err'] = dnde_err_f.to(data_f['dnde'].unit)\n",
    "\n",
    "data_f"
   ]
  },
  {
   "cell_type": "code",
   "execution_count": 103,
   "metadata": {
    "collapsed": false
   },
   "outputs": [
    {
     "data": {
      "text/html": [
       "&lt;Table length=9&gt;\n",
       "<table id=\"table1677230418912\" class=\"table-striped table-bordered table-condensed\">\n",
       "<thead><tr><th>e_ref</th><th>dnde</th><th>dnde_errp</th><th>dnde_errn</th><th>dnde_ul</th><th>dnde_err</th></tr></thead>\n",
       "<thead><tr><th>TeV</th><th>1 / (cm2 s TeV)</th><th>1 / (cm2 s TeV)</th><th>1 / (cm2 s TeV)</th><th>1 / (cm2 s TeV)</th><th>1 / (cm2 s TeV)</th></tr></thead>\n",
       "<thead><tr><th>float32</th><th>float32</th><th>float32</th><th>float32</th><th>float32</th><th>float32</th></tr></thead>\n",
       "<tr><td>0.815</td><td>4.332e-13</td><td>2.253e-13</td><td>2.09e-13</td><td>nan</td><td>2.09e-13</td></tr>\n",
       "<tr><td>1.347</td><td>3.037e-13</td><td>6.099e-14</td><td>5.68e-14</td><td>nan</td><td>5.68e-14</td></tr>\n",
       "<tr><td>2.384</td><td>3.797e-14</td><td>1.4e-14</td><td>1.259e-14</td><td>nan</td><td>1.259e-14</td></tr>\n",
       "<tr><td>4.207</td><td>1.522e-14</td><td>5.605e-15</td><td>5.048e-15</td><td>nan</td><td>5.048e-15</td></tr>\n",
       "<tr><td>7.439</td><td>1.12e-14</td><td>2.642e-15</td><td>2.39e-15</td><td>nan</td><td>2.39e-15</td></tr>\n",
       "<tr><td>13.19</td><td>2.076e-15</td><td>8.833e-16</td><td>7.588e-16</td><td>nan</td><td>7.588e-16</td></tr>\n",
       "<tr><td>23.4</td><td>6.192e-16</td><td>3.551e-16</td><td>2.896e-16</td><td>nan</td><td>2.896e-16</td></tr>\n",
       "<tr><td>41.55</td><td>nan</td><td>nan</td><td>nan</td><td>4.101e-16</td><td>nan</td></tr>\n",
       "<tr><td>68.72</td><td>nan</td><td>nan</td><td>nan</td><td>2.884e-16</td><td>nan</td></tr>\n",
       "</table>"
      ],
      "text/plain": [
       "<Table length=9>\n",
       " e_ref        dnde         dnde_errp    ...     dnde_ul         dnde_err   \n",
       "  TeV   1 / (cm2 s TeV) 1 / (cm2 s TeV) ... 1 / (cm2 s TeV) 1 / (cm2 s TeV)\n",
       "float32     float32         float32     ...     float32         float32    \n",
       "------- --------------- --------------- ... --------------- ---------------\n",
       "  0.815       4.332e-13       2.253e-13 ...             nan        2.09e-13\n",
       "  1.347       3.037e-13       6.099e-14 ...             nan        5.68e-14\n",
       "  2.384       3.797e-14         1.4e-14 ...             nan       1.259e-14\n",
       "  4.207       1.522e-14       5.605e-15 ...             nan       5.048e-15\n",
       "  7.439        1.12e-14       2.642e-15 ...             nan        2.39e-15\n",
       "  13.19       2.076e-15       8.833e-16 ...             nan       7.588e-16\n",
       "   23.4       6.192e-16       3.551e-16 ...             nan       2.896e-16\n",
       "  41.55             nan             nan ...       4.101e-16             nan\n",
       "  68.72             nan             nan ...       2.884e-16             nan"
      ]
     },
     "execution_count": 103,
     "metadata": {},
     "output_type": "execute_result"
    }
   ],
   "source": [
    "# Preparing gamma-cat data\n",
    "from gammapy.catalog import SourceCatalogGammaCat\n",
    "\n",
    "cat_g = SourceCatalogGammaCat()\n",
    "source_g = cat_g['HESS J1641-463']\n",
    "\n",
    "data_g = source_g.flux_points.table\n",
    "dnde_err_g = data_g['dnde'] * (data_g['dnde_errn'] / data_g['dnde'])\n",
    "data_g['dnde_err'] = dnde_err_g.to(data_g['dnde'].unit)\n",
    "\n",
    "data_g"
   ]
  },
  {
   "cell_type": "code",
   "execution_count": 104,
   "metadata": {
    "collapsed": false
   },
   "outputs": [
    {
     "name": "stderr",
     "output_type": "stream",
     "text": [
      "WARNING: MergeConflictWarning: Cannot merge meta key 'SED_TYPE' types <class 'str'> and <class 'str'>, choosing SED_TYPE='dnde' [astropy.utils.metadata]\n"
     ]
    },
    {
     "data": {
      "text/html": [
       "&lt;Table length=12&gt;\n",
       "<table id=\"table1677230508912\" class=\"table-striped table-bordered table-condensed\">\n",
       "<thead><tr><th>e_ref</th><th>dnde</th><th>dnde_err</th></tr></thead>\n",
       "<thead><tr><th>TeV</th><th>1 / (cm2 s TeV)</th><th>1 / (cm2 s TeV)</th></tr></thead>\n",
       "<thead><tr><th>float64</th><th>float64</th><th>float64</th></tr></thead>\n",
       "<tr><td>0.000173205080757</td><td>0.000634588857121</td><td>0.000146123465419</td></tr>\n",
       "<tr><td>0.000547722557505</td><td>3.60815814632e-05</td><td>1.07923423086e-05</td></tr>\n",
       "<tr><td>0.00173205080757</td><td>1.04369724875e-06</td><td>4.14739212389e-07</td></tr>\n",
       "<tr><td>0.00547722557505</td><td>1.20403294325e-07</td><td>2.60742241825e-08</td></tr>\n",
       "<tr><td>0.0316227766017</td><td>1.47730519638e-09</td><td>4.65626478983e-10</td></tr>\n",
       "<tr><td>0.814999997616</td><td>4.33199998226e-13</td><td>2.08999999382e-13</td></tr>\n",
       "<tr><td>1.34700000286</td><td>3.03699990503e-13</td><td>5.67999999519e-14</td></tr>\n",
       "<tr><td>2.38400006294</td><td>3.79700001367e-14</td><td>1.25900004194e-14</td></tr>\n",
       "<tr><td>4.20699977875</td><td>1.52199996042e-14</td><td>5.04799999883e-15</td></tr>\n",
       "<tr><td>7.4390001297</td><td>1.11999998712e-14</td><td>2.39000002243e-15</td></tr>\n",
       "<tr><td>13.1899995804</td><td>2.07600003845e-15</td><td>7.58799960359e-16</td></tr>\n",
       "<tr><td>23.3999996185</td><td>6.19199983866e-16</td><td>2.89600008801e-16</td></tr>\n",
       "</table>"
      ],
      "text/plain": [
       "<Table length=12>\n",
       "      e_ref              dnde            dnde_err    \n",
       "       TeV         1 / (cm2 s TeV)   1 / (cm2 s TeV) \n",
       "     float64           float64           float64     \n",
       "----------------- ----------------- -----------------\n",
       "0.000173205080757 0.000634588857121 0.000146123465419\n",
       "0.000547722557505 3.60815814632e-05 1.07923423086e-05\n",
       " 0.00173205080757 1.04369724875e-06 4.14739212389e-07\n",
       " 0.00547722557505 1.20403294325e-07 2.60742241825e-08\n",
       "  0.0316227766017 1.47730519638e-09 4.65626478983e-10\n",
       "   0.814999997616 4.33199998226e-13 2.08999999382e-13\n",
       "    1.34700000286 3.03699990503e-13 5.67999999519e-14\n",
       "    2.38400006294 3.79700001367e-14 1.25900004194e-14\n",
       "    4.20699977875 1.52199996042e-14 5.04799999883e-15\n",
       "     7.4390001297 1.11999998712e-14 2.39000002243e-15\n",
       "    13.1899995804 2.07600003845e-15 7.58799960359e-16\n",
       "    23.3999996185 6.19199983866e-16 2.89600008801e-16"
      ]
     },
     "execution_count": 104,
     "metadata": {},
     "output_type": "execute_result"
    }
   ],
   "source": [
    "# Combining data\n",
    "colnames=['e_ref', 'dnde', 'dnde_err']\n",
    "\n",
    "data_combined = vstack([\n",
    "                    data_f[colnames], \n",
    "                    data_g[colnames]\n",
    "                    ])\n",
    "\n",
    "flux_points = FluxPoints(data_combined)\n",
    "\n",
    "flux_points.table\n",
    "\n",
    "mask = ~np.isnan(flux_points.table['dnde_err'])\n",
    "flux_points.table = flux_points.table[mask]\n",
    "\n",
    "flux_points.table"
   ]
  },
  {
   "cell_type": "markdown",
   "metadata": {},
   "source": [
    "## Plot data and model"
   ]
  },
  {
   "cell_type": "code",
   "execution_count": 105,
   "metadata": {
    "collapsed": false
   },
   "outputs": [
    {
     "data": {
      "text/plain": [
       "<Container object of 3 artists>"
      ]
     },
     "execution_count": 105,
     "metadata": {},
     "output_type": "execute_result"
    },
    {
     "data": {
      "image/png": "[encoded data removed]",
      "text/plain": [
       "<matplotlib.figure.Figure at 0x18686eea9e8>"
      ]
     },
     "metadata": {},
     "output_type": "display_data"
    }
   ],
   "source": [
    "# Defining units\n",
    "energy_range = [1e-4, 100] * u.TeV\n",
    "opts = dict(energy_unit='TeV', flux_unit='cm-2 s-1 TeV-1', energy_range=energy_range)\n",
    "\n",
    "source_f.spectral_model.plot(**opts, color='r')\n",
    "# Using the combined energy range to stretch to gamma-cat data\n",
    "\n",
    "p_f = source_f.spectral_model.parameters\n",
    "p_g = source_g.spectral_model.parameters\n",
    "plt.plot(p_f['reference'].value / 1e6, p_f['amplitude'].value * 1e6, '*', color='c')\n",
    "plt.plot(p_g['reference'].value, p_g['amplitude'].value, '*', color='c')\n",
    "\n",
    "\n",
    "\n",
    "# Combined 3FGL + gamma-cat:\n",
    "# TODO: Split the colors for the flux points (first 5 purple, last 6 red)\n",
    "# Instead of the below code, I can call plt.errorbar() for each catalog individually. \n",
    "\n",
    "plt.errorbar(x=flux_points.table['e_ref'],\n",
    "             y=flux_points.table['dnde'],\n",
    "             yerr=flux_points.table['dnde_err'],\n",
    "             fmt='.',\n",
    "             color='b'\n",
    "            )"
   ]
  },
  {
   "cell_type": "markdown",
   "metadata": {},
   "source": [
    "## Defining chi2 function\n",
    "\n",
    "First let's use PowerLaw."
   ]
  },
  {
   "cell_type": "code",
   "execution_count": 106,
   "metadata": {
    "collapsed": true
   },
   "outputs": [],
   "source": [
    "from gammapy.spectrum.models import PowerLaw\n",
    "\n",
    "class MyChi2:\n",
    "\n",
    "    def __init__(self, flux_points, spectral_model):\n",
    "        self.flux_points = flux_points\n",
    "        self.spectral_model = spectral_model\n",
    "    \n",
    "    def __call__(self, amplitude, index):\n",
    "\n",
    "        t = self.flux_points.table\n",
    "        \n",
    "        dnde_model = PowerLaw.evaluate( # Should be calling: spectral_model.evaluate()\n",
    "            energy=t['e_ref'],\n",
    "            amplitude=amplitude,\n",
    "            index=index,\n",
    "            reference=1 # 1 TeV\n",
    "        )\n",
    "\n",
    "        chi = (t['dnde'] - dnde_model) / t['dnde_err']\n",
    "        return np.sum(chi ** 2)"
   ]
  },
  {
   "cell_type": "markdown",
   "metadata": {},
   "source": [
    "## Defining Chi2Fitter class and running a fit"
   ]
  },
  {
   "cell_type": "code",
   "execution_count": 107,
   "metadata": {
    "collapsed": true
   },
   "outputs": [],
   "source": [
    "from iminuit import Minuit\n",
    "\n",
    "class Chi2Fitter(object):\n",
    "    def __init__(self, flux_points, spectral_model):\n",
    "        self.flux_points = flux_points\n",
    "        self.spectral_model = spectral_model\n",
    "        self.minuit = None\n",
    "    \n",
    "    def fit(self):\n",
    "\n",
    "        chi2 = MyChi2(self.flux_points, self.spectral_model)\n",
    "        \n",
    "        pars = dict(\n",
    "            amplitude=self.spectral_model.parameters['amplitude'].value,\n",
    "            index = self.spectral_model.parameters['index'].value\n",
    "        )\n",
    "        \n",
    "        minuit = Minuit(chi2, **pars)\n",
    "        \n",
    "        minuit.migrad()\n",
    "        minuit.hesse()\n",
    "        \n",
    "        self.minuit = minuit"
   ]
  },
  {
   "cell_type": "code",
   "execution_count": 108,
   "metadata": {
    "collapsed": false
   },
   "outputs": [
    {
     "name": "stderr",
     "output_type": "stream",
     "text": [
      "C:\\Users\\Arjun\\Anaconda3\\lib\\site-packages\\ipykernel_launcher.py:18: InitialParamWarning: errordef is not given. Default to 1.\n",
      "C:\\Users\\Arjun\\Anaconda3\\lib\\site-packages\\ipykernel_launcher.py:18: InitialParamWarning: Parameter amplitude is floating but does not have initial step size. Assume 1.\n",
      "C:\\Users\\Arjun\\Anaconda3\\lib\\site-packages\\ipykernel_launcher.py:18: InitialParamWarning: Parameter index is floating but does not have initial step size. Assume 1.\n",
      "C:\\Users\\Arjun\\Anaconda3\\lib\\site-packages\\gammapy\\spectrum\\models.py:408: RuntimeWarning: overflow encountered in power\n",
      "  return amplitude * np.power((energy / reference), -index)\n",
      "C:\\Users\\Arjun\\Anaconda3\\lib\\site-packages\\ipykernel_launcher.py:21: RuntimeWarning: overflow encountered in square\n"
     ]
    },
    {
     "data": {
      "text/html": [
       "<hr>"
      ]
     },
     "metadata": {},
     "output_type": "display_data"
    },
    {
     "data": {
      "text/html": [
       "\n",
       "        <table>\n",
       "            <tr>\n",
       "                <td title=\"Minimum value of function\">FCN = 25.834741363352848</td>\n",
       "                <td title=\"Total number of call to FCN so far\">TOTAL NCALL = 115</td>\n",
       "                <td title=\"Number of call in last migrad\">NCALLS = 115</td>\n",
       "            </tr>\n",
       "            <tr>\n",
       "                <td title=\"Estimated distance to minimum\">EDM = 1.8331042475404038e-06</td>\n",
       "                <td title=\"Maximum EDM definition of convergence\">GOAL EDM = 1e-05</td>\n",
       "                <td title=\"Error def. Amount of increase in FCN to be defined as 1 standard deviation\">\n",
       "                UP = 1.0</td>\n",
       "            </tr>\n",
       "        </table>\n",
       "        \n",
       "        <table>\n",
       "            <tr>\n",
       "                <td align=\"center\" title=\"Validity of the migrad call\">Valid</td>\n",
       "                <td align=\"center\" title=\"Validity of parameters\">Valid Param</td>\n",
       "                <td align=\"center\" title=\"Is Covariance matrix accurate?\">Accurate Covar</td>\n",
       "                <td align=\"center\" title=\"Positive definiteness of covariance matrix\">PosDef</td>\n",
       "                <td align=\"center\" title=\"Was covariance matrix made posdef by adding diagonal element\">Made PosDef</td>\n",
       "            </tr>\n",
       "            <tr>\n",
       "                <td align=\"center\" style=\"background-color:#92CCA6\">True</td>\n",
       "                <td align=\"center\" style=\"background-color:#92CCA6\">True</td>\n",
       "                <td align=\"center\" style=\"background-color:#92CCA6\">True</td>\n",
       "                <td align=\"center\" style=\"background-color:#92CCA6\">True</td>\n",
       "                <td align=\"center\" style=\"background-color:#92CCA6\">False</td>\n",
       "            </tr>\n",
       "            <tr>\n",
       "                <td align=\"center\" title=\"Was last hesse call fail?\">Hesse Fail</td>\n",
       "                <td align=\"center\" title=\"Validity of covariance\">HasCov</td>\n",
       "                <td align=\"center\" title=\"Is EDM above goal EDM?\">Above EDM</td>\n",
       "                <td align=\"center\"></td>\n",
       "                <td align=\"center\" title=\"Did last migrad call reach max call limit?\">Reach calllim</td>\n",
       "            </tr>\n",
       "            <tr>\n",
       "                <td align=\"center\" style=\"background-color:#92CCA6\">False</td>\n",
       "                <td align=\"center\" style=\"background-color:#92CCA6\">True</td>\n",
       "                <td align=\"center\" style=\"background-color:#92CCA6\">False</td>\n",
       "                <td align=\"center\"></td>\n",
       "                <td align=\"center\" style=\"background-color:#92CCA6\">False</td>\n",
       "            </tr>\n",
       "        </table>\n",
       "        "
      ]
     },
     "metadata": {},
     "output_type": "display_data"
    },
    {
     "data": {
      "text/html": [
       "\n",
       "        <table>\n",
       "            <tr>\n",
       "                <td><a href=\"#\" onclick=\"$('#sPrwgrJdvb').toggle()\">+</a></td>\n",
       "                <td title=\"Variable name\">Name</td>\n",
       "                <td title=\"Value of parameter\">Value</td>\n",
       "                <td title=\"Parabolic error\">Parab Error</td>\n",
       "                <td title=\"Minos lower error\">Minos Error-</td>\n",
       "                <td title=\"Minos upper error\">Minos Error+</td>\n",
       "                <td title=\"Lower limit of the parameter\">Limit-</td>\n",
       "                <td title=\"Upper limit of the parameter\">Limit+</td>\n",
       "                <td title=\"Is the parameter fixed in the fit\">FIXED</td>\n",
       "            </tr>\n",
       "        \n",
       "            <tr>\n",
       "                <td>1</td>\n",
       "                <td>amplitude</td>\n",
       "                <td>4.62558e-13</td>\n",
       "                <td>5.18141e-14</td>\n",
       "                <td>0</td>\n",
       "                <td>0</td>\n",
       "                <td></td>\n",
       "                <td></td>\n",
       "                <td></td>\n",
       "            </tr>\n",
       "            \n",
       "            <tr>\n",
       "                <td>2</td>\n",
       "                <td>index</td>\n",
       "                <td>2.37809</td>\n",
       "                <td>0.0274727</td>\n",
       "                <td>0</td>\n",
       "                <td>0</td>\n",
       "                <td></td>\n",
       "                <td></td>\n",
       "                <td></td>\n",
       "            </tr>\n",
       "            \n",
       "            </table>\n",
       "        \n",
       "            <pre id=\"sPrwgrJdvb\" style=\"display:none;\">\n",
       "            <textarea rows=\"10\" cols=\"50\" onclick=\"this.select()\" readonly>\\begin{tabular}{|c|r|r|r|r|r|r|r|c|}\n",
       "\\hline\n",
       " & Name & Value & Para Error & Error+ & Error- & Limit+ & Limit- & FIXED\\\\\n",
       "\\hline\n",
       "1 & amplitude & 4.626e-13 & 5.181e-14 &  &  &  &  & \\\\\n",
       "\\hline\n",
       "2 & index & 2.378e+00 & 2.747e-02 &  &  &  &  & \\\\\n",
       "\\hline\n",
       "\\end{tabular}</textarea>\n",
       "            </pre>\n",
       "            "
      ]
     },
     "metadata": {},
     "output_type": "display_data"
    },
    {
     "data": {
      "text/html": [
       "<hr>"
      ]
     },
     "metadata": {},
     "output_type": "display_data"
    },
    {
     "data": {
      "text/html": [
       "\n",
       "        <table>\n",
       "            <tr>\n",
       "                <td><a href=\"#\" onclick=\"$('#JBdcJCaGcg').toggle()\">+</a></td>\n",
       "                <td title=\"Variable name\">Name</td>\n",
       "                <td title=\"Value of parameter\">Value</td>\n",
       "                <td title=\"Parabolic error\">Parab Error</td>\n",
       "                <td title=\"Minos lower error\">Minos Error-</td>\n",
       "                <td title=\"Minos upper error\">Minos Error+</td>\n",
       "                <td title=\"Lower limit of the parameter\">Limit-</td>\n",
       "                <td title=\"Upper limit of the parameter\">Limit+</td>\n",
       "                <td title=\"Is the parameter fixed in the fit\">FIXED</td>\n",
       "            </tr>\n",
       "        \n",
       "            <tr>\n",
       "                <td>1</td>\n",
       "                <td>amplitude</td>\n",
       "                <td>4.62558e-13</td>\n",
       "                <td>5.39105e-14</td>\n",
       "                <td>0</td>\n",
       "                <td>0</td>\n",
       "                <td></td>\n",
       "                <td></td>\n",
       "                <td></td>\n",
       "            </tr>\n",
       "            \n",
       "            <tr>\n",
       "                <td>2</td>\n",
       "                <td>index</td>\n",
       "                <td>2.37809</td>\n",
       "                <td>0.0288346</td>\n",
       "                <td>0</td>\n",
       "                <td>0</td>\n",
       "                <td></td>\n",
       "                <td></td>\n",
       "                <td></td>\n",
       "            </tr>\n",
       "            \n",
       "            </table>\n",
       "        \n",
       "            <pre id=\"JBdcJCaGcg\" style=\"display:none;\">\n",
       "            <textarea rows=\"10\" cols=\"50\" onclick=\"this.select()\" readonly>\\begin{tabular}{|c|r|r|r|r|r|r|r|c|}\n",
       "\\hline\n",
       " & Name & Value & Para Error & Error+ & Error- & Limit+ & Limit- & FIXED\\\\\n",
       "\\hline\n",
       "1 & amplitude & 4.626e-13 & 5.391e-14 &  &  &  &  & \\\\\n",
       "\\hline\n",
       "2 & index & 2.378e+00 & 2.883e-02 &  &  &  &  & \\\\\n",
       "\\hline\n",
       "\\end{tabular}</textarea>\n",
       "            </pre>\n",
       "            "
      ]
     },
     "metadata": {},
     "output_type": "display_data"
    },
    {
     "data": {
      "text/html": [
       "\n",
       "            <table>\n",
       "                <tr>\n",
       "                    <td><a onclick=\"$('#tVxgznBSWG').toggle()\" href=\"#\">+</a></td>\n",
       "        \n",
       "            <td>\n",
       "            <div style=\"width:20px;position:relative; width: -moz-fit-content;\">\n",
       "            <div style=\"display:inline-block;-webkit-writing-mode:vertical-rl;-moz-writing-mode: vertical-rl;writing-mode: vertical-rl;\">\n",
       "            amplitude\n",
       "            </div>\n",
       "            </div>\n",
       "            </td>\n",
       "            \n",
       "            <td>\n",
       "            <div style=\"width:20px;position:relative; width: -moz-fit-content;\">\n",
       "            <div style=\"display:inline-block;-webkit-writing-mode:vertical-rl;-moz-writing-mode: vertical-rl;writing-mode: vertical-rl;\">\n",
       "            index\n",
       "            </div>\n",
       "            </div>\n",
       "            </td>\n",
       "            \n",
       "                </tr>\n",
       "                \n",
       "            <tr>\n",
       "                <td>amplitude</td>\n",
       "            \n",
       "                <td style=\"background-color:rgb(255,117,117)\">\n",
       "                1.00\n",
       "                </td>\n",
       "                \n",
       "                <td style=\"background-color:rgb(223,165,141)\">\n",
       "                -0.65\n",
       "                </td>\n",
       "                \n",
       "            </tr>\n",
       "            \n",
       "            <tr>\n",
       "                <td>index</td>\n",
       "            \n",
       "                <td style=\"background-color:rgb(223,165,141)\">\n",
       "                -0.65\n",
       "                </td>\n",
       "                \n",
       "                <td style=\"background-color:rgb(255,117,117)\">\n",
       "                1.00\n",
       "                </td>\n",
       "                \n",
       "            </tr>\n",
       "            </table>\n",
       "\n",
       "            <pre id=\"tVxgznBSWG\" style=\"display:none;\">\n",
       "            <textarea rows=\"13\" cols=\"50\" onclick=\"this.select()\" readonly>%\\usepackage[table]{xcolor} % include this for color\n",
       "%\\usepackage{rotating} % include this for rotate header\n",
       "%\\documentclass[xcolor=table]{beamer} % for beamer\n",
       "\\begin{tabular}{|c|c|c|}\n",
       "\\hline\n",
       "\\rotatebox{90}{} & \\rotatebox{90}{amplitude} & \\rotatebox{90}{index}\\\\\n",
       "\\hline\n",
       "amplitude & \\cellcolor[RGB]{255,117,117} 1.00 & \\cellcolor[RGB]{223,165,141} -0.65\\\\\n",
       "\\hline\n",
       "index & \\cellcolor[RGB]{223,165,141} -0.65 & \\cellcolor[RGB]{255,117,117} 1.00\\\\\n",
       "\\hline\n",
       "\\end{tabular}</textarea>\n",
       "            </pre>\n",
       "            "
      ]
     },
     "metadata": {},
     "output_type": "display_data"
    },
    {
     "name": "stdout",
     "output_type": "stream",
     "text": [
      "{'index': 2.3780916036983166, 'amplitude': 4.625580870039591e-13}\n",
      "\n",
      " {'index': 0.028834634019909693, 'amplitude': 5.39104666629632e-14}\n",
      "      e_ref              dnde            dnde_err    \n",
      "       TeV         1 / (cm2 s TeV)   1 / (cm2 s TeV) \n",
      "----------------- ----------------- -----------------\n",
      "0.000173205080757 0.000634588857121 0.000146123465419\n",
      "0.000547722557505 3.60815814632e-05 1.07923423086e-05\n",
      " 0.00173205080757 1.04369724875e-06 4.14739212389e-07\n",
      " 0.00547722557505 1.20403294325e-07 2.60742241825e-08\n",
      "  0.0316227766017 1.47730519638e-09 4.65626478983e-10\n",
      "   0.814999997616 4.33199998226e-13 2.08999999382e-13\n",
      "    1.34700000286 3.03699990503e-13 5.67999999519e-14\n",
      "    2.38400006294 3.79700001367e-14 1.25900004194e-14\n",
      "    4.20699977875 1.52199996042e-14 5.04799999883e-15\n",
      "     7.4390001297 1.11999998712e-14 2.39000002243e-15\n",
      "    13.1899995804 2.07600003845e-15 7.58799960359e-16\n",
      "    23.3999996185 6.19199983866e-16 2.89600008801e-16\n"
     ]
    }
   ],
   "source": [
    "spectral_model = PowerLaw(\n",
    "    reference=1,\n",
    "    amplitude=1e-10, # p_g['amplitude'].value \n",
    "    index=2 # p_g['index'].value\n",
    ")\n",
    "\n",
    "fitter = Chi2Fitter(flux_points=flux_points, spectral_model=spectral_model)\n",
    "fitter.fit()\n",
    "\n",
    "print(fitter.minuit.values)\n",
    "print('\\n', fitter.minuit.errors)\n",
    "\n",
    "\n",
    "        \n",
    "fitter.flux_points.table.pprint()"
   ]
  },
  {
   "cell_type": "markdown",
   "metadata": {},
   "source": [
    "## Final plot"
   ]
  },
  {
   "cell_type": "code",
   "execution_count": 109,
   "metadata": {
    "collapsed": false
   },
   "outputs": [
    {
     "data": {
      "text/plain": [
       "<matplotlib.text.Text at 0x186886db780>"
      ]
     },
     "execution_count": 109,
     "metadata": {},
     "output_type": "execute_result"
    },
    {
     "data": {
      "image/png": "[encoded data removed]",
      "text/plain": [
       "<matplotlib.figure.Figure at 0x186886679b0>"
      ]
     },
     "metadata": {},
     "output_type": "display_data"
    }
   ],
   "source": [
    "source_g.spectral_model.plot(linestyle='dashed', alpha=0, **opts)\n",
    "# source_f.spectral_model.plot(linestyle='dashed', alpha=0.7, **opts)\n",
    "\n",
    "# plt.plot(p_f['reference'].value / 1e6, p_f['amplitude'].value * 1e6, '*', color='g')\n",
    "# plt.plot(p_g['reference'].value, p_g['amplitude'].value, '*', color='r')\n",
    "\n",
    "fermi = plt.errorbar(x=data_f['e_ref'],\n",
    "             y = data_f['dnde'],\n",
    "             yerr = data_f['dnde_err'],\n",
    "             fmt='.',\n",
    "             color='g'\n",
    "            )\n",
    "\n",
    "hess = plt.errorbar(x=data_g['e_ref'],\n",
    "             y = data_g['dnde'],\n",
    "             yerr = data_g['dnde_err'],\n",
    "             fmt='.',\n",
    "             color='r'\n",
    "            )\n",
    "\n",
    "\n",
    "from gammapy.utils.energy import Energy\n",
    "energy = Energy.equal_log_spacing(\n",
    "    emin=energy_range[0],\n",
    "    emax=energy_range[1],\n",
    "    nbins=100,\n",
    ")\n",
    "\n",
    "spectral_model = PowerLaw(\n",
    "    index=fitter.minuit.values['index'],\n",
    "    amplitude=fitter.minuit.values['amplitude'],\n",
    "    reference=1\n",
    "    )\n",
    "\n",
    "flux = spectral_model(\n",
    "    energy=energy.to('TeV').value\n",
    "#     amplitude = fitter.minuit.values['amplitude'],\n",
    "#     index = fitter.minuit.values['index'],\n",
    "#     reference=1,\n",
    ")\n",
    "plt.plot(energy, flux, linewidth=1, color='blue')\n",
    "\n",
    "plt.legend([fermi, hess], ['Fermi 3FGL', 'H.E.S.S.'])\n",
    "\n",
    "plt.title('SED of HESS J1418-609 with best-fit model')\n",
    "\n",
    "# plt.savefig('test')"
   ]
  },
  {
   "cell_type": "markdown",
   "metadata": {},
   "source": [
    "## Reduced Minimum"
   ]
  },
  {
   "cell_type": "code",
   "execution_count": 110,
   "metadata": {
    "collapsed": false
   },
   "outputs": [
    {
     "name": "stdout",
     "output_type": "stream",
     "text": [
      "\n",
      "Minimum value of function:  25.834741363352848\n",
      "\n",
      "Reduced minimum:  2.5834741363352847\n"
     ]
    }
   ],
   "source": [
    "print('\\nMinimum value of function: ', fitter.minuit.fval)\n",
    "\n",
    "result = fitter.minuit.fval / (len(flux_points.table) - len(fitter.minuit.args))\n",
    "print('\\nReduced minimum: ', result)"
   ]
  },
  {
   "cell_type": "code",
   "execution_count": 116,
   "metadata": {
    "collapsed": false
   },
   "outputs": [
    {
     "name": "stderr",
     "output_type": "stream",
     "text": [
      "C:\\Users\\Arjun\\Anaconda3\\lib\\site-packages\\matplotlib\\cbook.py:2641: UserWarning: Saw kwargs ['c', 'color'] which are all aliases for 'color'.  Kept value from 'color'\n",
      "  seen=seen, canon=canonical, used=seen[-1]))\n"
     ]
    },
    {
     "data": {
      "text/plain": [
       "[<matplotlib.lines.Line2D at 0x18688ff65f8>]"
      ]
     },
     "execution_count": 116,
     "metadata": {},
     "output_type": "execute_result"
    },
    {
     "data": {
      "image/png": "[encoded data removed]",
      "text/plain": [
       "<matplotlib.figure.Figure at 0x18688ed1630>"
      ]
     },
     "metadata": {},
     "output_type": "display_data"
    }
   ],
   "source": [
    "flux_points.plot(color='g')\n",
    "\n",
    "\n",
    "# source_f.flux_points.plot(color='g')\n",
    "source_g.flux_points.plot(color='r')\n",
    "\n",
    "plt.legend(['Fermi 3FGL', 'H.E.S.S.'])\n",
    "\n",
    "plt.title('SED of HESS J1641-463 with best-fit model')\n",
    "\n",
    "plt.plot(energy, flux, linewidth=1, color='blue')\n",
    "\n",
    "# plt.savefig('HESS J1641-463 Combined.png')"
   ]
  }
 ],
 "metadata": {
  "kernelspec": {
   "display_name": "Python 3",
   "language": "python",
   "name": "python3"
  }
 },
 "nbformat": 4,
 "nbformat_minor": 2
}
