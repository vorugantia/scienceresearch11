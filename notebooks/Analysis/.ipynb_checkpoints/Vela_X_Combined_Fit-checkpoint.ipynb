{
 "cells": [
  {
   "cell_type": "code",
   "execution_count": 1,
   "metadata": {
    "collapsed": true
   },
   "outputs": [],
   "source": [
    "%matplotlib inline\n",
    "import numpy as np\n",
    "import pandas as pd\n",
    "import matplotlib.pyplot as plt\n",
    "plt.style.use('ggplot')\n",
    "from pprint import pprint\n",
    "import astropy.units as u\n",
    "from astropy.units import Quantity\n",
    "from astropy.table import Table, vstack\n",
    "from gammapy.spectrum import FluxPoints\n",
    "from numpy import isnan\n",
    "\n",
    "# Temporarily fixing environment variable for gamma-cat\n",
    "import os\n",
    "os.environ['GAMMA_CAT'] = os.path.join('C:/Users/Arjun/github/gamma-cat')"
   ]
  },
  {
   "cell_type": "markdown",
   "metadata": {},
   "source": [
    "## The source\n",
    "\n",
    "Vela X, source id 37\n",
    "\n",
    "http://gamma-sky.net/#/cat/tev/37\n",
    "\n",
    "http://gamma-sky.net/#/cat/3fgl/955"
   ]
  },
  {
   "cell_type": "code",
   "execution_count": 2,
   "metadata": {
    "collapsed": false
   },
   "outputs": [
    {
     "data": {
      "text/html": [
       "&lt;Table length=5&gt;\n",
       "<table id=\"table2195527201568\" class=\"table-striped table-bordered table-condensed\">\n",
       "<thead><tr><th>e_ref</th><th>e_min</th><th>e_max</th><th>flux</th><th>flux_errn</th><th>flux_errp</th><th>eflux</th><th>eflux_errn</th><th>eflux_errp</th><th>is_ul</th><th>flux_ul</th><th>eflux_ul</th><th>dnde</th><th>dnde_err</th></tr></thead>\n",
       "<thead><tr><th>TeV</th><th>TeV</th><th>TeV</th><th>1 / (cm2 s)</th><th>1 / (cm2 s)</th><th>1 / (cm2 s)</th><th>erg / (cm2 s)</th><th>erg / (cm2 s)</th><th>erg / (cm2 s)</th><th></th><th>1 / (cm2 s)</th><th>erg / (cm2 s)</th><th>1 / (cm2 s TeV)</th><th>1 / (cm2 s TeV)</th></tr></thead>\n",
       "<thead><tr><th>float64</th><th>float64</th><th>float64</th><th>float32</th><th>float32</th><th>float32</th><th>float32</th><th>float32</th><th>float32</th><th>bool</th><th>float64</th><th>float64</th><th>float64</th><th>float64</th></tr></thead>\n",
       "<tr><td>0.000173205080757</td><td>0.0001</td><td>0.0003</td><td>3.71801e-07</td><td>inf</td><td>-inf</td><td>8.58538e-11</td><td>inf</td><td>-inf</td><td>False</td><td>nan</td><td>nan</td><td>0.00178619105012</td><td>inf</td></tr>\n",
       "<tr><td>0.000547722557505</td><td>0.0003</td><td>0.001</td><td>8.1926e-08</td><td>inf</td><td>-inf</td><td>5.36371e-11</td><td>inf</td><td>-inf</td><td>False</td><td>nan</td><td>nan</td><td>0.000111592113836</td><td>inf</td></tr>\n",
       "<tr><td>0.00173205080757</td><td>0.001</td><td>0.003</td><td>1.44627e-08</td><td>inf</td><td>-inf</td><td>3.33964e-11</td><td>inf</td><td>-inf</td><td>False</td><td>nan</td><td>nan</td><td>6.94812930314e-06</td><td>inf</td></tr>\n",
       "<tr><td>0.00547722557505</td><td>0.003</td><td>0.01</td><td>3.18685e-09</td><td>inf</td><td>-inf</td><td>2.08644e-11</td><td>inf</td><td>-inf</td><td>False</td><td>nan</td><td>nan</td><td>4.34083707896e-07</td><td>inf</td></tr>\n",
       "<tr><td>0.0316227766017</td><td>0.01</td><td>0.1</td><td>6.86601e-10</td><td>inf</td><td>-inf</td><td>1.0442e-11</td><td>inf</td><td>-inf</td><td>False</td><td>nan</td><td>nan</td><td>6.51739198663e-09</td><td>inf</td></tr>\n",
       "</table>"
      ],
      "text/plain": [
       "<Table length=5>\n",
       "      e_ref        e_min   e_max  ...        dnde           dnde_err   \n",
       "       TeV          TeV     TeV   ...  1 / (cm2 s TeV)  1 / (cm2 s TeV)\n",
       "     float64      float64 float64 ...      float64          float64    \n",
       "----------------- ------- ------- ... ----------------- ---------------\n",
       "0.000173205080757  0.0001  0.0003 ...  0.00178619105012             inf\n",
       "0.000547722557505  0.0003   0.001 ... 0.000111592113836             inf\n",
       " 0.00173205080757   0.001   0.003 ... 6.94812930314e-06             inf\n",
       " 0.00547722557505   0.003    0.01 ... 4.34083707896e-07             inf\n",
       "  0.0316227766017    0.01     0.1 ... 6.51739198663e-09             inf"
      ]
     },
     "execution_count": 2,
     "metadata": {},
     "output_type": "execute_result"
    }
   ],
   "source": [
    "# Preparing Fermi data\n",
    "from gammapy.catalog import SourceCatalog3FGL\n",
    "\n",
    "cat_f = SourceCatalog3FGL()\n",
    "source_f = cat_f['3FGL J0833.1-4511e']\n",
    "\n",
    "data_f = source_f.flux_points.table\n",
    "\n",
    "data_f['e_ref'] = data_f['e_ref'].to('TeV')\n",
    "data_f['e_min'] = data_f['e_min'].to('TeV')\n",
    "data_f['e_max'] = data_f['e_max'].to('TeV')\n",
    "\n",
    "dnde_err_f = data_f['dnde'] * (data_f['flux_errn'] / data_f['flux'])\n",
    "data_f['dnde_err'] = dnde_err_f.to(data_f['dnde'].unit)\n",
    "\n",
    "data_f"
   ]
  },
  {
   "cell_type": "code",
   "execution_count": 8,
   "metadata": {
    "collapsed": false
   },
   "outputs": [
    {
     "data": {
      "text/html": [
       "&lt;Table length=24&gt;\n",
       "<table id=\"table2195527270920\" class=\"table-striped table-bordered table-condensed\">\n",
       "<thead><tr><th>e_ref</th><th>dnde</th><th>dnde_errp</th><th>dnde_errn</th><th>dnde_ul</th><th>dnde_err</th></tr></thead>\n",
       "<thead><tr><th>TeV</th><th>1 / (cm2 s TeV)</th><th>1 / (cm2 s TeV)</th><th>1 / (cm2 s TeV)</th><th>1 / (cm2 s TeV)</th><th>1 / (cm2 s TeV)</th></tr></thead>\n",
       "<thead><tr><th>float32</th><th>float32</th><th>float32</th><th>float32</th><th>float32</th><th>float32</th></tr></thead>\n",
       "<tr><td>0.7185</td><td>1.055e-11</td><td>nan</td><td>nan</td><td>nan</td><td>nan</td></tr>\n",
       "<tr><td>0.8684</td><td>1.304e-11</td><td>nan</td><td>nan</td><td>nan</td><td>nan</td></tr>\n",
       "<tr><td>1.051</td><td>9.211e-12</td><td>nan</td><td>nan</td><td>nan</td><td>nan</td></tr>\n",
       "<tr><td>1.274</td><td>8.515e-12</td><td>nan</td><td>nan</td><td>nan</td><td>nan</td></tr>\n",
       "<tr><td>1.546</td><td>5.378e-12</td><td>nan</td><td>nan</td><td>nan</td><td>nan</td></tr>\n",
       "<tr><td>1.877</td><td>4.455e-12</td><td>nan</td><td>nan</td><td>nan</td><td>nan</td></tr>\n",
       "<tr><td>2.275</td><td>3.754e-12</td><td>nan</td><td>nan</td><td>nan</td><td>nan</td></tr>\n",
       "<tr><td>2.759</td><td>2.418e-12</td><td>nan</td><td>nan</td><td>nan</td><td>nan</td></tr>\n",
       "<tr><td>3.352</td><td>1.605e-12</td><td>nan</td><td>nan</td><td>nan</td><td>nan</td></tr>\n",
       "<tr><td>...</td><td>...</td><td>...</td><td>...</td><td>...</td><td>...</td></tr>\n",
       "<tr><td>10.65</td><td>1.696e-13</td><td>nan</td><td>nan</td><td>nan</td><td>nan</td></tr>\n",
       "<tr><td>12.91</td><td>1.549e-13</td><td>nan</td><td>nan</td><td>nan</td><td>nan</td></tr>\n",
       "<tr><td>15.65</td><td>6.695e-14</td><td>nan</td><td>nan</td><td>nan</td><td>nan</td></tr>\n",
       "<tr><td>18.88</td><td>2.105e-14</td><td>nan</td><td>nan</td><td>nan</td><td>nan</td></tr>\n",
       "<tr><td>22.62</td><td>3.279e-14</td><td>nan</td><td>nan</td><td>nan</td><td>nan</td></tr>\n",
       "<tr><td>26.87</td><td>3.026e-14</td><td>nan</td><td>nan</td><td>nan</td><td>nan</td></tr>\n",
       "<tr><td>31.61</td><td>1.861e-14</td><td>nan</td><td>nan</td><td>nan</td><td>nan</td></tr>\n",
       "<tr><td>36.97</td><td>5.653e-15</td><td>nan</td><td>nan</td><td>nan</td><td>nan</td></tr>\n",
       "<tr><td>43.08</td><td>3.479e-15</td><td>nan</td><td>nan</td><td>nan</td><td>nan</td></tr>\n",
       "<tr><td>52.37</td><td>1.002e-15</td><td>nan</td><td>nan</td><td>nan</td><td>nan</td></tr>\n",
       "</table>"
      ],
      "text/plain": [
       "<Table length=24>\n",
       " e_ref        dnde         dnde_errp    ...     dnde_ul         dnde_err   \n",
       "  TeV   1 / (cm2 s TeV) 1 / (cm2 s TeV) ... 1 / (cm2 s TeV) 1 / (cm2 s TeV)\n",
       "float32     float32         float32     ...     float32         float32    \n",
       "------- --------------- --------------- ... --------------- ---------------\n",
       " 0.7185       1.055e-11             nan ...             nan             nan\n",
       " 0.8684       1.304e-11             nan ...             nan             nan\n",
       "  1.051       9.211e-12             nan ...             nan             nan\n",
       "  1.274       8.515e-12             nan ...             nan             nan\n",
       "  1.546       5.378e-12             nan ...             nan             nan\n",
       "  1.877       4.455e-12             nan ...             nan             nan\n",
       "  2.275       3.754e-12             nan ...             nan             nan\n",
       "  2.759       2.418e-12             nan ...             nan             nan\n",
       "  3.352       1.605e-12             nan ...             nan             nan\n",
       "    ...             ...             ... ...             ...             ...\n",
       "  10.65       1.696e-13             nan ...             nan             nan\n",
       "  12.91       1.549e-13             nan ...             nan             nan\n",
       "  15.65       6.695e-14             nan ...             nan             nan\n",
       "  18.88       2.105e-14             nan ...             nan             nan\n",
       "  22.62       3.279e-14             nan ...             nan             nan\n",
       "  26.87       3.026e-14             nan ...             nan             nan\n",
       "  31.61       1.861e-14             nan ...             nan             nan\n",
       "  36.97       5.653e-15             nan ...             nan             nan\n",
       "  43.08       3.479e-15             nan ...             nan             nan\n",
       "  52.37       1.002e-15             nan ...             nan             nan"
      ]
     },
     "execution_count": 8,
     "metadata": {},
     "output_type": "execute_result"
    }
   ],
   "source": [
    "# Preparing gamma-cat data\n",
    "from gammapy.catalog import SourceCatalogGammaCat\n",
    "\n",
    "cat_g = SourceCatalogGammaCat()\n",
    "source_g = cat_g['HESS J0835-455']\n",
    "\n",
    "data_g = source_g.flux_points.table\n",
    "dnde_err_g = data_g['dnde'] * (data_g['dnde_errn'] / data_g['dnde'])\n",
    "data_g['dnde_err'] = dnde_err_g.to(data_g['dnde'].unit)\n",
    "\n",
    "data_g"
   ]
  },
  {
   "cell_type": "markdown",
   "metadata": {},
   "source": [
    "### But I found H.E.S.S. flux points online...\n",
    "\n",
    "https://www.mpi-hd.mpg.de/hfm/HESS/pages/publications/auxiliary/VelaX_auxinfo.html\n",
    "\n",
    "Can I find the flux points from 3FGL online as well?"
   ]
  }
 ],
 "metadata": {
  "kernelspec": {
   "display_name": "Python 3",
   "language": "python",
   "name": "python3"
  },
  "language_info": {
   "codemirror_mode": {
    "name": "ipython",
    "version": 3
   },
   "file_extension": ".py",
   "mimetype": "text/x-python",
   "name": "python",
   "nbconvert_exporter": "python",
   "pygments_lexer": "ipython3",
   "version": "3.5.1"
  }
 },
 "nbformat": 4,
 "nbformat_minor": 2
}
