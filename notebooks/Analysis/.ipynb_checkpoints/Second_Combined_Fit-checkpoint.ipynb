{
 "cells": [
  {
   "cell_type": "code",
   "execution_count": 1,
   "metadata": {
    "collapsed": true,
    "deletable": true,
    "editable": true
   },
   "outputs": [],
   "source": [
    "%matplotlib inline\n",
    "import numpy as np\n",
    "import pandas as pd\n",
    "import matplotlib.pyplot as plt\n",
    "plt.style.use('ggplot')\n",
    "from pprint import pprint\n",
    "import astropy.units as u\n",
    "from astropy.units import Quantity\n",
    "from astropy.table import Table, vstack\n",
    "from gammapy.spectrum import FluxPoints\n",
    "from numpy import isnan\n",
    "\n",
    "# Temporarily fixing environment variable for gamma-cat\n",
    "import os\n",
    "os.environ['GAMMA_CAT'] = os.path.join('C:/Users/Arjun/github/gamma-cat')"
   ]
  },
  {
   "cell_type": "markdown",
   "metadata": {
    "deletable": true,
    "editable": true
   },
   "source": [
    "## The source\n",
    "\n",
    "3FGL J1709.7-4429\n",
    "\n",
    "HESS J1708-443\n",
    "\n",
    "https://github.com/gammasky/fermi-hgps-paper/blob/master/analysis/sources/hgps/pages/HESS_J1708m443.md"
   ]
  },
  {
   "cell_type": "code",
   "execution_count": 7,
   "metadata": {
    "collapsed": false,
    "deletable": true,
    "editable": true
   },
   "outputs": [
    {
     "data": {
      "text/html": [
       "&lt;Table length=5&gt;\n",
       "<table id=\"table1983699608688\" class=\"table-striped table-bordered table-condensed\">\n",
       "<thead><tr><th>e_ref</th><th>e_min</th><th>e_max</th><th>flux</th><th>flux_errn</th><th>flux_errp</th><th>eflux</th><th>eflux_errn</th><th>eflux_errp</th><th>is_ul</th><th>flux_ul</th><th>eflux_ul</th><th>dnde</th><th>dnde_err</th></tr></thead>\n",
       "<thead><tr><th>TeV</th><th>TeV</th><th>TeV</th><th>1 / (cm2 s)</th><th>1 / (cm2 s)</th><th>1 / (cm2 s)</th><th>erg / (cm2 s)</th><th>erg / (cm2 s)</th><th>erg / (cm2 s)</th><th></th><th>1 / (cm2 s)</th><th>erg / (cm2 s)</th><th>1 / (cm2 s TeV)</th><th>1 / (cm2 s TeV)</th></tr></thead>\n",
       "<thead><tr><th>float64</th><th>float64</th><th>float64</th><th>float32</th><th>float32</th><th>float32</th><th>float32</th><th>float32</th><th>float32</th><th>bool</th><th>float64</th><th>float64</th><th>float64</th><th>float64</th></tr></thead>\n",
       "<tr><td>0.000173205080757</td><td>0.0001</td><td>0.0003</td><td>7.71156e-07</td><td>1.10663e-08</td><td>1.10663e-08</td><td>1.95938e-10</td><td>2.81176e-12</td><td>2.81176e-12</td><td>False</td><td>nan</td><td>nan</td><td>0.00407649738749</td><td>5.84987808952e-05</td></tr>\n",
       "<tr><td>0.000547722557505</td><td>0.0003</td><td>0.001</td><td>4.44454e-07</td><td>3.31865e-09</td><td>3.31865e-09</td><td>3.16203e-10</td><td>2.36102e-12</td><td>2.36102e-12</td><td>False</td><td>nan</td><td>nan</td><td>0.000657860996921</td><td>4.91211774692e-06</td></tr>\n",
       "<tr><td>0.00173205080757</td><td>0.001</td><td>0.003</td><td>1.52146e-07</td><td>1.24143e-09</td><td>1.24143e-09</td><td>3.61055e-10</td><td>2.94601e-12</td><td>2.94601e-12</td><td>False</td><td>nan</td><td>nan</td><td>7.5117655392e-05</td><td>6.12917583169e-07</td></tr>\n",
       "<tr><td>0.00547722557505</td><td>0.003</td><td>0.01</td><td>3.41536e-08</td><td>5.17659e-10</td><td>5.17659e-10</td><td>2.13506e-10</td><td>3.23607e-12</td><td>3.23607e-12</td><td>False</td><td>nan</td><td>nan</td><td>4.44200311617e-06</td><td>6.73264697698e-08</td></tr>\n",
       "<tr><td>0.0316227766017</td><td>0.01</td><td>0.1</td><td>2.50925e-09</td><td>1.40578e-10</td><td>1.40578e-10</td><td>2.32488e-11</td><td>1.3025e-12</td><td>1.3025e-12</td><td>False</td><td>nan</td><td>nan</td><td>1.45107875937e-08</td><td>8.12953878448e-10</td></tr>\n",
       "</table>"
      ],
      "text/plain": [
       "<Table length=5>\n",
       "      e_ref        e_min   e_max  ...        dnde            dnde_err    \n",
       "       TeV          TeV     TeV   ...  1 / (cm2 s TeV)   1 / (cm2 s TeV) \n",
       "     float64      float64 float64 ...      float64           float64     \n",
       "----------------- ------- ------- ... ----------------- -----------------\n",
       "0.000173205080757  0.0001  0.0003 ...  0.00407649738749 5.84987808952e-05\n",
       "0.000547722557505  0.0003   0.001 ... 0.000657860996921 4.91211774692e-06\n",
       " 0.00173205080757   0.001   0.003 ...  7.5117655392e-05 6.12917583169e-07\n",
       " 0.00547722557505   0.003    0.01 ... 4.44200311617e-06 6.73264697698e-08\n",
       "  0.0316227766017    0.01     0.1 ... 1.45107875937e-08 8.12953878448e-10"
      ]
     },
     "execution_count": 7,
     "metadata": {},
     "output_type": "execute_result"
    }
   ],
   "source": [
    "# Preparing Fermi data\n",
    "from gammapy.catalog import SourceCatalog3FGL\n",
    "\n",
    "cat_f = SourceCatalog3FGL()\n",
    "source_f = cat_f['3FGL J1709.7-4429']\n",
    "\n",
    "data_f = source_f.flux_points.table\n",
    "\n",
    "data_f['e_ref'] = data_f['e_ref'].to('TeV')\n",
    "data_f['e_min'] = data_f['e_min'].to('TeV')\n",
    "data_f['e_max'] = data_f['e_max'].to('TeV')\n",
    "\n",
    "dnde_err_f = data_f['dnde'] * (data_f['flux_errn'] / data_f['flux'])\n",
    "data_f['dnde_err'] = dnde_err_f.to(data_f['dnde'].unit)\n",
    "\n",
    "data_f"
   ]
  },
  {
   "cell_type": "code",
   "execution_count": 8,
   "metadata": {
    "collapsed": false,
    "deletable": true,
    "editable": true
   },
   "outputs": [
    {
     "data": {
      "text/html": [
       "&lt;Table length=5&gt;\n",
       "<table id=\"table1983701347912\" class=\"table-striped table-bordered table-condensed\">\n",
       "<thead><tr><th>e_ref</th><th>dnde</th><th>dnde_errp</th><th>dnde_errn</th><th>dnde_ul</th><th>dnde_err</th></tr></thead>\n",
       "<thead><tr><th>TeV</th><th>1 / (cm2 s TeV)</th><th>1 / (cm2 s TeV)</th><th>1 / (cm2 s TeV)</th><th>1 / (cm2 s TeV)</th><th>1 / (cm2 s TeV)</th></tr></thead>\n",
       "<thead><tr><th>float32</th><th>float32</th><th>float32</th><th>float32</th><th>float32</th><th>float32</th></tr></thead>\n",
       "<tr><td>0.908</td><td>4.13e-12</td><td>1.58e-12</td><td>1.58e-12</td><td>nan</td><td>1.58e-12</td></tr>\n",
       "<tr><td>1.93</td><td>1.25e-12</td><td>2.35e-13</td><td>2.34e-13</td><td>nan</td><td>2.34e-13</td></tr>\n",
       "<tr><td>4.14</td><td>2.32e-13</td><td>5.73e-14</td><td>5.71e-14</td><td>nan</td><td>5.71e-14</td></tr>\n",
       "<tr><td>8.9</td><td>7.82e-14</td><td>1.48e-14</td><td>1.46e-14</td><td>nan</td><td>1.46e-14</td></tr>\n",
       "<tr><td>19.1</td><td>8.11e-15</td><td>4.3e-15</td><td>4.24e-15</td><td>nan</td><td>4.24e-15</td></tr>\n",
       "</table>"
      ],
      "text/plain": [
       "<Table length=5>\n",
       " e_ref        dnde         dnde_errp    ...     dnde_ul         dnde_err   \n",
       "  TeV   1 / (cm2 s TeV) 1 / (cm2 s TeV) ... 1 / (cm2 s TeV) 1 / (cm2 s TeV)\n",
       "float32     float32         float32     ...     float32         float32    \n",
       "------- --------------- --------------- ... --------------- ---------------\n",
       "  0.908        4.13e-12        1.58e-12 ...             nan        1.58e-12\n",
       "   1.93        1.25e-12        2.35e-13 ...             nan        2.34e-13\n",
       "   4.14        2.32e-13        5.73e-14 ...             nan        5.71e-14\n",
       "    8.9        7.82e-14        1.48e-14 ...             nan        1.46e-14\n",
       "   19.1        8.11e-15         4.3e-15 ...             nan        4.24e-15"
      ]
     },
     "execution_count": 8,
     "metadata": {},
     "output_type": "execute_result"
    }
   ],
   "source": [
    "# Preparing gamma-cat data\n",
    "from gammapy.catalog import SourceCatalogGammaCat\n",
    "\n",
    "cat_g = SourceCatalogGammaCat()\n",
    "source_g = cat_g['HESS J1708-443']\n",
    "\n",
    "data_g = source_g.flux_points.table\n",
    "dnde_err_g = data_g['dnde'] * (data_g['dnde_errn'] / data_g['dnde'])\n",
    "data_g['dnde_err'] = dnde_err_g.to(data_g['dnde'].unit)\n",
    "\n",
    "data_g"
   ]
  },
  {
   "cell_type": "markdown",
   "metadata": {
    "deletable": true,
    "editable": true
   },
   "source": [
    "### But I found H.E.S.S. flux points online...\n",
    "\n",
    "https://www.mpi-hd.mpg.de/hfm/HESS/pages/publications/auxiliary/VelaX_auxinfo.html\n",
    "\n",
    "Can I find the flux points from 3FGL online as well?"
   ]
  },
  {
   "cell_type": "code",
   "execution_count": 9,
   "metadata": {
    "collapsed": false,
    "deletable": true,
    "editable": true
   },
   "outputs": [
    {
     "ename": "NotImplementedError",
     "evalue": "",
     "output_type": "error",
     "traceback": [
      "\u001b[1;31m---------------------------------------------------------------------------\u001b[0m",
      "\u001b[1;31mNotImplementedError\u001b[0m                       Traceback (most recent call last)",
      "\u001b[1;32m<ipython-input-9-9fc48407531c>\u001b[0m in \u001b[0;36m<module>\u001b[1;34m()\u001b[0m\n\u001b[0;32m      2\u001b[0m \u001b[0mopts\u001b[0m \u001b[1;33m=\u001b[0m \u001b[0mdict\u001b[0m\u001b[1;33m(\u001b[0m\u001b[0menergy_unit\u001b[0m\u001b[1;33m=\u001b[0m\u001b[1;34m'TeV'\u001b[0m\u001b[1;33m,\u001b[0m \u001b[0mflux_unit\u001b[0m\u001b[1;33m=\u001b[0m\u001b[1;34m'cm-2 s-1 TeV-1'\u001b[0m\u001b[1;33m,\u001b[0m \u001b[0menergy_range\u001b[0m\u001b[1;33m=\u001b[0m\u001b[0menergy_range\u001b[0m\u001b[1;33m)\u001b[0m\u001b[1;33m\u001b[0m\u001b[0m\n\u001b[0;32m      3\u001b[0m \u001b[1;33m\u001b[0m\u001b[0m\n\u001b[1;32m----> 4\u001b[1;33m \u001b[0msource_f\u001b[0m\u001b[1;33m.\u001b[0m\u001b[0mspectral_model\u001b[0m\u001b[1;33m.\u001b[0m\u001b[0mplot\u001b[0m\u001b[1;33m(\u001b[0m\u001b[1;33m**\u001b[0m\u001b[0mopts\u001b[0m\u001b[1;33m,\u001b[0m \u001b[0mcolor\u001b[0m\u001b[1;33m=\u001b[0m\u001b[1;34m'r'\u001b[0m\u001b[1;33m,\u001b[0m \u001b[0malpha\u001b[0m\u001b[1;33m=\u001b[0m\u001b[1;36m1\u001b[0m\u001b[1;33m)\u001b[0m\u001b[1;33m\u001b[0m\u001b[0m\n\u001b[0m\u001b[0;32m      5\u001b[0m \u001b[1;33m\u001b[0m\u001b[0m\n\u001b[0;32m      6\u001b[0m \u001b[0mp_f\u001b[0m \u001b[1;33m=\u001b[0m \u001b[0msource_f\u001b[0m\u001b[1;33m.\u001b[0m\u001b[0mspectral_model\u001b[0m\u001b[1;33m.\u001b[0m\u001b[0mparameters\u001b[0m\u001b[1;33m\u001b[0m\u001b[0m\n",
      "\u001b[1;32mC:\\Users\\Arjun\\Anaconda3\\lib\\site-packages\\gammapy\\catalog\\fermi.py\u001b[0m in \u001b[0;36mspectral_model\u001b[1;34m(self)\u001b[0m\n\u001b[0;32m    300\u001b[0m         \u001b[1;32melif\u001b[0m \u001b[0mspec_type\u001b[0m \u001b[1;33m==\u001b[0m \u001b[1;34m\"PLSuperExpCutoff\"\u001b[0m\u001b[1;33m:\u001b[0m\u001b[1;33m\u001b[0m\u001b[0m\n\u001b[0;32m    301\u001b[0m             \u001b[1;31m# TODO Implement super exponential cut off\u001b[0m\u001b[1;33m\u001b[0m\u001b[1;33m\u001b[0m\u001b[0m\n\u001b[1;32m--> 302\u001b[1;33m             \u001b[1;32mraise\u001b[0m \u001b[0mNotImplementedError\u001b[0m\u001b[1;33m\u001b[0m\u001b[0m\n\u001b[0m\u001b[0;32m    303\u001b[0m         \u001b[1;32melse\u001b[0m\u001b[1;33m:\u001b[0m\u001b[1;33m\u001b[0m\u001b[0m\n\u001b[0;32m    304\u001b[0m             \u001b[1;32mraise\u001b[0m \u001b[0mValueError\u001b[0m\u001b[1;33m(\u001b[0m\u001b[1;34m'Spectral model {} not available'\u001b[0m\u001b[1;33m.\u001b[0m\u001b[0mformat\u001b[0m\u001b[1;33m(\u001b[0m\u001b[0mspec_type\u001b[0m\u001b[1;33m)\u001b[0m\u001b[1;33m)\u001b[0m\u001b[1;33m\u001b[0m\u001b[0m\n",
      "\u001b[1;31mNotImplementedError\u001b[0m: "
     ]
    }
   ],
   "source": [
    "energy_range = [1e-4, 100] * u.TeV\n",
    "opts = dict(energy_unit='TeV', flux_unit='cm-2 s-1 TeV-1', energy_range=energy_range)\n",
    "\n",
    "source_f.spectral_model.plot(**opts, color='r', alpha=1)\n",
    "\n",
    "p_f = source_f.spectral_model.parameters\n",
    "p_g = source_g.spectral_model.parameters\n",
    "plt.plot(p_f['reference'].value / 1e6, p_f['amplitude'].value * 1e6, '*', color='c')\n",
    "plt.plot(p_g['reference'].value, p_g['amplitude'].value, '*', color='c')\n",
    "\n",
    "fermi = plt.errorbar(x=data_f['e_ref'],\n",
    "             y = data_f['dnde'],\n",
    "             yerr = data_f['dnde_err'],\n",
    "             fmt='.',\n",
    "             color='g'\n",
    "            )\n",
    "\n",
    "hess = plt.errorbar(x=data_g['e_ref'],\n",
    "             y = data_g['dnde'],\n",
    "             yerr = data_g['dnde_err'],\n",
    "             fmt='.',\n",
    "             color='r'\n",
    "            )"
   ]
  },
  {
   "cell_type": "code",
   "execution_count": 11,
   "metadata": {
    "collapsed": false,
    "deletable": true,
    "editable": true
   },
   "outputs": [
    {
     "name": "stderr",
     "output_type": "stream",
     "text": [
      "WARNING: MergeConflictWarning: Cannot merge meta key 'SED_TYPE' types <class 'str'> and <class 'str'>, choosing SED_TYPE='dnde' [astropy.utils.metadata]\n"
     ]
    },
    {
     "data": {
      "text/html": [
       "&lt;Table length=10&gt;\n",
       "<table id=\"table1983699799568\" class=\"table-striped table-bordered table-condensed\">\n",
       "<thead><tr><th>e_ref</th><th>dnde</th><th>dnde_err</th></tr></thead>\n",
       "<thead><tr><th>TeV</th><th>1 / (cm2 s TeV)</th><th>1 / (cm2 s TeV)</th></tr></thead>\n",
       "<thead><tr><th>float64</th><th>float64</th><th>float64</th></tr></thead>\n",
       "<tr><td>0.000173205080757</td><td>0.00407649738749</td><td>5.84987808952e-05</td></tr>\n",
       "<tr><td>0.000547722557505</td><td>0.000657860996921</td><td>4.91211774692e-06</td></tr>\n",
       "<tr><td>0.00173205080757</td><td>7.5117655392e-05</td><td>6.12917583169e-07</td></tr>\n",
       "<tr><td>0.00547722557505</td><td>4.44200311617e-06</td><td>6.73264697698e-08</td></tr>\n",
       "<tr><td>0.0316227766017</td><td>1.45107875937e-08</td><td>8.12953878448e-10</td></tr>\n",
       "<tr><td>0.907999992371</td><td>4.13000016131e-12</td><td>1.58000001971e-12</td></tr>\n",
       "<tr><td>1.92999994755</td><td>1.24999999501e-12</td><td>2.33999993861e-13</td></tr>\n",
       "<tr><td>4.13999986649</td><td>2.31999993218e-13</td><td>5.71000020812e-14</td></tr>\n",
       "<tr><td>8.89999961853</td><td>7.81999993731e-14</td><td>1.46000002859e-14</td></tr>\n",
       "<tr><td>19.1000003815</td><td>8.10999996272e-15</td><td>4.24000002385e-15</td></tr>\n",
       "</table>"
      ],
      "text/plain": [
       "<Table length=10>\n",
       "      e_ref              dnde            dnde_err    \n",
       "       TeV         1 / (cm2 s TeV)   1 / (cm2 s TeV) \n",
       "     float64           float64           float64     \n",
       "----------------- ----------------- -----------------\n",
       "0.000173205080757  0.00407649738749 5.84987808952e-05\n",
       "0.000547722557505 0.000657860996921 4.91211774692e-06\n",
       " 0.00173205080757  7.5117655392e-05 6.12917583169e-07\n",
       " 0.00547722557505 4.44200311617e-06 6.73264697698e-08\n",
       "  0.0316227766017 1.45107875937e-08 8.12953878448e-10\n",
       "   0.907999992371 4.13000016131e-12 1.58000001971e-12\n",
       "    1.92999994755 1.24999999501e-12 2.33999993861e-13\n",
       "    4.13999986649 2.31999993218e-13 5.71000020812e-14\n",
       "    8.89999961853 7.81999993731e-14 1.46000002859e-14\n",
       "    19.1000003815 8.10999996272e-15 4.24000002385e-15"
      ]
     },
     "execution_count": 11,
     "metadata": {},
     "output_type": "execute_result"
    }
   ],
   "source": [
    "# Combining data\n",
    "colnames=['e_ref', 'dnde', 'dnde_err']\n",
    "\n",
    "data_combined = vstack([\n",
    "                    data_f[colnames], \n",
    "                    data_g[colnames]\n",
    "                    ])\n",
    "\n",
    "flux_points = FluxPoints(data_combined)\n",
    "\n",
    "flux_points.table\n",
    "\n",
    "mask = ~np.isnan(flux_points.table['dnde_err'])\n",
    "flux_points.table = flux_points.table[mask]\n",
    "\n",
    "flux_points.table"
   ]
  },
  {
   "cell_type": "code",
   "execution_count": 12,
   "metadata": {
    "collapsed": true
   },
   "outputs": [],
   "source": [
    "from gammapy.spectrum.models import PowerLaw\n",
    "\n",
    "class MyChi2:\n",
    "\n",
    "    def __init__(self, flux_points, spectral_model):\n",
    "        self.flux_points = flux_points\n",
    "        self.spectral_model = spectral_model\n",
    "    \n",
    "    def __call__(self, amplitude, index):\n",
    "\n",
    "        t = self.flux_points.table\n",
    "        \n",
    "        dnde_model = PowerLaw.evaluate( # Should be calling: spectral_model.evaluate()\n",
    "            energy=t['e_ref'],\n",
    "            amplitude=amplitude,\n",
    "            index=index,\n",
    "            reference=1 # 1 TeV\n",
    "        )\n",
    "\n",
    "        chi = (t['dnde'] - dnde_model) / t['dnde_err']\n",
    "        return np.sum(chi ** 2)"
   ]
  },
  {
   "cell_type": "code",
   "execution_count": 13,
   "metadata": {
    "collapsed": true
   },
   "outputs": [],
   "source": [
    "from iminuit import Minuit\n",
    "\n",
    "class Chi2Fitter(object):\n",
    "    def __init__(self, flux_points, spectral_model):\n",
    "        self.flux_points = flux_points\n",
    "        self.spectral_model = spectral_model\n",
    "        self.minuit = None\n",
    "    \n",
    "    def fit(self):\n",
    "\n",
    "        chi2 = MyChi2(self.flux_points, self.spectral_model)\n",
    "        \n",
    "        pars = dict(\n",
    "            amplitude=self.spectral_model.parameters['amplitude'].value,\n",
    "            index = self.spectral_model.parameters['index'].value\n",
    "        )\n",
    "        \n",
    "        minuit = Minuit(chi2, **pars)\n",
    "        \n",
    "        minuit.migrad()\n",
    "        minuit.hesse()\n",
    "        \n",
    "        self.minuit = minuit"
   ]
  },
  {
   "cell_type": "code",
   "execution_count": 19,
   "metadata": {
    "collapsed": false
   },
   "outputs": [
    {
     "name": "stderr",
     "output_type": "stream",
     "text": [
      "C:\\Users\\Arjun\\Anaconda3\\lib\\site-packages\\ipykernel_launcher.py:18: InitialParamWarning: errordef is not given. Default to 1.\n",
      "C:\\Users\\Arjun\\Anaconda3\\lib\\site-packages\\ipykernel_launcher.py:18: InitialParamWarning: Parameter amplitude is floating but does not have initial step size. Assume 1.\n",
      "C:\\Users\\Arjun\\Anaconda3\\lib\\site-packages\\ipykernel_launcher.py:18: InitialParamWarning: Parameter index is floating but does not have initial step size. Assume 1.\n"
     ]
    },
    {
     "data": {
      "text/html": [
       "<hr>"
      ]
     },
     "metadata": {},
     "output_type": "display_data"
    },
    {
     "data": {
      "text/html": [
       "\n",
       "        <table>\n",
       "            <tr>\n",
       "                <td title=\"Minimum value of function\">FCN = 10203.844845318592</td>\n",
       "                <td title=\"Total number of call to FCN so far\">TOTAL NCALL = 79</td>\n",
       "                <td title=\"Number of call in last migrad\">NCALLS = 79</td>\n",
       "            </tr>\n",
       "            <tr>\n",
       "                <td title=\"Estimated distance to minimum\">EDM = 1.563610799109364e-05</td>\n",
       "                <td title=\"Maximum EDM definition of convergence\">GOAL EDM = 1e-05</td>\n",
       "                <td title=\"Error def. Amount of increase in FCN to be defined as 1 standard deviation\">\n",
       "                UP = 1.0</td>\n",
       "            </tr>\n",
       "        </table>\n",
       "        \n",
       "        <table>\n",
       "            <tr>\n",
       "                <td align=\"center\" title=\"Validity of the migrad call\">Valid</td>\n",
       "                <td align=\"center\" title=\"Validity of parameters\">Valid Param</td>\n",
       "                <td align=\"center\" title=\"Is Covariance matrix accurate?\">Accurate Covar</td>\n",
       "                <td align=\"center\" title=\"Positive definiteness of covariance matrix\">PosDef</td>\n",
       "                <td align=\"center\" title=\"Was covariance matrix made posdef by adding diagonal element\">Made PosDef</td>\n",
       "            </tr>\n",
       "            <tr>\n",
       "                <td align=\"center\" style=\"background-color:#92CCA6\">True</td>\n",
       "                <td align=\"center\" style=\"background-color:#92CCA6\">True</td>\n",
       "                <td align=\"center\" style=\"background-color:#92CCA6\">True</td>\n",
       "                <td align=\"center\" style=\"background-color:#92CCA6\">True</td>\n",
       "                <td align=\"center\" style=\"background-color:#92CCA6\">False</td>\n",
       "            </tr>\n",
       "            <tr>\n",
       "                <td align=\"center\" title=\"Was last hesse call fail?\">Hesse Fail</td>\n",
       "                <td align=\"center\" title=\"Validity of covariance\">HasCov</td>\n",
       "                <td align=\"center\" title=\"Is EDM above goal EDM?\">Above EDM</td>\n",
       "                <td align=\"center\"></td>\n",
       "                <td align=\"center\" title=\"Did last migrad call reach max call limit?\">Reach calllim</td>\n",
       "            </tr>\n",
       "            <tr>\n",
       "                <td align=\"center\" style=\"background-color:#92CCA6\">False</td>\n",
       "                <td align=\"center\" style=\"background-color:#92CCA6\">True</td>\n",
       "                <td align=\"center\" style=\"background-color:#92CCA6\">False</td>\n",
       "                <td align=\"center\"></td>\n",
       "                <td align=\"center\" style=\"background-color:#92CCA6\">False</td>\n",
       "            </tr>\n",
       "        </table>\n",
       "        "
      ]
     },
     "metadata": {},
     "output_type": "display_data"
    },
    {
     "data": {
      "text/html": [
       "\n",
       "        <table>\n",
       "            <tr>\n",
       "                <td><a href=\"#\" onclick=\"$('#qDBqQETQwi').toggle()\">+</a></td>\n",
       "                <td title=\"Variable name\">Name</td>\n",
       "                <td title=\"Value of parameter\">Value</td>\n",
       "                <td title=\"Parabolic error\">Parab Error</td>\n",
       "                <td title=\"Minos lower error\">Minos Error-</td>\n",
       "                <td title=\"Minos upper error\">Minos Error+</td>\n",
       "                <td title=\"Lower limit of the parameter\">Limit-</td>\n",
       "                <td title=\"Upper limit of the parameter\">Limit+</td>\n",
       "                <td title=\"Is the parameter fixed in the fit\">FIXED</td>\n",
       "            </tr>\n",
       "        \n",
       "            <tr>\n",
       "                <td>1</td>\n",
       "                <td>amplitude</td>\n",
       "                <td>1.74629e-11</td>\n",
       "                <td>3.05145e-13</td>\n",
       "                <td>0</td>\n",
       "                <td>0</td>\n",
       "                <td></td>\n",
       "                <td></td>\n",
       "                <td></td>\n",
       "            </tr>\n",
       "            \n",
       "            <tr>\n",
       "                <td>2</td>\n",
       "                <td>index</td>\n",
       "                <td>2.28411</td>\n",
       "                <td>0.00230248</td>\n",
       "                <td>0</td>\n",
       "                <td>0</td>\n",
       "                <td></td>\n",
       "                <td></td>\n",
       "                <td></td>\n",
       "            </tr>\n",
       "            \n",
       "            </table>\n",
       "        \n",
       "            <pre id=\"qDBqQETQwi\" style=\"display:none;\">\n",
       "            <textarea rows=\"10\" cols=\"50\" onclick=\"this.select()\" readonly>\\begin{tabular}{|c|r|r|r|r|r|r|r|c|}\n",
       "\\hline\n",
       " & Name & Value & Para Error & Error+ & Error- & Limit+ & Limit- & FIXED\\\\\n",
       "\\hline\n",
       "1 & amplitude & 1.746e-11 & 3.051e-13 &  &  &  &  & \\\\\n",
       "\\hline\n",
       "2 & index & 2.284e+00 & 2.302e-03 &  &  &  &  & \\\\\n",
       "\\hline\n",
       "\\end{tabular}</textarea>\n",
       "            </pre>\n",
       "            "
      ]
     },
     "metadata": {},
     "output_type": "display_data"
    },
    {
     "data": {
      "text/html": [
       "<hr>"
      ]
     },
     "metadata": {},
     "output_type": "display_data"
    },
    {
     "data": {
      "text/html": [
       "\n",
       "        <table>\n",
       "            <tr>\n",
       "                <td><a href=\"#\" onclick=\"$('#WUOXOTmXkS').toggle()\">+</a></td>\n",
       "                <td title=\"Variable name\">Name</td>\n",
       "                <td title=\"Value of parameter\">Value</td>\n",
       "                <td title=\"Parabolic error\">Parab Error</td>\n",
       "                <td title=\"Minos lower error\">Minos Error-</td>\n",
       "                <td title=\"Minos upper error\">Minos Error+</td>\n",
       "                <td title=\"Lower limit of the parameter\">Limit-</td>\n",
       "                <td title=\"Upper limit of the parameter\">Limit+</td>\n",
       "                <td title=\"Is the parameter fixed in the fit\">FIXED</td>\n",
       "            </tr>\n",
       "        \n",
       "            <tr>\n",
       "                <td>1</td>\n",
       "                <td>amplitude</td>\n",
       "                <td>1.74629e-11</td>\n",
       "                <td>3.05144e-13</td>\n",
       "                <td>0</td>\n",
       "                <td>0</td>\n",
       "                <td></td>\n",
       "                <td></td>\n",
       "                <td></td>\n",
       "            </tr>\n",
       "            \n",
       "            <tr>\n",
       "                <td>2</td>\n",
       "                <td>index</td>\n",
       "                <td>2.28411</td>\n",
       "                <td>0.00230246</td>\n",
       "                <td>0</td>\n",
       "                <td>0</td>\n",
       "                <td></td>\n",
       "                <td></td>\n",
       "                <td></td>\n",
       "            </tr>\n",
       "            \n",
       "            </table>\n",
       "        \n",
       "            <pre id=\"WUOXOTmXkS\" style=\"display:none;\">\n",
       "            <textarea rows=\"10\" cols=\"50\" onclick=\"this.select()\" readonly>\\begin{tabular}{|c|r|r|r|r|r|r|r|c|}\n",
       "\\hline\n",
       " & Name & Value & Para Error & Error+ & Error- & Limit+ & Limit- & FIXED\\\\\n",
       "\\hline\n",
       "1 & amplitude & 1.746e-11 & 3.051e-13 &  &  &  &  & \\\\\n",
       "\\hline\n",
       "2 & index & 2.284e+00 & 2.302e-03 &  &  &  &  & \\\\\n",
       "\\hline\n",
       "\\end{tabular}</textarea>\n",
       "            </pre>\n",
       "            "
      ]
     },
     "metadata": {},
     "output_type": "display_data"
    },
    {
     "data": {
      "text/html": [
       "\n",
       "            <table>\n",
       "                <tr>\n",
       "                    <td><a onclick=\"$('#dfHJrIdgSU').toggle()\" href=\"#\">+</a></td>\n",
       "        \n",
       "            <td>\n",
       "            <div style=\"width:20px;position:relative; width: -moz-fit-content;\">\n",
       "            <div style=\"display:inline-block;-webkit-writing-mode:vertical-rl;-moz-writing-mode: vertical-rl;writing-mode: vertical-rl;\">\n",
       "            amplitude\n",
       "            </div>\n",
       "            </div>\n",
       "            </td>\n",
       "            \n",
       "            <td>\n",
       "            <div style=\"width:20px;position:relative; width: -moz-fit-content;\">\n",
       "            <div style=\"display:inline-block;-webkit-writing-mode:vertical-rl;-moz-writing-mode: vertical-rl;writing-mode: vertical-rl;\">\n",
       "            index\n",
       "            </div>\n",
       "            </div>\n",
       "            </td>\n",
       "            \n",
       "                </tr>\n",
       "                \n",
       "            <tr>\n",
       "                <td>amplitude</td>\n",
       "            \n",
       "                <td style=\"background-color:rgb(255,117,117)\">\n",
       "                1.00\n",
       "                </td>\n",
       "                \n",
       "                <td style=\"background-color:rgb(250,124,121)\">\n",
       "                -0.95\n",
       "                </td>\n",
       "                \n",
       "            </tr>\n",
       "            \n",
       "            <tr>\n",
       "                <td>index</td>\n",
       "            \n",
       "                <td style=\"background-color:rgb(250,124,121)\">\n",
       "                -0.95\n",
       "                </td>\n",
       "                \n",
       "                <td style=\"background-color:rgb(255,117,117)\">\n",
       "                1.00\n",
       "                </td>\n",
       "                \n",
       "            </tr>\n",
       "            </table>\n",
       "\n",
       "            <pre id=\"dfHJrIdgSU\" style=\"display:none;\">\n",
       "            <textarea rows=\"13\" cols=\"50\" onclick=\"this.select()\" readonly>%\\usepackage[table]{xcolor} % include this for color\n",
       "%\\usepackage{rotating} % include this for rotate header\n",
       "%\\documentclass[xcolor=table]{beamer} % for beamer\n",
       "\\begin{tabular}{|c|c|c|}\n",
       "\\hline\n",
       "\\rotatebox{90}{} & \\rotatebox{90}{amplitude} & \\rotatebox{90}{index}\\\\\n",
       "\\hline\n",
       "amplitude & \\cellcolor[RGB]{255,117,117} 1.00 & \\cellcolor[RGB]{250,124,121} -0.95\\\\\n",
       "\\hline\n",
       "index & \\cellcolor[RGB]{250,124,121} -0.95 & \\cellcolor[RGB]{255,117,117} 1.00\\\\\n",
       "\\hline\n",
       "\\end{tabular}</textarea>\n",
       "            </pre>\n",
       "            "
      ]
     },
     "metadata": {},
     "output_type": "display_data"
    },
    {
     "name": "stdout",
     "output_type": "stream",
     "text": [
      "{'amplitude': 1.746292103934978e-11, 'index': 2.2841088820158006}\n",
      "\n",
      " {'amplitude': 3.051435189023343e-13, 'index': 0.0023024635256404585}\n",
      "      e_ref              dnde            dnde_err    \n",
      "       TeV         1 / (cm2 s TeV)   1 / (cm2 s TeV) \n",
      "----------------- ----------------- -----------------\n",
      "0.000173205080757  0.00407649738749 5.84987808952e-05\n",
      "0.000547722557505 0.000657860996921 4.91211774692e-06\n",
      " 0.00173205080757  7.5117655392e-05 6.12917583169e-07\n",
      " 0.00547722557505 4.44200311617e-06 6.73264697698e-08\n",
      "  0.0316227766017 1.45107875937e-08 8.12953878448e-10\n",
      "   0.907999992371 4.13000016131e-12 1.58000001971e-12\n",
      "    1.92999994755 1.24999999501e-12 2.33999993861e-13\n",
      "    4.13999986649 2.31999993218e-13 5.71000020812e-14\n",
      "    8.89999961853 7.81999993731e-14 1.46000002859e-14\n",
      "    19.1000003815 8.10999996272e-15 4.24000002385e-15\n"
     ]
    }
   ],
   "source": [
    "spectral_model = PowerLaw(\n",
    "    reference=2,\n",
    "    amplitude=1e-10, # p_g['amplitude'].value \n",
    "    index=2.0 # p_g['index'].value\n",
    ")\n",
    "\n",
    "fitter = Chi2Fitter(flux_points=flux_points, spectral_model=spectral_model)\n",
    "fitter.fit()\n",
    "\n",
    "print(fitter.minuit.values)\n",
    "print('\\n', fitter.minuit.errors)\n",
    "\n",
    "\n",
    "        \n",
    "fitter.flux_points.table.pprint()"
   ]
  },
  {
   "cell_type": "code",
   "execution_count": 21,
   "metadata": {
    "collapsed": false
   },
   "outputs": [
    {
     "data": {
      "text/plain": [
       "<matplotlib.text.Text at 0x1cddf3cd160>"
      ]
     },
     "execution_count": 21,
     "metadata": {},
     "output_type": "execute_result"
    },
    {
     "data": {
      "image/png": "[encoded data removed]",
      "text/plain": [
       "<matplotlib.figure.Figure at 0x1cdddd3e048>"
      ]
     },
     "metadata": {},
     "output_type": "display_data"
    }
   ],
   "source": [
    "source_g.spectral_model.plot(linestyle='dashed', alpha=0, **opts)\n",
    "# source_f.spectral_model.plot(linestyle='dashed', alpha=0.7, **opts)\n",
    "\n",
    "# plt.plot(p_f['reference'].value / 1e6, p_f['amplitude'].value * 1e6, '*', color='g')\n",
    "# plt.plot(p_g['reference'].value, p_g['amplitude'].value, '*', color='r')\n",
    "\n",
    "fermi = plt.errorbar(x=data_f['e_ref'],\n",
    "             y = data_f['dnde'],\n",
    "             yerr = data_f['dnde_err'],\n",
    "             fmt='.',\n",
    "             color='g'\n",
    "            )\n",
    "\n",
    "hess = plt.errorbar(x=data_g['e_ref'],\n",
    "             y = data_g['dnde'],\n",
    "             yerr = data_g['dnde_err'],\n",
    "             fmt='.',\n",
    "             color='r'\n",
    "            )\n",
    "\n",
    "\n",
    "from gammapy.utils.energy import Energy\n",
    "energy = Energy.equal_log_spacing(\n",
    "    emin=energy_range[0],\n",
    "    emax=energy_range[1],\n",
    "    nbins=100,\n",
    ")\n",
    "\n",
    "spectral_model = PowerLaw(\n",
    "    index=fitter.minuit.values['index'],\n",
    "    amplitude=fitter.minuit.values['amplitude'],\n",
    "    reference=1\n",
    "    )\n",
    "\n",
    "flux = spectral_model(\n",
    "    energy=energy.to('TeV').value\n",
    "#     amplitude = fitter.minuit.values['amplitude'],\n",
    "#     index = fitter.minuit.values['index'],\n",
    "#     reference=1,\n",
    ")\n",
    "plt.plot(energy, flux, linewidth=1, color='blue')\n",
    "\n",
    "plt.legend([fermi, hess], ['Fermi 3FGL', 'H.E.S.S.'])\n",
    "\n",
    "plt.title('SED of HESS J1809-193 with best-fit model')\n",
    "\n",
    "# plt.savefig('test')"
   ]
  },
  {
   "cell_type": "code",
   "execution_count": 22,
   "metadata": {
    "collapsed": false
   },
   "outputs": [
    {
     "name": "stdout",
     "output_type": "stream",
     "text": [
      "\n",
      "Minimum value of function:  10203.844845318592\n",
      "\n",
      "Reduced minimum:  1275.480605664824\n"
     ]
    }
   ],
   "source": [
    "print('\\nMinimum value of function: ', fitter.minuit.fval)\n",
    "\n",
    "result = fitter.minuit.fval / (len(flux_points.table) - len(fitter.minuit.args))\n",
    "print('\\nReduced minimum: ', result)"
   ]
  },
  {
   "cell_type": "code",
   "execution_count": 28,
   "metadata": {
    "collapsed": false
   },
   "outputs": [
    {
     "data": {
      "text/plain": [
       "[<matplotlib.lines.Line2D at 0x1cddf3e9be0>]"
      ]
     },
     "execution_count": 28,
     "metadata": {},
     "output_type": "execute_result"
    },
    {
     "data": {
      "image/png": "[encoded data removed]",
      "text/plain": [
       "<matplotlib.figure.Figure at 0x1cde0c74dd8>"
      ]
     },
     "metadata": {},
     "output_type": "display_data"
    }
   ],
   "source": [
    "# flux_points.plot(color='g')\n",
    "\n",
    "\n",
    "source_f.flux_points.plot(color='g')\n",
    "source_g.flux_points.plot(color='r')\n",
    "\n",
    "plt.legend(['Fermi 3FGL', 'H.E.S.S.'])\n",
    "\n",
    "plt.title('SED of HESS J1708-443 with best-fit model')\n",
    "\n",
    "plt.plot(energy, flux, linewidth=1, color='blue')\n",
    "\n",
    "# plt.savefig('HESS J1708-443 Combined.png')\n"
   ]
  },
  {
   "cell_type": "code",
   "execution_count": null,
   "metadata": {
    "collapsed": true
   },
   "outputs": [],
   "source": []
  }
 ],
 "metadata": {
  "kernelspec": {
   "display_name": "Python 3",
   "language": "python",
   "name": "python3"
  },
  "language_info": {
   "codemirror_mode": {
    "name": "ipython",
    "version": 3
   },
   "file_extension": ".py",
   "mimetype": "text/x-python",
   "name": "python",
   "nbconvert_exporter": "python",
   "pygments_lexer": "ipython3",
   "version": "3.5.1"
  }
 },
 "nbformat": 4,
 "nbformat_minor": 2
}
