{
 "cells": [
  {
   "cell_type": "code",
   "execution_count": 1,
   "metadata": {
    "collapsed": true
   },
   "outputs": [],
   "source": [
    "%matplotlib inline\n",
    "import numpy as np\n",
    "import pandas as pd\n",
    "import matplotlib.pyplot as plt\n",
    "plt.style.use('ggplot')\n",
    "from pprint import pprint\n",
    "import astropy.units as u\n",
    "from astropy.units import Quantity\n",
    "from astropy.table import Table, vstack\n",
    "from gammapy.spectrum import FluxPoints\n",
    "from numpy import isnan\n",
    "\n",
    "# Temporarily fixing environment variable for gamma-cat\n",
    "import os\n",
    "os.environ['GAMMA_CAT'] = os.path.join('C:/Users/Arjun/github/gamma-cat')"
   ]
  },
  {
   "cell_type": "markdown",
   "metadata": {},
   "source": [
    "## The source\n",
    "\n",
    "HESS J1804-216\n",
    "\n",
    "3FGL J1803.1-2147"
   ]
  },
  {
   "cell_type": "code",
   "execution_count": 89,
   "metadata": {
    "collapsed": false
   },
   "outputs": [
    {
     "data": {
      "text/html": [
       "&lt;Table length=5&gt;\n",
       "<table id=\"table2351316788000\" class=\"table-striped table-bordered table-condensed\">\n",
       "<thead><tr><th>e_ref</th><th>e_min</th><th>e_max</th><th>flux</th><th>flux_errn</th><th>flux_errp</th><th>eflux</th><th>eflux_errn</th><th>eflux_errp</th><th>is_ul</th><th>flux_ul</th><th>eflux_ul</th><th>dnde</th><th>dnde_err</th></tr></thead>\n",
       "<thead><tr><th>TeV</th><th>TeV</th><th>TeV</th><th>1 / (cm2 s)</th><th>1 / (cm2 s)</th><th>1 / (cm2 s)</th><th>erg / (cm2 s)</th><th>erg / (cm2 s)</th><th>erg / (cm2 s)</th><th></th><th>1 / (cm2 s)</th><th>erg / (cm2 s)</th><th>1 / (cm2 s TeV)</th><th>1 / (cm2 s TeV)</th></tr></thead>\n",
       "<thead><tr><th>float64</th><th>float64</th><th>float64</th><th>float32</th><th>float32</th><th>float32</th><th>float32</th><th>float32</th><th>float32</th><th>bool</th><th>float64</th><th>float64</th><th>float64</th><th>float64</th></tr></thead>\n",
       "<tr><td>0.000173205080757</td><td>0.0001</td><td>0.0003</td><td>nan</td><td>nan</td><td>nan</td><td>nan</td><td>nan</td><td>nan</td><td>True</td><td>3.98796125012e-08</td><td>1.00778135836e-11</td><td>2.12325255696e-08</td><td>nan</td></tr>\n",
       "<tr><td>0.000547722557505</td><td>0.0003</td><td>0.001</td><td>2.9801e-08</td><td>4.94884e-09</td><td>5.03657e-09</td><td>2.14567e-11</td><td>3.56315e-12</td><td>3.62631e-12</td><td>False</td><td>nan</td><td>nan</td><td>4.46406285904e-05</td><td>7.41314920056e-06</td></tr>\n",
       "<tr><td>0.00173205080757</td><td>0.001</td><td>0.003</td><td>9.79825e-09</td><td>7.89474e-10</td><td>7.89474e-10</td><td>2.36888e-11</td><td>1.90868e-12</td><td>1.90868e-12</td><td>False</td><td>nan</td><td>nan</td><td>4.92846493564e-06</td><td>3.97101021728e-07</td></tr>\n",
       "<tr><td>0.00547722557505</td><td>0.003</td><td>0.01</td><td>3.06468e-09</td><td>2.36269e-10</td><td>2.36269e-10</td><td>1.88113e-11</td><td>1.45024e-12</td><td>1.45024e-12</td><td>False</td><td>nan</td><td>nan</td><td>3.913687025e-07</td><td>3.01722880323e-08</td></tr>\n",
       "<tr><td>0.0316227766017</td><td>0.01</td><td>0.1</td><td>1.67365e-10</td><td>5.03076e-11</td><td>5.67643e-11</td><td>1.55068e-12</td><td>4.66113e-13</td><td>5.25936e-13</td><td>False</td><td>nan</td><td>nan</td><td>9.67858062932e-10</td><td>2.90924598209e-10</td></tr>\n",
       "</table>"
      ],
      "text/plain": [
       "<Table length=5>\n",
       "      e_ref        e_min   e_max  ...        dnde            dnde_err    \n",
       "       TeV          TeV     TeV   ...  1 / (cm2 s TeV)   1 / (cm2 s TeV) \n",
       "     float64      float64 float64 ...      float64           float64     \n",
       "----------------- ------- ------- ... ----------------- -----------------\n",
       "0.000173205080757  0.0001  0.0003 ... 2.12325255696e-08               nan\n",
       "0.000547722557505  0.0003   0.001 ... 4.46406285904e-05 7.41314920056e-06\n",
       " 0.00173205080757   0.001   0.003 ... 4.92846493564e-06 3.97101021728e-07\n",
       " 0.00547722557505   0.003    0.01 ...   3.913687025e-07 3.01722880323e-08\n",
       "  0.0316227766017    0.01     0.1 ... 9.67858062932e-10 2.90924598209e-10"
      ]
     },
     "execution_count": 89,
     "metadata": {},
     "output_type": "execute_result"
    }
   ],
   "source": [
    "# Preparing Fermi data\n",
    "from gammapy.catalog import SourceCatalog3FGL\n",
    "\n",
    "cat_f = SourceCatalog3FGL()\n",
    "source_f = cat_f['3FGL J1803.1-2147']\n",
    "\n",
    "data_f = source_f.flux_points.table\n",
    "\n",
    "data_f['e_ref'] = data_f['e_ref'].to('TeV')\n",
    "data_f['e_min'] = data_f['e_min'].to('TeV')\n",
    "data_f['e_max'] = data_f['e_max'].to('TeV')\n",
    "\n",
    "dnde_err_f = data_f['dnde'] * (data_f['flux_errn'] / data_f['flux'])\n",
    "data_f['dnde_err'] = dnde_err_f.to(data_f['dnde'].unit)\n",
    "\n",
    "data_f"
   ]
  },
  {
   "cell_type": "code",
   "execution_count": 72,
   "metadata": {
    "collapsed": false
   },
   "outputs": [
    {
     "data": {
      "text/html": [
       "&lt;Table length=13&gt;\n",
       "<table id=\"table2351309749944\" class=\"table-striped table-bordered table-condensed\">\n",
       "<thead><tr><th>e_ref</th><th>dnde</th><th>dnde_errp</th><th>dnde_errn</th><th>dnde_ul</th><th>dnde_err</th></tr></thead>\n",
       "<thead><tr><th>TeV</th><th>1 / (cm2 s TeV)</th><th>1 / (cm2 s TeV)</th><th>1 / (cm2 s TeV)</th><th>1 / (cm2 s TeV)</th><th>1 / (cm2 s TeV)</th></tr></thead>\n",
       "<thead><tr><th>float32</th><th>float32</th><th>float32</th><th>float32</th><th>float32</th><th>float32</th></tr></thead>\n",
       "<tr><td>0.19021</td><td>3.16659e-10</td><td>1.68438e-10</td><td>1.66872e-10</td><td>nan</td><td>1.66872e-10</td></tr>\n",
       "<tr><td>0.246156</td><td>2.62701e-10</td><td>3.58672e-11</td><td>3.55612e-11</td><td>nan</td><td>3.55612e-11</td></tr>\n",
       "<tr><td>0.326564</td><td>1.09507e-10</td><td>1.56187e-11</td><td>1.54475e-11</td><td>nan</td><td>1.54475e-11</td></tr>\n",
       "<tr><td>0.429598</td><td>6.12512e-11</td><td>7.68776e-12</td><td>7.57996e-12</td><td>nan</td><td>7.57996e-12</td></tr>\n",
       "<tr><td>0.578169</td><td>2.66731e-11</td><td>3.71834e-12</td><td>3.65101e-12</td><td>nan</td><td>3.65101e-12</td></tr>\n",
       "<tr><td>0.76265</td><td>1.45516e-11</td><td>2.1218e-12</td><td>2.07485e-12</td><td>nan</td><td>2.07485e-12</td></tr>\n",
       "<tr><td>1.0253</td><td>4.73271e-12</td><td>1.02593e-12</td><td>9.9894e-13</td><td>nan</td><td>9.9894e-13</td></tr>\n",
       "<tr><td>1.40586</td><td>2.45476e-12</td><td>6.74752e-13</td><td>6.56555e-13</td><td>nan</td><td>6.56555e-13</td></tr>\n",
       "<tr><td>1.88432</td><td>1.48844e-12</td><td>3.91423e-13</td><td>3.7742e-13</td><td>nan</td><td>3.7742e-13</td></tr>\n",
       "<tr><td>2.44496</td><td>5.12846e-13</td><td>1.9478e-13</td><td>1.86675e-13</td><td>nan</td><td>1.86675e-13</td></tr>\n",
       "<tr><td>3.60685</td><td>1.21799e-13</td><td>6.66253e-14</td><td>6.23969e-14</td><td>nan</td><td>6.23969e-14</td></tr>\n",
       "<tr><td>6.49574</td><td>2.7643e-14</td><td>1.2989e-14</td><td>1.11839e-14</td><td>nan</td><td>1.11839e-14</td></tr>\n",
       "<tr><td>10.7801</td><td>7.45576e-15</td><td>5.25594e-15</td><td>4.22238e-15</td><td>nan</td><td>4.22238e-15</td></tr>\n",
       "</table>"
      ],
      "text/plain": [
       "<Table length=13>\n",
       " e_ref         dnde         dnde_errp    ...     dnde_ul         dnde_err   \n",
       "  TeV    1 / (cm2 s TeV) 1 / (cm2 s TeV) ... 1 / (cm2 s TeV) 1 / (cm2 s TeV)\n",
       "float32      float32         float32     ...     float32         float32    \n",
       "-------- --------------- --------------- ... --------------- ---------------\n",
       " 0.19021     3.16659e-10     1.68438e-10 ...             nan     1.66872e-10\n",
       "0.246156     2.62701e-10     3.58672e-11 ...             nan     3.55612e-11\n",
       "0.326564     1.09507e-10     1.56187e-11 ...             nan     1.54475e-11\n",
       "0.429598     6.12512e-11     7.68776e-12 ...             nan     7.57996e-12\n",
       "0.578169     2.66731e-11     3.71834e-12 ...             nan     3.65101e-12\n",
       " 0.76265     1.45516e-11      2.1218e-12 ...             nan     2.07485e-12\n",
       "  1.0253     4.73271e-12     1.02593e-12 ...             nan      9.9894e-13\n",
       " 1.40586     2.45476e-12     6.74752e-13 ...             nan     6.56555e-13\n",
       " 1.88432     1.48844e-12     3.91423e-13 ...             nan      3.7742e-13\n",
       " 2.44496     5.12846e-13      1.9478e-13 ...             nan     1.86675e-13\n",
       " 3.60685     1.21799e-13     6.66253e-14 ...             nan     6.23969e-14\n",
       " 6.49574      2.7643e-14      1.2989e-14 ...             nan     1.11839e-14\n",
       " 10.7801     7.45576e-15     5.25594e-15 ...             nan     4.22238e-15"
      ]
     },
     "execution_count": 72,
     "metadata": {},
     "output_type": "execute_result"
    }
   ],
   "source": [
    "# Preparing gamma-cat data\n",
    "from gammapy.catalog import SourceCatalogGammaCat\n",
    "\n",
    "cat_g = SourceCatalogGammaCat()\n",
    "source_g = cat_g['HESS J1804-216']\n",
    "\n",
    "data_g = source_g.flux_points.table\n",
    "dnde_err_g = data_g['dnde'] * (data_g['dnde_errn'] / data_g['dnde'])\n",
    "data_g['dnde_err'] = dnde_err_g.to(data_g['dnde'].unit)\n",
    "\n",
    "data_g"
   ]
  },
  {
   "cell_type": "code",
   "execution_count": 83,
   "metadata": {
    "collapsed": false
   },
   "outputs": [
    {
     "name": "stderr",
     "output_type": "stream",
     "text": [
      "WARNING: MergeConflictWarning: Cannot merge meta key 'SED_TYPE' types <class 'str'> and <class 'str'>, choosing SED_TYPE='dnde' [astropy.utils.metadata]\n"
     ]
    },
    {
     "data": {
      "text/html": [
       "&lt;Table length=17&gt;\n",
       "<table id=\"table2351314779440\" class=\"table-striped table-bordered table-condensed\">\n",
       "<thead><tr><th>e_ref</th><th>dnde</th><th>dnde_err</th></tr></thead>\n",
       "<thead><tr><th>TeV</th><th>1 / (cm2 s TeV)</th><th>1 / (cm2 s TeV)</th></tr></thead>\n",
       "<thead><tr><th>float64</th><th>float64</th><th>float64</th></tr></thead>\n",
       "<tr><td>0.000547722557505</td><td>4.46406285904e-05</td><td>7.41314920056e-06</td></tr>\n",
       "<tr><td>0.00173205080757</td><td>4.92846493564e-06</td><td>3.97101021728e-07</td></tr>\n",
       "<tr><td>0.00547722557505</td><td>3.913687025e-07</td><td>3.01722880323e-08</td></tr>\n",
       "<tr><td>0.0316227766017</td><td>9.67858062932e-10</td><td>2.90924598209e-10</td></tr>\n",
       "<tr><td>0.190209999681</td><td>3.16659004573e-10</td><td>1.6687198845e-10</td></tr>\n",
       "<tr><td>0.246156007051</td><td>2.62700999842e-10</td><td>3.55611998182e-11</td></tr>\n",
       "<tr><td>0.326564013958</td><td>1.0950700069e-10</td><td>1.54474991826e-11</td></tr>\n",
       "<tr><td>0.429598003626</td><td>6.12511985576e-11</td><td>7.57996009709e-12</td></tr>\n",
       "<tr><td>0.578168988228</td><td>2.6673099493e-11</td><td>3.65101004984e-12</td></tr>\n",
       "<tr><td>0.76265001297</td><td>1.45516003761e-11</td><td>2.07485005739e-12</td></tr>\n",
       "<tr><td>1.02530002594</td><td>4.73270988371e-12</td><td>9.9893997154e-13</td></tr>\n",
       "<tr><td>1.4058599472</td><td>2.45475991964e-12</td><td>6.56554942791e-13</td></tr>\n",
       "<tr><td>1.88432002068</td><td>1.4884400136e-12</td><td>3.77419991961e-13</td></tr>\n",
       "<tr><td>2.44496011734</td><td>5.12846004812e-13</td><td>1.86675016265e-13</td></tr>\n",
       "<tr><td>3.60684990883</td><td>1.21799001006e-13</td><td>6.23968988999e-14</td></tr>\n",
       "<tr><td>6.49573993683</td><td>2.76429998547e-14</td><td>1.1183900316e-14</td></tr>\n",
       "<tr><td>10.7800998688</td><td>7.45576018459e-15</td><td>4.22238004448e-15</td></tr>\n",
       "</table>"
      ],
      "text/plain": [
       "<Table length=17>\n",
       "      e_ref              dnde            dnde_err    \n",
       "       TeV         1 / (cm2 s TeV)   1 / (cm2 s TeV) \n",
       "     float64           float64           float64     \n",
       "----------------- ----------------- -----------------\n",
       "0.000547722557505 4.46406285904e-05 7.41314920056e-06\n",
       " 0.00173205080757 4.92846493564e-06 3.97101021728e-07\n",
       " 0.00547722557505   3.913687025e-07 3.01722880323e-08\n",
       "  0.0316227766017 9.67858062932e-10 2.90924598209e-10\n",
       "   0.190209999681 3.16659004573e-10  1.6687198845e-10\n",
       "   0.246156007051 2.62700999842e-10 3.55611998182e-11\n",
       "   0.326564013958  1.0950700069e-10 1.54474991826e-11\n",
       "   0.429598003626 6.12511985576e-11 7.57996009709e-12\n",
       "   0.578168988228  2.6673099493e-11 3.65101004984e-12\n",
       "    0.76265001297 1.45516003761e-11 2.07485005739e-12\n",
       "    1.02530002594 4.73270988371e-12  9.9893997154e-13\n",
       "     1.4058599472 2.45475991964e-12 6.56554942791e-13\n",
       "    1.88432002068  1.4884400136e-12 3.77419991961e-13\n",
       "    2.44496011734 5.12846004812e-13 1.86675016265e-13\n",
       "    3.60684990883 1.21799001006e-13 6.23968988999e-14\n",
       "    6.49573993683 2.76429998547e-14  1.1183900316e-14\n",
       "    10.7800998688 7.45576018459e-15 4.22238004448e-15"
      ]
     },
     "execution_count": 83,
     "metadata": {},
     "output_type": "execute_result"
    }
   ],
   "source": [
    "# Combining data\n",
    "colnames=['e_ref', 'dnde', 'dnde_err']\n",
    "\n",
    "data_combined = vstack([\n",
    "                    data_f[colnames], \n",
    "                    data_g[colnames]\n",
    "                    ])\n",
    "\n",
    "flux_points = FluxPoints(data_combined)\n",
    "\n",
    "flux_points.table\n",
    "\n",
    "mask = ~np.isnan(flux_points.table['dnde_err'])\n",
    "flux_points.table = flux_points.table[mask]\n",
    "\n",
    "flux_points.table"
   ]
  },
  {
   "cell_type": "code",
   "execution_count": 73,
   "metadata": {
    "collapsed": false
   },
   "outputs": [
    {
     "data": {
      "text/plain": [
       "<Container object of 3 artists>"
      ]
     },
     "execution_count": 73,
     "metadata": {},
     "output_type": "execute_result"
    },
    {
     "data": {
      "image/png": "[encoded data removed]",
      "text/plain": [
       "<matplotlib.figure.Figure at 0x2237535d3c8>"
      ]
     },
     "metadata": {},
     "output_type": "display_data"
    }
   ],
   "source": [
    "# Defining units\n",
    "energy_range = [1e-4, 100] * u.TeV\n",
    "opts = dict(energy_unit='TeV', flux_unit='cm-2 s-1 TeV-1', energy_range=energy_range)\n",
    "\n",
    "source_f.spectral_model.plot(**opts, color='r')\n",
    "# Using the combined energy range to stretch to gamma-cat data\n",
    "\n",
    "p_f = source_f.spectral_model.parameters\n",
    "p_g = source_g.spectral_model.parameters\n",
    "# plt.plot(p_f['reference'].value / 1e6, p_f['amplitude'].value * 1e6, '*', color='c')\n",
    "# plt.plot(p_g['reference'].value, p_g['amplitude'].value, '*', color='c')\n",
    "\n",
    "\n",
    "\n",
    "# Combined 3FGL + gamma-cat:\n",
    "# TODO: Split the colors for the flux points (first 5 purple, last 6 red)\n",
    "# Instead of the below code, I can call plt.errorbar() for each catalog individually. \n",
    "\n",
    "plt.errorbar(x=flux_points.table['e_ref'],\n",
    "             y=flux_points.table['dnde'],\n",
    "             yerr=flux_points.table['dnde_err'],\n",
    "             fmt='.',\n",
    "             color='b'\n",
    "            )"
   ]
  },
  {
   "cell_type": "code",
   "execution_count": 74,
   "metadata": {
    "collapsed": true
   },
   "outputs": [],
   "source": [
    "from gammapy.spectrum.models import PowerLaw\n",
    "\n",
    "class MyChi2:\n",
    "\n",
    "    def __init__(self, flux_points, spectral_model):\n",
    "        self.flux_points = flux_points\n",
    "        self.spectral_model = spectral_model\n",
    "    \n",
    "    def __call__(self, amplitude, index):\n",
    "\n",
    "        t = self.flux_points.table\n",
    "        \n",
    "        dnde_model = PowerLaw.evaluate( # Should be calling: spectral_model.evaluate()\n",
    "            energy=t['e_ref'],\n",
    "            amplitude=amplitude,\n",
    "            index=index,\n",
    "            reference=1 # 1 TeV\n",
    "        )\n",
    "\n",
    "        chi = (t['dnde'] - dnde_model) / t['dnde_err']\n",
    "        return np.sum(chi ** 2)"
   ]
  },
  {
   "cell_type": "code",
   "execution_count": 75,
   "metadata": {
    "collapsed": true
   },
   "outputs": [],
   "source": [
    "from iminuit import Minuit\n",
    "\n",
    "class Chi2Fitter(object):\n",
    "    def __init__(self, flux_points, spectral_model):\n",
    "        self.flux_points = flux_points\n",
    "        self.spectral_model = spectral_model\n",
    "        self.minuit = None\n",
    "    \n",
    "    def fit(self):\n",
    "\n",
    "        chi2 = MyChi2(self.flux_points, self.spectral_model)\n",
    "        \n",
    "        pars = dict(\n",
    "            amplitude=self.spectral_model.parameters['amplitude'].value,\n",
    "            index = self.spectral_model.parameters['index'].value\n",
    "        )\n",
    "        \n",
    "        minuit = Minuit(chi2, **pars)\n",
    "        \n",
    "        minuit.migrad()\n",
    "        minuit.hesse()\n",
    "        \n",
    "        self.minuit = minuit"
   ]
  },
  {
   "cell_type": "code",
   "execution_count": 79,
   "metadata": {
    "collapsed": false
   },
   "outputs": [
    {
     "name": "stderr",
     "output_type": "stream",
     "text": [
      "C:\\Users\\Arjun\\Anaconda3\\lib\\site-packages\\ipykernel_launcher.py:18: InitialParamWarning: errordef is not given. Default to 1.\n",
      "C:\\Users\\Arjun\\Anaconda3\\lib\\site-packages\\ipykernel_launcher.py:18: InitialParamWarning: Parameter amplitude is floating but does not have initial step size. Assume 1.\n",
      "C:\\Users\\Arjun\\Anaconda3\\lib\\site-packages\\ipykernel_launcher.py:18: InitialParamWarning: Parameter index is floating but does not have initial step size. Assume 1.\n"
     ]
    },
    {
     "data": {
      "text/html": [
       "<hr>"
      ]
     },
     "metadata": {},
     "output_type": "display_data"
    },
    {
     "data": {
      "text/html": [
       "\n",
       "        <table>\n",
       "            <tr>\n",
       "                <td title=\"Minimum value of function\">FCN = 160.1246378467807</td>\n",
       "                <td title=\"Total number of call to FCN so far\">TOTAL NCALL = 100</td>\n",
       "                <td title=\"Number of call in last migrad\">NCALLS = 100</td>\n",
       "            </tr>\n",
       "            <tr>\n",
       "                <td title=\"Estimated distance to minimum\">EDM = 61.880021114410326</td>\n",
       "                <td title=\"Maximum EDM definition of convergence\">GOAL EDM = 1e-05</td>\n",
       "                <td title=\"Error def. Amount of increase in FCN to be defined as 1 standard deviation\">\n",
       "                UP = 1.0</td>\n",
       "            </tr>\n",
       "        </table>\n",
       "        \n",
       "        <table>\n",
       "            <tr>\n",
       "                <td align=\"center\" title=\"Validity of the migrad call\">Valid</td>\n",
       "                <td align=\"center\" title=\"Validity of parameters\">Valid Param</td>\n",
       "                <td align=\"center\" title=\"Is Covariance matrix accurate?\">Accurate Covar</td>\n",
       "                <td align=\"center\" title=\"Positive definiteness of covariance matrix\">PosDef</td>\n",
       "                <td align=\"center\" title=\"Was covariance matrix made posdef by adding diagonal element\">Made PosDef</td>\n",
       "            </tr>\n",
       "            <tr>\n",
       "                <td align=\"center\" style=\"background-color:#FF7878\">False</td>\n",
       "                <td align=\"center\" style=\"background-color:#92CCA6\">True</td>\n",
       "                <td align=\"center\" style=\"background-color:#FF7878\">False</td>\n",
       "                <td align=\"center\" style=\"background-color:#92CCA6\">True</td>\n",
       "                <td align=\"center\" style=\"background-color:#92CCA6\">False</td>\n",
       "            </tr>\n",
       "            <tr>\n",
       "                <td align=\"center\" title=\"Was last hesse call fail?\">Hesse Fail</td>\n",
       "                <td align=\"center\" title=\"Validity of covariance\">HasCov</td>\n",
       "                <td align=\"center\" title=\"Is EDM above goal EDM?\">Above EDM</td>\n",
       "                <td align=\"center\"></td>\n",
       "                <td align=\"center\" title=\"Did last migrad call reach max call limit?\">Reach calllim</td>\n",
       "            </tr>\n",
       "            <tr>\n",
       "                <td align=\"center\" style=\"background-color:#92CCA6\">False</td>\n",
       "                <td align=\"center\" style=\"background-color:#92CCA6\">True</td>\n",
       "                <td align=\"center\" style=\"background-color:#FF7878\">True</td>\n",
       "                <td align=\"center\"></td>\n",
       "                <td align=\"center\" style=\"background-color:#92CCA6\">False</td>\n",
       "            </tr>\n",
       "        </table>\n",
       "        "
      ]
     },
     "metadata": {},
     "output_type": "display_data"
    },
    {
     "data": {
      "text/html": [
       "\n",
       "        <table>\n",
       "            <tr>\n",
       "                <td><a href=\"#\" onclick=\"$('#iDrziTnMIH').toggle()\">+</a></td>\n",
       "                <td title=\"Variable name\">Name</td>\n",
       "                <td title=\"Value of parameter\">Value</td>\n",
       "                <td title=\"Parabolic error\">Parab Error</td>\n",
       "                <td title=\"Minos lower error\">Minos Error-</td>\n",
       "                <td title=\"Minos upper error\">Minos Error+</td>\n",
       "                <td title=\"Lower limit of the parameter\">Limit-</td>\n",
       "                <td title=\"Upper limit of the parameter\">Limit+</td>\n",
       "                <td title=\"Is the parameter fixed in the fit\">FIXED</td>\n",
       "            </tr>\n",
       "        \n",
       "            <tr>\n",
       "                <td>1</td>\n",
       "                <td>amplitude</td>\n",
       "                <td>6.24709e-13</td>\n",
       "                <td>1.00272</td>\n",
       "                <td>0</td>\n",
       "                <td>0</td>\n",
       "                <td></td>\n",
       "                <td></td>\n",
       "                <td></td>\n",
       "            </tr>\n",
       "            \n",
       "            <tr>\n",
       "                <td>2</td>\n",
       "                <td>index</td>\n",
       "                <td>2.23801</td>\n",
       "                <td>1</td>\n",
       "                <td>0</td>\n",
       "                <td>0</td>\n",
       "                <td></td>\n",
       "                <td></td>\n",
       "                <td></td>\n",
       "            </tr>\n",
       "            \n",
       "            </table>\n",
       "        \n",
       "            <pre id=\"iDrziTnMIH\" style=\"display:none;\">\n",
       "            <textarea rows=\"10\" cols=\"50\" onclick=\"this.select()\" readonly>\\begin{tabular}{|c|r|r|r|r|r|r|r|c|}\n",
       "\\hline\n",
       " & Name & Value & Para Error & Error+ & Error- & Limit+ & Limit- & FIXED\\\\\n",
       "\\hline\n",
       "1 & amplitude & 6.247e-13 & 1.003e+00 &  &  &  &  & \\\\\n",
       "\\hline\n",
       "2 & index & 2.238e+00 & 1.000e+00 &  &  &  &  & \\\\\n",
       "\\hline\n",
       "\\end{tabular}</textarea>\n",
       "            </pre>\n",
       "            "
      ]
     },
     "metadata": {},
     "output_type": "display_data"
    },
    {
     "data": {
      "text/html": [
       "<hr>"
      ]
     },
     "metadata": {},
     "output_type": "display_data"
    },
    {
     "data": {
      "text/html": [
       "\n",
       "        <table>\n",
       "            <tr>\n",
       "                <td><a href=\"#\" onclick=\"$('#tiJMiLPpNy').toggle()\">+</a></td>\n",
       "                <td title=\"Variable name\">Name</td>\n",
       "                <td title=\"Value of parameter\">Value</td>\n",
       "                <td title=\"Parabolic error\">Parab Error</td>\n",
       "                <td title=\"Minos lower error\">Minos Error-</td>\n",
       "                <td title=\"Minos upper error\">Minos Error+</td>\n",
       "                <td title=\"Lower limit of the parameter\">Limit-</td>\n",
       "                <td title=\"Upper limit of the parameter\">Limit+</td>\n",
       "                <td title=\"Is the parameter fixed in the fit\">FIXED</td>\n",
       "            </tr>\n",
       "        \n",
       "            <tr>\n",
       "                <td>1</td>\n",
       "                <td>amplitude</td>\n",
       "                <td>6.24709e-13</td>\n",
       "                <td>3.63534e-17</td>\n",
       "                <td>0</td>\n",
       "                <td>0</td>\n",
       "                <td></td>\n",
       "                <td></td>\n",
       "                <td></td>\n",
       "            </tr>\n",
       "            \n",
       "            <tr>\n",
       "                <td>2</td>\n",
       "                <td>index</td>\n",
       "                <td>2.23801</td>\n",
       "                <td>1.69169e-05</td>\n",
       "                <td>0</td>\n",
       "                <td>0</td>\n",
       "                <td></td>\n",
       "                <td></td>\n",
       "                <td></td>\n",
       "            </tr>\n",
       "            \n",
       "            </table>\n",
       "        \n",
       "            <pre id=\"tiJMiLPpNy\" style=\"display:none;\">\n",
       "            <textarea rows=\"10\" cols=\"50\" onclick=\"this.select()\" readonly>\\begin{tabular}{|c|r|r|r|r|r|r|r|c|}\n",
       "\\hline\n",
       " & Name & Value & Para Error & Error+ & Error- & Limit+ & Limit- & FIXED\\\\\n",
       "\\hline\n",
       "1 & amplitude & 6.247e-13 & 3.635e-17 &  &  &  &  & \\\\\n",
       "\\hline\n",
       "2 & index & 2.238e+00 & 1.692e-05 &  &  &  &  & \\\\\n",
       "\\hline\n",
       "\\end{tabular}</textarea>\n",
       "            </pre>\n",
       "            "
      ]
     },
     "metadata": {},
     "output_type": "display_data"
    },
    {
     "data": {
      "text/html": [
       "\n",
       "            <table>\n",
       "                <tr>\n",
       "                    <td><a onclick=\"$('#zGIxyZtZMg').toggle()\" href=\"#\">+</a></td>\n",
       "        \n",
       "            <td>\n",
       "            <div style=\"width:20px;position:relative; width: -moz-fit-content;\">\n",
       "            <div style=\"display:inline-block;-webkit-writing-mode:vertical-rl;-moz-writing-mode: vertical-rl;writing-mode: vertical-rl;\">\n",
       "            amplitude\n",
       "            </div>\n",
       "            </div>\n",
       "            </td>\n",
       "            \n",
       "            <td>\n",
       "            <div style=\"width:20px;position:relative; width: -moz-fit-content;\">\n",
       "            <div style=\"display:inline-block;-webkit-writing-mode:vertical-rl;-moz-writing-mode: vertical-rl;writing-mode: vertical-rl;\">\n",
       "            index\n",
       "            </div>\n",
       "            </div>\n",
       "            </td>\n",
       "            \n",
       "                </tr>\n",
       "                \n",
       "            <tr>\n",
       "                <td>amplitude</td>\n",
       "            \n",
       "                <td style=\"background-color:rgb(255,117,117)\">\n",
       "                1.00\n",
       "                </td>\n",
       "                \n",
       "                <td style=\"background-color:rgb(255,117,117)\">\n",
       "                -1.00\n",
       "                </td>\n",
       "                \n",
       "            </tr>\n",
       "            \n",
       "            <tr>\n",
       "                <td>index</td>\n",
       "            \n",
       "                <td style=\"background-color:rgb(255,117,117)\">\n",
       "                -1.00\n",
       "                </td>\n",
       "                \n",
       "                <td style=\"background-color:rgb(255,117,117)\">\n",
       "                1.00\n",
       "                </td>\n",
       "                \n",
       "            </tr>\n",
       "            </table>\n",
       "\n",
       "            <pre id=\"zGIxyZtZMg\" style=\"display:none;\">\n",
       "            <textarea rows=\"13\" cols=\"50\" onclick=\"this.select()\" readonly>%\\usepackage[table]{xcolor} % include this for color\n",
       "%\\usepackage{rotating} % include this for rotate header\n",
       "%\\documentclass[xcolor=table]{beamer} % for beamer\n",
       "\\begin{tabular}{|c|c|c|}\n",
       "\\hline\n",
       "\\rotatebox{90}{} & \\rotatebox{90}{amplitude} & \\rotatebox{90}{index}\\\\\n",
       "\\hline\n",
       "amplitude & \\cellcolor[RGB]{255,117,117} 1.00 & \\cellcolor[RGB]{255,117,117} -1.00\\\\\n",
       "\\hline\n",
       "index & \\cellcolor[RGB]{255,117,117} -1.00 & \\cellcolor[RGB]{255,117,117} 1.00\\\\\n",
       "\\hline\n",
       "\\end{tabular}</textarea>\n",
       "            </pre>\n",
       "            "
      ]
     },
     "metadata": {},
     "output_type": "display_data"
    },
    {
     "name": "stdout",
     "output_type": "stream",
     "text": [
      "{'index': 2.238009994587122, 'amplitude': 6.247088410647177e-13}\n",
      "\n",
      " {'index': 1.6916897318882628e-05, 'amplitude': 3.635336407049141e-17}\n",
      "      e_ref              dnde            dnde_err    \n",
      "       TeV         1 / (cm2 s TeV)   1 / (cm2 s TeV) \n",
      "----------------- ----------------- -----------------\n",
      "0.000547722557505 1.01898936662e-05 6.19648949243e-06\n",
      " 0.00173205080757 2.59129255318e-06 3.44501128996e-07\n",
      " 0.00547722557505 2.37465971826e-07 2.54529119583e-08\n",
      "  0.0316227766017 4.16962530119e-10 1.88813621646e-10\n",
      "   0.562340974808 1.63165002343e-11 1.06664998015e-11\n",
      "              1.0  8.6539404115e-12 2.69447008108e-12\n",
      "    1.77828001976  3.1564299785e-12 7.61697020561e-13\n",
      "     3.1622800827 8.58516979296e-13 2.41205005188e-13\n",
      "    5.62341022491 2.46071012958e-13 7.44987974305e-14\n",
      "             10.0 7.08398997015e-14 2.46605019798e-14\n",
      "    17.7828006744 2.71904996077e-14 7.69553996536e-15\n",
      "    31.2254009247 1.11977999149e-15 2.00187004424e-15\n",
      "    54.7536010742 5.10437988823e-16 7.43141973993e-16\n"
     ]
    }
   ],
   "source": [
    "spectral_model = PowerLaw(\n",
    "    reference=1,\n",
    "    amplitude=1e-12, # p_g['amplitude'].value \n",
    "    index=1.0 # p_g['index'].value\n",
    ")\n",
    "\n",
    "fitter = Chi2Fitter(flux_points=flux_points, spectral_model=spectral_model)\n",
    "fitter.fit()\n",
    "\n",
    "print(fitter.minuit.values)\n",
    "print('\\n', fitter.minuit.errors)\n",
    "\n",
    "\n",
    "        \n",
    "fitter.flux_points.table.pprint()"
   ]
  },
  {
   "cell_type": "code",
   "execution_count": 86,
   "metadata": {
    "collapsed": false
   },
   "outputs": [
    {
     "data": {
      "text/plain": [
       "<matplotlib.text.Text at 0x22375989ba8>"
      ]
     },
     "execution_count": 86,
     "metadata": {},
     "output_type": "execute_result"
    },
    {
     "data": {
      "image/png": "[encoded data removed]",
      "text/plain": [
       "<matplotlib.figure.Figure at 0x223759268d0>"
      ]
     },
     "metadata": {},
     "output_type": "display_data"
    }
   ],
   "source": [
    "source_g.spectral_model.plot(linestyle='dashed', alpha=0, **opts)\n",
    "# source_f.spectral_model.plot(linestyle='dashed', alpha=0.7, **opts)\n",
    "\n",
    "# plt.plot(p_f['reference'].value / 1e6, p_f['amplitude'].value * 1e6, '*', color='g')\n",
    "# plt.plot(p_g['reference'].value, p_g['amplitude'].value, '*', color='r')\n",
    "\n",
    "fermi = plt.errorbar(x=data_f['e_ref'],\n",
    "             y = data_f['dnde'],\n",
    "             yerr = data_f['dnde_err'],\n",
    "             fmt='.',\n",
    "             color='g'\n",
    "            )\n",
    "\n",
    "hess = plt.errorbar(x=data_g['e_ref'],\n",
    "             y = data_g['dnde'],\n",
    "             yerr = data_g['dnde_err'],\n",
    "             fmt='.',\n",
    "             color='r'\n",
    "            )\n",
    "\n",
    "\n",
    "from gammapy.utils.energy import Energy\n",
    "energy = Energy.equal_log_spacing(\n",
    "    emin=energy_range[0],\n",
    "    emax=energy_range[1],\n",
    "    nbins=100,\n",
    ")\n",
    "\n",
    "spectral_model = PowerLaw(\n",
    "    index=fitter.minuit.values['index'],\n",
    "    amplitude=fitter.minuit.values['amplitude'],\n",
    "    reference=1\n",
    "    )\n",
    "\n",
    "flux = spectral_model(\n",
    "    energy=energy.to('TeV').value\n",
    "#     amplitude = fitter.minuit.values['amplitude'],\n",
    "#     index = fitter.minuit.values['index'],\n",
    "#     reference=1,\n",
    ")\n",
    "plt.plot(energy, flux, linewidth=1, color='blue')\n",
    "\n",
    "plt.legend([fermi, hess], ['Fermi 3FGL', 'H.E.S.S.'])\n",
    "\n",
    "plt.title('SED of HESS J1809-193 with best-fit model')"
   ]
  },
  {
   "cell_type": "code",
   "execution_count": 80,
   "metadata": {
    "collapsed": false
   },
   "outputs": [
    {
     "name": "stdout",
     "output_type": "stream",
     "text": [
      "\n",
      "Minimum value of function:  160.1246378467807\n",
      "\n",
      "Reduced minimum:  14.556785258798245\n"
     ]
    }
   ],
   "source": [
    "print('\\nMinimum value of function: ', fitter.minuit.fval)\n",
    "\n",
    "result = fitter.minuit.fval / (len(flux_points.table) - len(fitter.minuit.args))\n",
    "print('\\nReduced minimum: ', result)"
   ]
  },
  {
   "cell_type": "code",
   "execution_count": null,
   "metadata": {
    "collapsed": true
   },
   "outputs": [],
   "source": []
  },
  {
   "cell_type": "code",
   "execution_count": null,
   "metadata": {
    "collapsed": true
   },
   "outputs": [],
   "source": []
  }
 ],
 "metadata": {
  "kernelspec": {
   "display_name": "Python 3",
   "language": "python",
   "name": "python3"
  },
  "language_info": {
   "codemirror_mode": {
    "name": "ipython",
    "version": 3
   },
   "file_extension": ".py",
   "mimetype": "text/x-python",
   "name": "python",
   "nbconvert_exporter": "python",
   "pygments_lexer": "ipython3",
   "version": "3.5.1"
  }
 },
 "nbformat": 4,
 "nbformat_minor": 2
}
