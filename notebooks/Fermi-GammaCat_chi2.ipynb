{
 "cells": [
  {
   "cell_type": "markdown",
   "metadata": {},
   "source": [
    "# Make a chi2 spectrum fit with mixed Fermi/HGPS data"
   ]
  },
  {
   "cell_type": "code",
   "execution_count": 1,
   "metadata": {
    "collapsed": true
   },
   "outputs": [],
   "source": [
    "%matplotlib inline\n",
    "import numpy as np\n",
    "import pandas as pd\n",
    "import matplotlib.pyplot as plt\n",
    "plt.style.use('ggplot')\n",
    "from pprint import pprint\n",
    "import astropy.units as u\n",
    "from astropy.units import Quantity"
   ]
  },
  {
   "cell_type": "markdown",
   "metadata": {},
   "source": [
    "## The source\n",
    "\n",
    "~~I'm selecting HESS J1614-518 (source_id 83) / 3FGL J1615.3-5146e.~~\n",
    "\n",
    "I'm selecting HESS J1303-631 (source_id 61) / 3FGL J1303.0-6312e.\n",
    "\n",
    "\\*\\*Many sources from gamma-cat do not have filled in flux data yet (e.g. source_id 83) - I can only work with a select amount of sources until the HGPS catalog is made available to the public.\n",
    "\n",
    "See from the [Fermi-HGPS repo](https://github.com/gammasky/fermi-hgps-paper/blob/master/analysis/plots/seds/HESS%20J1614-518_3FGL%20J1615.3-5146e_sed.png)."
   ]
  },
  {
   "cell_type": "code",
   "execution_count": 2,
   "metadata": {
    "collapsed": false
   },
   "outputs": [],
   "source": [
    "from gammapy.catalog import SourceCatalog3FGL, SourceCatalogObject3FGL, SourceCatalogHGPS, SourceCatalogObjectHGPS, SourceCatalogGammaCat, SourceCatalogObjectGammaCat\n",
    "\n",
    "cat_3fgl = SourceCatalog3FGL()\n",
    "# cat_hgps = SourceCatalogHGPS()  <-- Use gamma-cat until this is made available\n",
    "cat_gammacat = SourceCatalogGammaCat()\n",
    "\n",
    "source_3fgl = cat_3fgl['3FGL J1615.3-5146e']\n",
    "source_gammacat = cat_gammacat['HESS J1303-631']\n",
    "\n",
    "data_3fgl = source_3fgl.flux_points.table\n",
    "data_gammacat = source_gammacat.flux_points.table\n",
    "\n",
    "# Flux units - gamma-cat must be converted from TeV to MeV to match 3FGL\n",
    "data_3fgl['dnde'] = data_3fgl['dnde'].to('cm-2 s-1 MeV-1')\n",
    "\n",
    "data_gammacat['e_ref'] = data_gammacat['e_ref'].to('MeV')\n",
    "data_gammacat['dnde'] = data_gammacat['dnde'].to('cm-2 s-1 MeV-1')\n",
    "data_gammacat['dnde_errn'] = data_gammacat['dnde_errn'].to('cm-2 s-1 MeV-1')\n",
    "data_gammacat['dnde_errp'] = data_gammacat['dnde_errp'].to('cm-2 s-1 MeV-1')\n",
    "\n",
    "# Create flux error\n",
    "dnde_err = data_3fgl['dnde'] * (data_3fgl['flux_errn'] / data_3fgl['flux'])\n",
    "data_3fgl['dnde_err'] = dnde_err.to(data_3fgl['dnde'].unit)\n",
    "\n",
    "dnde_err = data_gammacat['dnde'] * (data_gammacat['dnde_errn'] / data_gammacat['dnde'])\n",
    "data_gammacat['dnde_err'] = dnde_err.to(data_gammacat['dnde'].unit)\n",
    "# ^ Did I do this correctly?"
   ]
  },
  {
   "cell_type": "code",
   "execution_count": 3,
   "metadata": {
    "collapsed": false
   },
   "outputs": [
    {
     "name": "stdout",
     "output_type": "stream",
     "text": [
      "<Table length=5>\r\n",
      "   name     dtype        unit      n_bad\r\n",
      "---------- ------- --------------- -----\r\n",
      "     e_ref float64             MeV     0\r\n",
      "     e_min float64             MeV     0\r\n",
      "     e_max float64             MeV     0\r\n",
      "      flux float32     1 / (cm2 s)     1\r\n",
      " flux_errn float32     1 / (cm2 s)     1\r\n",
      " flux_errp float32     1 / (cm2 s)     1\r\n",
      "     eflux float32   erg / (cm2 s)     1\r\n",
      "eflux_errn float32   erg / (cm2 s)     1\r\n",
      "eflux_errp float32   erg / (cm2 s)     1\r\n",
      "     is_ul    bool                     0\r\n",
      "   flux_ul float64     1 / (cm2 s)     4\r\n",
      "  eflux_ul float64   erg / (cm2 s)     4\r\n",
      "      dnde float64 1 / (cm2 MeV s)     0\r\n",
      "  dnde_err float64 1 / (cm2 MeV s)     1\r\n",
      "\n",
      " ParameterList\n",
      "Parameter(name='index', value=1.8643473386764526, unit=Unit(dimensionless), min=0, max=None, frozen=False)\n",
      "Parameter(name='amplitude', value=2.872970958356369e-13, unit=Unit(\"1 / (cm2 MeV s)\"), min=0, max=None, frozen=False)\n",
      "Parameter(name='reference', value=6018.2392578125, unit=Unit(\"MeV\"), min=None, max=None, frozen=True)\n",
      "\n",
      "Covariance: None\n"
     ]
    }
   ],
   "source": [
    "data_3fgl.info()\n",
    "\n",
    "print('\\n', source_3fgl.spectral_model.parameters)"
   ]
  },
  {
   "cell_type": "code",
   "execution_count": 4,
   "metadata": {
    "collapsed": false
   },
   "outputs": [],
   "source": [
    "# data_gammacat.info()\n",
    "\n",
    "# print('\\n', source_gammacat.spectral_model.parameters)"
   ]
  },
  {
   "cell_type": "markdown",
   "metadata": {},
   "source": [
    "## ~~Combining source data~~\n",
    "\n",
    "~~data_3fgl + data_gammacat = data_combined~~"
   ]
  },
  {
   "cell_type": "code",
   "execution_count": 5,
   "metadata": {
    "collapsed": false
   },
   "outputs": [],
   "source": [
    "# cols = ['e_ref', 'dnde', 'dnde_err']\n",
    "\n",
    "# data_combined = (data_3fgl[cols])\n",
    "# data_combined"
   ]
  },
  {
   "cell_type": "code",
   "execution_count": 6,
   "metadata": {
    "collapsed": false
   },
   "outputs": [],
   "source": [
    "# for row in data_gammacat[cols]:\n",
    "#     new_row = []\n",
    "#     for col in row.as_void():\n",
    "#         new_row.append(col)\n",
    "\n",
    "#     data_combined.add_row(new_row)\n",
    "\n",
    "# data_combined"
   ]
  },
  {
   "cell_type": "code",
   "execution_count": 7,
   "metadata": {
    "collapsed": false
   },
   "outputs": [],
   "source": [
    "# print(source_3fgl.energy_range)\n",
    "\n",
    "# combined_energy_range = Quantity([100, 1e8], 'MeV')\n",
    "# print('\\n', combined_energy_range)"
   ]
  },
  {
   "cell_type": "markdown",
   "metadata": {},
   "source": [
    "## Plot data and model\n",
    "\n",
    "We'll be plotting the spectral model for the source as given by `SourceCatalogObject3FGL`."
   ]
  },
  {
   "cell_type": "code",
   "execution_count": 8,
   "metadata": {
    "collapsed": false
   },
   "outputs": [
    {
     "data": {
      "text/plain": [
       "<Container object of 3 artists>"
      ]
     },
     "execution_count": 8,
     "metadata": {},
     "output_type": "execute_result"
    },
    {
     "name": "stderr",
     "output_type": "stream",
     "text": [
      "C:\\Users\\arjun_000\\Anaconda3\\lib\\site-packages\\matplotlib\\scale.py:101: RuntimeWarning: invalid value encountered in less_equal\n",
      "  a[a <= 0.0] = 1e-300\n"
     ]
    },
    {
     "data": {
      "image/png": "[encoded data removed]",
      "text/plain": [
       "<matplotlib.figure.Figure at 0x119380766d8>"
      ]
     },
     "metadata": {},
     "output_type": "display_data"
    }
   ],
   "source": [
    "# Defining units\n",
    "opts = dict(energy_unit='MeV', flux_unit='cm-2 s-1 MeV-1')\n",
    "\n",
    "# source_3fgl.spectral_model.plot(combined_energy_range, **opts, color='purple')\n",
    "source_3fgl.spectral_model.plot(source_3fgl.energy_range, **opts)\n",
    "# Using the combined energy range to stretch to gamma-cat data\n",
    "\n",
    "p = source_3fgl.spectral_model.parameters\n",
    "# Spectral model type is PowerLaw\n",
    "\n",
    "# Plot reference point\n",
    "plt.plot(p['reference'].value, p['amplitude'].value, '*', color='b')\n",
    "\n",
    "\n",
    "# Plot 3FGL flux points\n",
    "plt.errorbar(x=data_3fgl['e_ref'],\n",
    "             y = data_3fgl['dnde'],\n",
    "             yerr = data_3fgl['dnde_err'],\n",
    "             fmt='.',\n",
    "             color='purple'\n",
    "            )\n",
    "\n",
    "# # Plot gamma-cat flux points\n",
    "# plt.errorbar(x=data_gammacat['e_ref'],\n",
    "#              y = data_gammacat['dnde'],\n",
    "#              yerr = data_gammacat['dnde_err'],\n",
    "#              fmt='.',\n",
    "#              color='r'\n",
    "#             )"
   ]
  },
  {
   "cell_type": "markdown",
   "metadata": {},
   "source": [
    "## Likelihood function - chi2\n",
    "\n",
    "We have to define the chi2 function for this source (given the spectral model is power-law, ecut will not be a parameter)"
   ]
  },
  {
   "cell_type": "code",
   "execution_count": 9,
   "metadata": {
    "collapsed": false
   },
   "outputs": [
    {
     "name": "stdout",
     "output_type": "stream",
     "text": [
      "ParameterList\n",
      "Parameter(name='index', value=1.8643473386764526, unit=Unit(dimensionless), min=0, max=None, frozen=False)\n",
      "Parameter(name='amplitude', value=2.872970958356369e-13, unit=Unit(\"1 / (cm2 MeV s)\"), min=0, max=None, frozen=False)\n",
      "Parameter(name='reference', value=6018.2392578125, unit=Unit(\"MeV\"), min=None, max=None, frozen=True)\n",
      "\n",
      "Covariance: None\n"
     ]
    }
   ],
   "source": [
    "print(source_3fgl.spectral_model.parameters)"
   ]
  },
  {
   "cell_type": "code",
   "execution_count": 10,
   "metadata": {
    "collapsed": true
   },
   "outputs": [],
   "source": [
    "def chi2(amplitude, index):\n",
    "    \n",
    "    dnde_model = source_3fgl.spectral_model.evaluate(\n",
    "        energy=data_3fgl['e_ref'],\n",
    "        amplitude=amplitude,\n",
    "        index=index,\n",
    "        reference=6018.2392578125 # <-- 3FGL source e_ref minus the units\n",
    "    ) \n",
    "\n",
    "    chi = (data_3fgl['dnde'] - dnde_model) / data_3fgl['dnde_err']\n",
    "    return np.sum(chi ** 2)"
   ]
  },
  {
   "cell_type": "markdown",
   "metadata": {},
   "source": [
    "## ML fit with Minuit"
   ]
  },
  {
   "cell_type": "code",
   "execution_count": 11,
   "metadata": {
    "collapsed": false
   },
   "outputs": [
    {
     "name": "stderr",
     "output_type": "stream",
     "text": [
      "C:\\Users\\arjun_000\\Anaconda3\\lib\\site-packages\\ipykernel\\__main__.py:7: InitialParamWarning: errordef is not given. Default to 1.\n",
      "C:\\Users\\arjun_000\\Anaconda3\\lib\\site-packages\\ipykernel\\__main__.py:7: InitialParamWarning: Parameter amplitude is floating but does not have initial step size. Assume 1.\n",
      "C:\\Users\\arjun_000\\Anaconda3\\lib\\site-packages\\ipykernel\\__main__.py:7: InitialParamWarning: Parameter index is floating but does not have initial step size. Assume 1.\n"
     ]
    },
    {
     "data": {
      "text/html": [
       "\n",
       "        <table>\n",
       "            <tr>\n",
       "                <td><a href=\"#\" onclick=\"$('#KXHzSOUkBJ').toggle()\">+</a></td>\n",
       "                <td title=\"Variable name\">Name</td>\n",
       "                <td title=\"Value of parameter\">Value</td>\n",
       "                <td title=\"Parabolic error\">Parab Error</td>\n",
       "                <td title=\"Minos lower error\">Minos Error-</td>\n",
       "                <td title=\"Minos upper error\">Minos Error+</td>\n",
       "                <td title=\"Lower limit of the parameter\">Limit-</td>\n",
       "                <td title=\"Upper limit of the parameter\">Limit+</td>\n",
       "                <td title=\"Is the parameter fixed in the fit\">FIXED</td>\n",
       "            </tr>\n",
       "        \n",
       "            <tr>\n",
       "                <td>1</td>\n",
       "                <td>amplitude</td>\n",
       "                <td>2.87297e-13</td>\n",
       "                <td>1</td>\n",
       "                <td>0</td>\n",
       "                <td>0</td>\n",
       "                <td></td>\n",
       "                <td></td>\n",
       "                <td></td>\n",
       "            </tr>\n",
       "            \n",
       "            <tr>\n",
       "                <td>2</td>\n",
       "                <td>index</td>\n",
       "                <td>1.86435</td>\n",
       "                <td>1</td>\n",
       "                <td>0</td>\n",
       "                <td>0</td>\n",
       "                <td></td>\n",
       "                <td></td>\n",
       "                <td></td>\n",
       "            </tr>\n",
       "            \n",
       "            </table>\n",
       "        \n",
       "            <pre id=\"KXHzSOUkBJ\" style=\"display:none;\">\n",
       "            <textarea rows=\"10\" cols=\"50\" onclick=\"this.select()\" readonly>\\begin{tabular}{|c|r|r|r|r|r|r|r|c|}\n",
       "\\hline\n",
       " & Name & Value & Para Error & Error+ & Error- & Limit+ & Limit- & FIXED\\\\\n",
       "\\hline\n",
       "1 & amplitude & 2.873e-13 & 1.000e+00 &  &  &  &  & \\\\\n",
       "\\hline\n",
       "2 & index & 1.864e+00 & 1.000e+00 &  &  &  &  & \\\\\n",
       "\\hline\n",
       "\\end{tabular}</textarea>\n",
       "            </pre>\n",
       "            "
      ]
     },
     "metadata": {},
     "output_type": "display_data"
    },
    {
     "name": "stdout",
     "output_type": "stream",
     "text": [
      "^ Initial parameters\n"
     ]
    },
    {
     "name": "stderr",
     "output_type": "stream",
     "text": [
      "C:\\Users\\arjun_000\\Anaconda3\\lib\\site-packages\\ipykernel\\__main__.py:12: RuntimeWarning: fcn returns Nan\n",
      "fcn is called with following arguments:\n",
      "    amplitude = +0.000000\n",
      "        index = +1.864347\n",
      "\n",
      "C:\\Users\\arjun_000\\Anaconda3\\lib\\site-packages\\ipykernel\\__main__.py:12: RuntimeWarning: fcn returns Nan\n",
      "fcn is called with following arguments:\n",
      "    amplitude = +nan\n",
      "        index = +1.864347\n",
      "\n",
      "C:\\Users\\arjun_000\\Anaconda3\\lib\\site-packages\\ipykernel\\__main__.py:12: RuntimeWarning: fcn returns Nan\n",
      "fcn is called with following arguments:\n",
      "    amplitude = +0.000000\n",
      "        index = +nan\n",
      "\n",
      "C:\\Users\\arjun_000\\Anaconda3\\lib\\site-packages\\ipykernel\\__main__.py:12: RuntimeWarning: fcn returns Nan\n",
      "fcn is called with following arguments:\n",
      "    amplitude = -nan(ind)\n",
      "        index = -nan(ind)\n",
      "\n",
      "C:\\Users\\arjun_000\\Anaconda3\\lib\\site-packages\\ipykernel\\__main__.py:12: RuntimeWarning: fcn returns Nan\n",
      "fcn is called with following arguments:\n",
      "    amplitude = +nan\n",
      "        index = +nan\n",
      "\n",
      "C:\\Users\\arjun_000\\Anaconda3\\lib\\site-packages\\ipykernel\\__main__.py:12: RuntimeWarning: fcn returns Nan\n",
      "fcn is called with following arguments:\n",
      "    amplitude = +nan\n",
      "        index = -nan(ind)\n",
      "\n",
      "C:\\Users\\arjun_000\\Anaconda3\\lib\\site-packages\\ipykernel\\__main__.py:12: RuntimeWarning: fcn returns Nan\n",
      "fcn is called with following arguments:\n",
      "    amplitude = -nan(ind)\n",
      "        index = +nan\n",
      "\n"
     ]
    },
    {
     "data": {
      "text/html": [
       "<hr>"
      ]
     },
     "metadata": {},
     "output_type": "display_data"
    },
    {
     "data": {
      "text/html": [
       "\n",
       "        <table>\n",
       "            <tr>\n",
       "                <td title=\"Minimum value of function\">FCN = nan</td>\n",
       "                <td title=\"Total number of call to FCN so far\">TOTAL NCALL = 36</td>\n",
       "                <td title=\"Number of call in last migrad\">NCALLS = 36</td>\n",
       "            </tr>\n",
       "            <tr>\n",
       "                <td title=\"Estimated distance to minimum\">EDM = nan</td>\n",
       "                <td title=\"Maximum EDM definition of convergence\">GOAL EDM = 1e-05</td>\n",
       "                <td title=\"Error def. Amount of increase in FCN to be defined as 1 standard deviation\">\n",
       "                UP = 1.0</td>\n",
       "            </tr>\n",
       "        </table>\n",
       "        \n",
       "        <table>\n",
       "            <tr>\n",
       "                <td align=\"center\" title=\"Validity of the migrad call\">Valid</td>\n",
       "                <td align=\"center\" title=\"Validity of parameters\">Valid Param</td>\n",
       "                <td align=\"center\" title=\"Is Covariance matrix accurate?\">Accurate Covar</td>\n",
       "                <td align=\"center\" title=\"Positive definiteness of covariance matrix\">PosDef</td>\n",
       "                <td align=\"center\" title=\"Was covariance matrix made posdef by adding diagonal element\">Made PosDef</td>\n",
       "            </tr>\n",
       "            <tr>\n",
       "                <td align=\"center\" style=\"background-color:#92CCA6\">True</td>\n",
       "                <td align=\"center\" style=\"background-color:#92CCA6\">True</td>\n",
       "                <td align=\"center\" style=\"background-color:#FF7878\">False</td>\n",
       "                <td align=\"center\" style=\"background-color:#92CCA6\">True</td>\n",
       "                <td align=\"center\" style=\"background-color:#92CCA6\">False</td>\n",
       "            </tr>\n",
       "            <tr>\n",
       "                <td align=\"center\" title=\"Was last hesse call fail?\">Hesse Fail</td>\n",
       "                <td align=\"center\" title=\"Validity of covariance\">HasCov</td>\n",
       "                <td align=\"center\" title=\"Is EDM above goal EDM?\">Above EDM</td>\n",
       "                <td align=\"center\"></td>\n",
       "                <td align=\"center\" title=\"Did last migrad call reach max call limit?\">Reach calllim</td>\n",
       "            </tr>\n",
       "            <tr>\n",
       "                <td align=\"center\" style=\"background-color:#92CCA6\">False</td>\n",
       "                <td align=\"center\" style=\"background-color:#92CCA6\">True</td>\n",
       "                <td align=\"center\" style=\"background-color:#92CCA6\">False</td>\n",
       "                <td align=\"center\"></td>\n",
       "                <td align=\"center\" style=\"background-color:#92CCA6\">False</td>\n",
       "            </tr>\n",
       "        </table>\n",
       "        "
      ]
     },
     "metadata": {},
     "output_type": "display_data"
    },
    {
     "data": {
      "text/html": [
       "\n",
       "        <table>\n",
       "            <tr>\n",
       "                <td><a href=\"#\" onclick=\"$('#AkPzciysum').toggle()\">+</a></td>\n",
       "                <td title=\"Variable name\">Name</td>\n",
       "                <td title=\"Value of parameter\">Value</td>\n",
       "                <td title=\"Parabolic error\">Parab Error</td>\n",
       "                <td title=\"Minos lower error\">Minos Error-</td>\n",
       "                <td title=\"Minos upper error\">Minos Error+</td>\n",
       "                <td title=\"Lower limit of the parameter\">Limit-</td>\n",
       "                <td title=\"Upper limit of the parameter\">Limit+</td>\n",
       "                <td title=\"Is the parameter fixed in the fit\">FIXED</td>\n",
       "            </tr>\n",
       "        \n",
       "            <tr>\n",
       "                <td>1</td>\n",
       "                <td>amplitude</td>\n",
       "                <td>nan</td>\n",
       "                <td>nan</td>\n",
       "                <td>0</td>\n",
       "                <td>0</td>\n",
       "                <td></td>\n",
       "                <td></td>\n",
       "                <td></td>\n",
       "            </tr>\n",
       "            \n",
       "            <tr>\n",
       "                <td>2</td>\n",
       "                <td>index</td>\n",
       "                <td>nan</td>\n",
       "                <td>nan</td>\n",
       "                <td>0</td>\n",
       "                <td>0</td>\n",
       "                <td></td>\n",
       "                <td></td>\n",
       "                <td></td>\n",
       "            </tr>\n",
       "            \n",
       "            </table>\n",
       "        \n",
       "            <pre id=\"AkPzciysum\" style=\"display:none;\">\n",
       "            <textarea rows=\"10\" cols=\"50\" onclick=\"this.select()\" readonly>\\begin{tabular}{|c|r|r|r|r|r|r|r|c|}\n",
       "\\hline\n",
       " & Name & Value & Para Error & Error+ & Error- & Limit+ & Limit- & FIXED\\\\\n",
       "\\hline\n",
       "1 & amplitude &   nan &   nan &  &  &  &  & \\\\\n",
       "\\hline\n",
       "2 & index &   nan &   nan &  &  &  &  & \\\\\n",
       "\\hline\n",
       "\\end{tabular}</textarea>\n",
       "            </pre>\n",
       "            "
      ]
     },
     "metadata": {},
     "output_type": "display_data"
    },
    {
     "data": {
      "text/html": [
       "<hr>"
      ]
     },
     "metadata": {},
     "output_type": "display_data"
    },
    {
     "name": "stdout",
     "output_type": "stream",
     "text": [
      "^ Optimized parameters for best-fit model\n"
     ]
    }
   ],
   "source": [
    "from iminuit import Minuit\n",
    "\n",
    "pars = dict(amplitude=2.872970958356369e-13,  #3FGL amplitude value\n",
    "            index=1.8643473386764526          #3FGL index value\n",
    "            )\n",
    "\n",
    "minuit = Minuit(chi2, **pars)\n",
    "\n",
    "minuit.print_initial_param()\n",
    "print(\"^ Initial parameters\")\n",
    "\n",
    "minuit.migrad() # Performs the minimization\n",
    "print(\"^ Optimized parameters for best-fit model\")"
   ]
  },
  {
   "cell_type": "code",
   "execution_count": null,
   "metadata": {
    "collapsed": true
   },
   "outputs": [],
   "source": []
  }
 ],
 "metadata": {
  "anaconda-cloud": {},
  "kernelspec": {
   "display_name": "Python [default]",
   "language": "python",
   "name": "python3"
  },
  "language_info": {
   "codemirror_mode": {
    "name": "ipython",
    "version": 3
   },
   "file_extension": ".py",
   "mimetype": "text/x-python",
   "name": "python",
   "nbconvert_exporter": "python",
   "pygments_lexer": "ipython3",
   "version": "3.5.1"
  }
 },
 "nbformat": 4,
 "nbformat_minor": 2
}
