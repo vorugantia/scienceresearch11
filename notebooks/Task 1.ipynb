{
 "cells": [
  {
   "cell_type": "markdown",
   "metadata": {},
   "source": [
    "# Task 1\n",
    "\n",
    "Christoph's task:\n",
    "\n",
    "* Load 2FHL data\n",
    "* Make a source counts image - fill events into a sky image, show the \"cluster\" of sources\n",
    "* Make an energy distribution curve"
   ]
  },
  {
   "cell_type": "markdown",
   "metadata": {},
   "source": [
    "## Setup"
   ]
  },
  {
   "cell_type": "code",
   "execution_count": 37,
   "metadata": {
    "collapsed": false
   },
   "outputs": [],
   "source": [
    "# import warnings\n",
    "# warnings.filterwarnings(\"ignore\", category=UserWarning, module='astropy')\n",
    "\n",
    "%matplotlib inline\n",
    "import numpy as np\n",
    "# import pandas as pd\n",
    "import matplotlib.pyplot as plt\n",
    "# plt.style.use('ggplot')\n",
    "\n",
    "from astropy.table import Table\n",
    "from gammapy.image import SkyImage\n",
    "from gammapy.catalog import source_catalogs"
   ]
  },
  {
   "cell_type": "markdown",
   "metadata": {},
   "source": [
    "## Load data\n",
    "\n",
    "I'm loading the 2FHL event list."
   ]
  },
  {
   "cell_type": "code",
   "execution_count": 43,
   "metadata": {
    "collapsed": false
   },
   "outputs": [
    {
     "data": {
      "text/html": [
       "&lt;Table length=5&gt;\n",
       "<table id=\"table2547878516048\" class=\"table-striped table-bordered table-condensed\">\n",
       "<thead><tr><th>ENERGY</th><th>RA</th><th>DEC</th><th>L</th><th>B</th><th>THETA</th><th>PHI</th><th>ZENITH_ANGLE</th><th>EARTH_AZIMUTH_ANGLE</th><th>TIME</th><th>EVENT_ID</th><th>RUN_ID</th><th>RECON_VERSION</th><th>CALIB_VERSION [3]</th><th>EVENT_CLASS [32]</th><th>EVENT_TYPE [32]</th><th>CONVERSION_TYPE</th><th>LIVETIME</th><th>DIFRSP0</th><th>DIFRSP1</th><th>DIFRSP2</th><th>DIFRSP3</th><th>DIFRSP4</th></tr></thead>\n",
       "<thead><tr><th>MeV</th><th>deg</th><th>deg</th><th>deg</th><th>deg</th><th>deg</th><th>deg</th><th>deg</th><th>deg</th><th>s</th><th></th><th></th><th></th><th></th><th></th><th></th><th></th><th>s</th><th></th><th></th><th></th><th></th><th></th></tr></thead>\n",
       "<thead><tr><th>float32</th><th>float32</th><th>float32</th><th>float32</th><th>float32</th><th>float32</th><th>float32</th><th>float32</th><th>float32</th><th>float64</th><th>int32</th><th>int32</th><th>int16</th><th>int16</th><th>bool</th><th>bool</th><th>int16</th><th>float64</th><th>float32</th><th>float32</th><th>float32</th><th>float32</th><th>float32</th></tr></thead>\n",
       "<tr><td>145927.0</td><td>291.662</td><td>42.2341</td><td>74.5437</td><td>11.8678</td><td>38.0455</td><td>83.5358</td><td>55.6387</td><td>314.034</td><td>239561457.866</td><td>4851437</td><td>239559565</td><td>0</td><td>0 .. 0</td><td>False .. True</td><td>False .. True</td><td>0</td><td>275.698088974</td><td>2.69657e-11</td><td>3238.25</td><td>0.0</td><td>0.0</td><td>0.0</td></tr>\n",
       "<tr><td>221273.0</td><td>46.9858</td><td>-40.6389</td><td>247.489</td><td>-58.8739</td><td>34.1051</td><td>224.209</td><td>68.2524</td><td>198.319</td><td>239562739.085</td><td>7521432</td><td>239559565</td><td>0</td><td>0 .. 0</td><td>False .. True</td><td>False .. True</td><td>0</td><td>64.7974931598</td><td>1.53573e-12</td><td>2774.2</td><td>0.0</td><td>0.0</td><td>0.0</td></tr>\n",
       "<tr><td>57709.2</td><td>121.841</td><td>49.2288</td><td>169.868</td><td>32.3017</td><td>71.5636</td><td>34.2925</td><td>36.7173</td><td>25.5439</td><td>239563180.302</td><td>8690693</td><td>239559565</td><td>0</td><td>0 .. 0</td><td>False .. True</td><td>False .. True</td><td>0</td><td>30.57218647</td><td>8.11096e-12</td><td>253.221</td><td>0.0</td><td>0.0</td><td>0.0</td></tr>\n",
       "<tr><td>221224.0</td><td>83.5626</td><td>-4.21744</td><td>207.783</td><td>-19.0771</td><td>20.5089</td><td>92.1605</td><td>32.3033</td><td>239.141</td><td>239563382.213</td><td>9208424</td><td>239559565</td><td>0</td><td>0 .. 0</td><td>False .. True</td><td>False .. True</td><td>0</td><td>27.4125095904</td><td>1.66075e-11</td><td>2980.12</td><td>0.0</td><td>0.0</td><td>0.0</td></tr>\n",
       "<tr><td>698997.0</td><td>320.895</td><td>-1.32789</td><td>51.2218</td><td>-33.9718</td><td>35.3621</td><td>158.741</td><td>12.0867</td><td>72.2029</td><td>239566572.951</td><td>2480483</td><td>239565645</td><td>0</td><td>0 .. 0</td><td>False .. True</td><td>False .. True</td><td>0</td><td>106.475481123</td><td>2.26543e-13</td><td>2706.14</td><td>0.0</td><td>0.0</td><td>0.0</td></tr>\n",
       "</table>"
      ],
      "text/plain": [
       "<Table length=5>\n",
       " ENERGY     RA     DEC       L       B     ... DIFRSP1 DIFRSP2 DIFRSP3 DIFRSP4\n",
       "  MeV      deg     deg      deg     deg    ...                                \n",
       "float32  float32 float32  float32 float32  ... float32 float32 float32 float32\n",
       "-------- ------- -------- ------- -------- ... ------- ------- ------- -------\n",
       "145927.0 291.662  42.2341 74.5437  11.8678 ... 3238.25     0.0     0.0     0.0\n",
       "221273.0 46.9858 -40.6389 247.489 -58.8739 ...  2774.2     0.0     0.0     0.0\n",
       " 57709.2 121.841  49.2288 169.868  32.3017 ... 253.221     0.0     0.0     0.0\n",
       "221224.0 83.5626 -4.21744 207.783 -19.0771 ... 2980.12     0.0     0.0     0.0\n",
       "698997.0 320.895 -1.32789 51.2218 -33.9718 ... 2706.14     0.0     0.0     0.0"
      ]
     },
     "execution_count": 43,
     "metadata": {},
     "output_type": "execute_result"
    }
   ],
   "source": [
    "table = Table.read('../datasets/2fhl/2fhl_events.fits.gz')\n",
    "\n",
    "# table[:5].show_in_browser(jsviewer=True) # <-- show table in browser tab\n",
    "table[:5]                                  # <-- show table in notebook"
   ]
  },
  {
   "cell_type": "code",
   "execution_count": 52,
   "metadata": {
    "collapsed": false
   },
   "outputs": [
    {
     "name": "stdout",
     "output_type": "stream",
     "text": [
      "<Table length=60978>\r\n",
      "        name             mean           std            min           max     \r\n",
      "------------------- -------------- -------------- ------------- -------------\r\n",
      "             ENERGY       132805.0       166230.0       50000.2   1.99848e+06\r\n",
      "                 RA        205.643        95.3355    0.00973502       359.994\r\n",
      "                DEC       -4.83771        41.0807      -88.6767       89.3993\r\n",
      "                  L        179.567        119.668    0.00330579       359.998\r\n",
      "                  B        1.21523        27.4603      -89.7519        89.498\r\n",
      "              THETA        40.1624        16.7082      0.109743       82.1941\r\n",
      "                PHI        178.625        104.362    0.00225764       359.996\r\n",
      "       ZENITH_ANGLE        56.4762        24.7502      0.286511       104.997\r\n",
      "EARTH_AZIMUTH_ANGLE        178.775        98.4542    0.00501673       359.997\r\n",
      "               TIME  341465163.041  61063749.8695 239561457.866 444433764.433\r\n",
      "           EVENT_ID  5763331.11188  3700135.00279          2828      17289883\r\n",
      "             RUN_ID  341462655.436  61063738.3319     239559565     444430599\r\n",
      "      RECON_VERSION            0.0            0.0             0             0\r\n",
      "      CALIB_VERSION            0.0            0.0             0             0\r\n",
      "        EVENT_CLASS 0.374681237495 0.484040502194         False          True\r\n",
      "         EVENT_TYPE        0.09375 0.291480595409         False          True\r\n",
      "    CONVERSION_TYPE 0.401833448129 0.490268628503             0             1\r\n",
      "           LIVETIME  110.901222864  74.9240232765           0.0 1096.94852352\r\n",
      "            DIFRSP0    1.70431e-09    4.49608e-09   2.31782e-16   1.00518e-07\r\n",
      "            DIFRSP1        2787.49        910.994       0.36657       4491.37\r\n",
      "            DIFRSP2            0.0            0.0           0.0           0.0\r\n",
      "            DIFRSP3            0.0            0.0           0.0           0.0\r\n",
      "            DIFRSP4            0.0            0.0           0.0           0.0\r\n"
     ]
    },
    {
     "name": "stderr",
     "output_type": "stream",
     "text": [
      "C:\\Users\\arjun_000\\Anaconda3\\lib\\site-packages\\astropy\\table\\column.py:263: FutureWarning: elementwise comparison failed; returning scalar instead, but in the future will perform elementwise comparison\n",
      "  return self.data.__eq__(other)\n"
     ]
    }
   ],
   "source": [
    "table.info('stats')           # <--  Table column info"
   ]
  },
  {
   "cell_type": "code",
   "execution_count": 53,
   "metadata": {
    "collapsed": false
   },
   "outputs": [],
   "source": [
    "cat = source_catalogs['2fhl']"
   ]
  },
  {
   "cell_type": "code",
   "execution_count": null,
   "metadata": {
    "collapsed": true
   },
   "outputs": [],
   "source": []
  }
 ],
 "metadata": {
  "kernelspec": {
   "display_name": "Python 3",
   "language": "python",
   "name": "python3"
  },
  "language_info": {
   "codemirror_mode": {
    "name": "ipython",
    "version": 3
   },
   "file_extension": ".py",
   "mimetype": "text/x-python",
   "name": "python",
   "nbconvert_exporter": "python",
   "pygments_lexer": "ipython3",
   "version": "3.5.1"
  }
 },
 "nbformat": 4,
 "nbformat_minor": 0
}
