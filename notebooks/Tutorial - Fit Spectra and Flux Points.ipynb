{
 "cells": [
  {
   "cell_type": "markdown",
   "metadata": {},
   "source": [
    "## Fitting the HESS Crab spectrum wih iminuit and emcee\n",
    "\n",
    "So far I've just copied code over from [this tutorial](https://github.com/gammapy/PyGamma15/blob/gh-pages/tutorials/analysis-stats/spectrum_chi2.ipynb) just to make sure I can reproduce the same plot. I'll use the same dataset ([this paper from 2006](http://adsabs.harvard.edu/abs/2006A%26A...457..899A)) for now.\n",
    "\n",
    "Next steps:\n",
    "\n",
    "* Implement model fitting tools and do analysis with them. This is where I can play around with the tools and learn them.\n",
    "\n",
    "* Try doing the same analysis with my own data (e.g. latest HESS surveys) "
   ]
  },
  {
   "cell_type": "markdown",
   "metadata": {},
   "source": [
    "### Imports "
   ]
  },
  {
   "cell_type": "code",
   "execution_count": 26,
   "metadata": {
    "collapsed": true
   },
   "outputs": [],
   "source": [
    "import warnings\n",
    "warnings.filterwarnings(\"ignore\", category=FutureWarning, module='pandas')\n",
    "\n",
    "%matplotlib inline\n",
    "import numpy as np\n",
    "import pandas as pd\n",
    "import matplotlib.pyplot as plt\n",
    "plt.style.use('ggplot')"
   ]
  },
  {
   "cell_type": "markdown",
   "metadata": {},
   "source": [
    "### Data\n",
    "\n",
    "I'm loading in data from a .txt file. THe data comes from that paper mentioned above."
   ]
  },
  {
   "cell_type": "code",
   "execution_count": 27,
   "metadata": {
    "collapsed": false,
    "scrolled": true
   },
   "outputs": [
    {
     "data": {
      "text/html": [
       "<div>\n",
       "<table border=\"1\" class=\"dataframe\">\n",
       "  <thead>\n",
       "    <tr style=\"text-align: right;\">\n",
       "      <th></th>\n",
       "      <th>energy</th>\n",
       "      <th>flux</th>\n",
       "      <th>flux_err</th>\n",
       "    </tr>\n",
       "  </thead>\n",
       "  <tbody>\n",
       "    <tr>\n",
       "      <th>0</th>\n",
       "      <td>0.519</td>\n",
       "      <td>1.810000e-10</td>\n",
       "      <td>6.000000e-12</td>\n",
       "    </tr>\n",
       "    <tr>\n",
       "      <th>1</th>\n",
       "      <td>0.729</td>\n",
       "      <td>7.270000e-11</td>\n",
       "      <td>2.000000e-12</td>\n",
       "    </tr>\n",
       "    <tr>\n",
       "      <th>2</th>\n",
       "      <td>1.060</td>\n",
       "      <td>3.120000e-11</td>\n",
       "      <td>9.000000e-13</td>\n",
       "    </tr>\n",
       "    <tr>\n",
       "      <th>3</th>\n",
       "      <td>1.550</td>\n",
       "      <td>1.220000e-11</td>\n",
       "      <td>4.000000e-13</td>\n",
       "    </tr>\n",
       "    <tr>\n",
       "      <th>4</th>\n",
       "      <td>2.260</td>\n",
       "      <td>4.600000e-12</td>\n",
       "      <td>1.800000e-13</td>\n",
       "    </tr>\n",
       "    <tr>\n",
       "      <th>5</th>\n",
       "      <td>3.300</td>\n",
       "      <td>1.530000e-12</td>\n",
       "      <td>8.000000e-14</td>\n",
       "    </tr>\n",
       "    <tr>\n",
       "      <th>6</th>\n",
       "      <td>4.890</td>\n",
       "      <td>6.350000e-13</td>\n",
       "      <td>3.900000e-14</td>\n",
       "    </tr>\n",
       "    <tr>\n",
       "      <th>7</th>\n",
       "      <td>7.180</td>\n",
       "      <td>2.270000e-13</td>\n",
       "      <td>1.800000e-14</td>\n",
       "    </tr>\n",
       "    <tr>\n",
       "      <th>8</th>\n",
       "      <td>10.400</td>\n",
       "      <td>6.490000e-14</td>\n",
       "      <td>7.700000e-15</td>\n",
       "    </tr>\n",
       "    <tr>\n",
       "      <th>9</th>\n",
       "      <td>14.800</td>\n",
       "      <td>1.750000e-14</td>\n",
       "      <td>3.300000e-15</td>\n",
       "    </tr>\n",
       "    <tr>\n",
       "      <th>10</th>\n",
       "      <td>20.900</td>\n",
       "      <td>7.260000e-15</td>\n",
       "      <td>1.700000e-15</td>\n",
       "    </tr>\n",
       "    <tr>\n",
       "      <th>11</th>\n",
       "      <td>30.500</td>\n",
       "      <td>9.580000e-16</td>\n",
       "      <td>5.600000e-16</td>\n",
       "    </tr>\n",
       "  </tbody>\n",
       "</table>\n",
       "</div>"
      ],
      "text/plain": [
       "    energy          flux      flux_err\n",
       "0    0.519  1.810000e-10  6.000000e-12\n",
       "1    0.729  7.270000e-11  2.000000e-12\n",
       "2    1.060  3.120000e-11  9.000000e-13\n",
       "3    1.550  1.220000e-11  4.000000e-13\n",
       "4    2.260  4.600000e-12  1.800000e-13\n",
       "5    3.300  1.530000e-12  8.000000e-14\n",
       "6    4.890  6.350000e-13  3.900000e-14\n",
       "7    7.180  2.270000e-13  1.800000e-14\n",
       "8   10.400  6.490000e-14  7.700000e-15\n",
       "9   14.800  1.750000e-14  3.300000e-15\n",
       "10  20.900  7.260000e-15  1.700000e-15\n",
       "11  30.500  9.580000e-16  5.600000e-16"
      ]
     },
     "execution_count": 27,
     "metadata": {},
     "output_type": "execute_result"
    }
   ],
   "source": [
    "data = pd.read_table(\n",
    "    '../datasets/spectrum_crab_hess_2006/spectrum_crab_hess_2006.txt',\n",
    "    comment='#', \n",
    "    sep='\\s*',\n",
    "    engine='python'\n",
    ")\n",
    "\n",
    "data"
   ]
  },
  {
   "cell_type": "markdown",
   "metadata": {},
   "source": [
    "### The Model\n",
    "\n",
    "In the paper, they fit a power-law with an exponential cutoff and find the following parameters (see row \"all\" in the paper's Table 6):\n",
    "\n",
    "\n",
    "* gamma = 2.39 +- 0.03\n",
    "* energy_cut = 14.3 +- 2.1 TeV\n",
    "* flux1 = (3.76 +- 0.07) x 1e-11 cm^-2 s^-1 TeV^-1\n",
    "\n",
    "\n",
    "The flux1 is the differential flux at 1 TeV."
   ]
  },
  {
   "cell_type": "code",
   "execution_count": 28,
   "metadata": {
    "collapsed": true
   },
   "outputs": [],
   "source": [
    "def flux_epcl(energy, flux1, gamma, energy_cut):\n",
    "    return flux1 * energy ** (-gamma) * np.exp(-energy / energy_cut)"
   ]
  },
  {
   "cell_type": "markdown",
   "metadata": {
    "collapsed": true
   },
   "source": [
    "### Plot\n",
    "\n",
    "The curve looks almost identical to the one in their paper (Figure 18b)."
   ]
  },
  {
   "cell_type": "code",
   "execution_count": 32,
   "metadata": {
    "collapsed": false
   },
   "outputs": [
    {
     "data": {
      "image/png": "[encoded data removed]",
      "text/plain": [
       "<matplotlib.figure.Figure at 0x169ede5ba20>"
      ]
     },
     "metadata": {},
     "output_type": "display_data"
    }
   ],
   "source": [
    "energy = np.logspace(-0.5, 1.6, 100)\n",
    "flux = flux_epcl(energy, flux1=3.76e-11, gamma=2.39, energy_cut=14.3)\n",
    "\n",
    "plt.plot(energy, flux)\n",
    "plt.errorbar(x=data['energy'],\n",
    "             y=data['flux'],\n",
    "            yerr=data['flux_err'],\n",
    "            fmt='.'\n",
    "            )\n",
    "plt.loglog();"
   ]
  }
 ],
 "metadata": {
  "kernelspec": {
   "display_name": "Python 3",
   "language": "python",
   "name": "python3"
  },
  "language_info": {
   "codemirror_mode": {
    "name": "ipython",
    "version": 3
   },
   "file_extension": ".py",
   "mimetype": "text/x-python",
   "name": "python",
   "nbconvert_exporter": "python",
   "pygments_lexer": "ipython3",
   "version": "3.5.1"
  }
 },
 "nbformat": 4,
 "nbformat_minor": 0
}
