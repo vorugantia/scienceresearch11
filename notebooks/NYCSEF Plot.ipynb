{
 "cells": [
  {
   "cell_type": "code",
   "execution_count": 3,
   "metadata": {
    "collapsed": true,
    "deletable": true,
    "editable": true
   },
   "outputs": [],
   "source": [
    "%matplotlib inline\n",
    "import numpy as np\n",
    "import pandas as pd\n",
    "import matplotlib.pyplot as plt\n",
    "plt.style.use('ggplot')\n",
    "from pprint import pprint\n",
    "import astropy.units as u\n",
    "from astropy.units import Quantity"
   ]
  },
  {
   "cell_type": "code",
   "execution_count": 5,
   "metadata": {
    "collapsed": false,
    "deletable": true,
    "editable": true
   },
   "outputs": [],
   "source": [
    "from gammapy.catalog import SourceCatalog3FGL, SourceCatalogObject3FGL\n",
    "\n",
    "cat = SourceCatalog3FGL()\n",
    "\n",
    "source = cat['Crab']\n",
    "data = source.flux_points.table\n",
    "\n",
    "# Flux units\n",
    "data['dnde'] = data['dnde'].to('cm-2 s-1 MeV-1')\n",
    "\n",
    "# Create flux error\n",
    "dnde_err = data['dnde'] * (data['flux_errn'] / data['flux'])\n",
    "data['dnde_err'] = dnde_err.to(data['dnde'].unit)"
   ]
  },
  {
   "cell_type": "code",
   "execution_count": 13,
   "metadata": {
    "collapsed": false,
    "deletable": true,
    "editable": true
   },
   "outputs": [
    {
     "data": {
      "text/plain": [
       "<matplotlib.legend.Legend at 0x244cee024a8>"
      ]
     },
     "execution_count": 13,
     "metadata": {},
     "output_type": "execute_result"
    },
    {
     "data": {
      "image/png": "[encoded data removed]",
      "text/plain": [
       "<matplotlib.figure.Figure at 0x244cddcb5f8>"
      ]
     },
     "metadata": {},
     "output_type": "display_data"
    }
   ],
   "source": [
    "# Defining units\n",
    "opts = dict(energy_unit='MeV', flux_unit='cm-2 s-1 MeV-1')\n",
    "\n",
    "source.spectral_model.plot(source.energy_range, **opts)\n",
    "# Spectral model used (PL, ECPL) based on the source's SpectrumType parameter\n",
    "\n",
    "p = source.spectral_model.parameters\n",
    "\n",
    "# Plot reference point\n",
    "plt.plot(p['reference'].value, p['amplitude'].value, '*')\n",
    "\n",
    "# Plot all data from source's FluxPoints\n",
    "plt.errorbar(x=data['e_ref'],\n",
    "             y = data['dnde'],\n",
    "             yerr = data['dnde_err'],\n",
    "             fmt='.'\n",
    "            )\n",
    "\n",
    "plt.title('SED of Crab Nebula with ECPL model')\n",
    "\n",
    "plt.legend(['original', 'reference', 'flux points'])\n",
    "\n",
    "# plt.savefig('sed_original.png')"
   ]
  },
  {
   "cell_type": "code",
   "execution_count": 14,
   "metadata": {
    "collapsed": false,
    "deletable": true,
    "editable": true
   },
   "outputs": [
    {
     "name": "stdout",
     "output_type": "stream",
     "text": [
      "ParameterList\n",
      "Parameter(name='index', value=2.045008659362793, unit=Unit(dimensionless), min=0, max=None, frozen=False)\n",
      "Parameter(name='amplitude', value=5.541301861811121e-10, unit=Unit(\"1 / (cm2 MeV s)\"), min=0, max=None, frozen=False)\n",
      "Parameter(name='reference', value=635.5911254882812, unit=Unit(\"MeV\"), min=None, max=None, frozen=0)\n",
      "Parameter(name='ecut', value=8143.04345703125, unit=Unit(\"MeV\"), min=None, max=None, frozen=False)\n",
      "\n",
      "Covariance: \n",
      "[[  1.19075305e-04   0.00000000e+00   0.00000000e+00   0.00000000e+00]\n",
      " [  0.00000000e+00   7.13284136e-24   0.00000000e+00   0.00000000e+00]\n",
      " [  0.00000000e+00   0.00000000e+00   0.00000000e+00   0.00000000e+00]\n",
      " [  0.00000000e+00   0.00000000e+00   0.00000000e+00   1.95372390e+05]]\n"
     ]
    }
   ],
   "source": [
    "print(source.spectral_model.parameters)"
   ]
  },
  {
   "cell_type": "code",
   "execution_count": 15,
   "metadata": {
    "collapsed": true,
    "deletable": true,
    "editable": true
   },
   "outputs": [],
   "source": [
    "# Defining an ECPL model (same as Gammapy's)\n",
    "def dnde_model_ecpl(energy, amplitude, index, energy_cut, reference):\n",
    "    return amplitude * (energy / reference) ** (-index) * np.exp((reference -energy) / energy_cut)"
   ]
  },
  {
   "cell_type": "code",
   "execution_count": 16,
   "metadata": {
    "collapsed": true,
    "deletable": true,
    "editable": true
   },
   "outputs": [],
   "source": [
    "# Defining chi2 function for this source\n",
    "def chi2(amplitude, index, energy_cut):\n",
    "    \n",
    "    dnde_model = dnde_model_ecpl(\n",
    "        energy=data['e_ref'],\n",
    "        amplitude=amplitude,\n",
    "        index=index,\n",
    "        energy_cut=energy_cut,\n",
    "        reference=635.5911254882812 # <-- this is e_ref minus the units\n",
    "    ) \n",
    "\n",
    "    chi = (data['dnde'] - dnde_model) / data['dnde_err']\n",
    "    return np.sum(chi ** 2)"
   ]
  },
  {
   "cell_type": "code",
   "execution_count": 17,
   "metadata": {
    "collapsed": false,
    "deletable": true,
    "editable": true
   },
   "outputs": [
    {
     "name": "stdout",
     "output_type": "stream",
     "text": [
      "\n",
      "\n",
      "Initial parameters:\n",
      "\n"
     ]
    },
    {
     "data": {
      "text/html": [
       "\n",
       "        <table>\n",
       "            <tr>\n",
       "                <td><a href=\"#\" onclick=\"$('#xRafwCIHuH').toggle()\">+</a></td>\n",
       "                <td title=\"Variable name\">Name</td>\n",
       "                <td title=\"Value of parameter\">Value</td>\n",
       "                <td title=\"Parabolic error\">Parab Error</td>\n",
       "                <td title=\"Minos lower error\">Minos Error-</td>\n",
       "                <td title=\"Minos upper error\">Minos Error+</td>\n",
       "                <td title=\"Lower limit of the parameter\">Limit-</td>\n",
       "                <td title=\"Upper limit of the parameter\">Limit+</td>\n",
       "                <td title=\"Is the parameter fixed in the fit\">FIXED</td>\n",
       "            </tr>\n",
       "        \n",
       "            <tr>\n",
       "                <td>1</td>\n",
       "                <td>amplitude</td>\n",
       "                <td>5.5413e-10</td>\n",
       "                <td>1</td>\n",
       "                <td>0</td>\n",
       "                <td>0</td>\n",
       "                <td></td>\n",
       "                <td></td>\n",
       "                <td></td>\n",
       "            </tr>\n",
       "            \n",
       "            <tr>\n",
       "                <td>2</td>\n",
       "                <td>index</td>\n",
       "                <td>2.04501</td>\n",
       "                <td>1</td>\n",
       "                <td>0</td>\n",
       "                <td>0</td>\n",
       "                <td></td>\n",
       "                <td></td>\n",
       "                <td></td>\n",
       "            </tr>\n",
       "            \n",
       "            <tr>\n",
       "                <td>3</td>\n",
       "                <td>energy_cut</td>\n",
       "                <td>8143.04</td>\n",
       "                <td>1</td>\n",
       "                <td>0</td>\n",
       "                <td>0</td>\n",
       "                <td></td>\n",
       "                <td></td>\n",
       "                <td></td>\n",
       "            </tr>\n",
       "            \n",
       "            </table>\n",
       "        \n",
       "            <pre id=\"xRafwCIHuH\" style=\"display:none;\">\n",
       "            <textarea rows=\"12\" cols=\"50\" onclick=\"this.select()\" readonly>\\begin{tabular}{|c|r|r|r|r|r|r|r|c|}\n",
       "\\hline\n",
       " & Name & Value & Para Error & Error+ & Error- & Limit+ & Limit- & FIXED\\\\\n",
       "\\hline\n",
       "1 & amplitude & 5.541e-10 & 1.000e+00 &  &  &  &  & \\\\\n",
       "\\hline\n",
       "2 & index & 2.045e+00 & 1.000e+00 &  &  &  &  & \\\\\n",
       "\\hline\n",
       "3 & $energy_{cut}$ & 8.143e+03 & 1.000e+00 &  &  &  &  & \\\\\n",
       "\\hline\n",
       "\\end{tabular}</textarea>\n",
       "            </pre>\n",
       "            "
      ]
     },
     "metadata": {},
     "output_type": "display_data"
    },
    {
     "name": "stdout",
     "output_type": "stream",
     "text": [
      "\n",
      "\n",
      "\n",
      "Optimized parameters for best-fit model:\n"
     ]
    },
    {
     "data": {
      "text/html": [
       "<hr>"
      ]
     },
     "metadata": {},
     "output_type": "display_data"
    },
    {
     "data": {
      "text/html": [
       "\n",
       "        <table>\n",
       "            <tr>\n",
       "                <td title=\"Minimum value of function\">FCN = 25.385480802185175</td>\n",
       "                <td title=\"Total number of call to FCN so far\">TOTAL NCALL = 70</td>\n",
       "                <td title=\"Number of call in last migrad\">NCALLS = 70</td>\n",
       "            </tr>\n",
       "            <tr>\n",
       "                <td title=\"Estimated distance to minimum\">EDM = 0.0001270925005578926</td>\n",
       "                <td title=\"Maximum EDM definition of convergence\">GOAL EDM = 1e-05</td>\n",
       "                <td title=\"Error def. Amount of increase in FCN to be defined as 1 standard deviation\">\n",
       "                UP = 1.0</td>\n",
       "            </tr>\n",
       "        </table>\n",
       "        \n",
       "        <table>\n",
       "            <tr>\n",
       "                <td align=\"center\" title=\"Validity of the migrad call\">Valid</td>\n",
       "                <td align=\"center\" title=\"Validity of parameters\">Valid Param</td>\n",
       "                <td align=\"center\" title=\"Is Covariance matrix accurate?\">Accurate Covar</td>\n",
       "                <td align=\"center\" title=\"Positive definiteness of covariance matrix\">PosDef</td>\n",
       "                <td align=\"center\" title=\"Was covariance matrix made posdef by adding diagonal element\">Made PosDef</td>\n",
       "            </tr>\n",
       "            <tr>\n",
       "                <td align=\"center\" style=\"background-color:#92CCA6\">True</td>\n",
       "                <td align=\"center\" style=\"background-color:#92CCA6\">True</td>\n",
       "                <td align=\"center\" style=\"background-color:#92CCA6\">True</td>\n",
       "                <td align=\"center\" style=\"background-color:#92CCA6\">True</td>\n",
       "                <td align=\"center\" style=\"background-color:#92CCA6\">False</td>\n",
       "            </tr>\n",
       "            <tr>\n",
       "                <td align=\"center\" title=\"Was last hesse call fail?\">Hesse Fail</td>\n",
       "                <td align=\"center\" title=\"Validity of covariance\">HasCov</td>\n",
       "                <td align=\"center\" title=\"Is EDM above goal EDM?\">Above EDM</td>\n",
       "                <td align=\"center\"></td>\n",
       "                <td align=\"center\" title=\"Did last migrad call reach max call limit?\">Reach calllim</td>\n",
       "            </tr>\n",
       "            <tr>\n",
       "                <td align=\"center\" style=\"background-color:#92CCA6\">False</td>\n",
       "                <td align=\"center\" style=\"background-color:#92CCA6\">True</td>\n",
       "                <td align=\"center\" style=\"background-color:#92CCA6\">False</td>\n",
       "                <td align=\"center\"></td>\n",
       "                <td align=\"center\" style=\"background-color:#92CCA6\">False</td>\n",
       "            </tr>\n",
       "        </table>\n",
       "        "
      ]
     },
     "metadata": {},
     "output_type": "display_data"
    },
    {
     "data": {
      "text/html": [
       "\n",
       "        <table>\n",
       "            <tr>\n",
       "                <td><a href=\"#\" onclick=\"$('#FpEIwfdpTv').toggle()\">+</a></td>\n",
       "                <td title=\"Variable name\">Name</td>\n",
       "                <td title=\"Value of parameter\">Value</td>\n",
       "                <td title=\"Parabolic error\">Parab Error</td>\n",
       "                <td title=\"Minos lower error\">Minos Error-</td>\n",
       "                <td title=\"Minos upper error\">Minos Error+</td>\n",
       "                <td title=\"Lower limit of the parameter\">Limit-</td>\n",
       "                <td title=\"Upper limit of the parameter\">Limit+</td>\n",
       "                <td title=\"Is the parameter fixed in the fit\">FIXED</td>\n",
       "            </tr>\n",
       "        \n",
       "            <tr>\n",
       "                <td>1</td>\n",
       "                <td>amplitude</td>\n",
       "                <td>5.52348e-10</td>\n",
       "                <td>2.83302e-12</td>\n",
       "                <td>0</td>\n",
       "                <td>0</td>\n",
       "                <td></td>\n",
       "                <td></td>\n",
       "                <td></td>\n",
       "            </tr>\n",
       "            \n",
       "            <tr>\n",
       "                <td>2</td>\n",
       "                <td>index</td>\n",
       "                <td>2.05489</td>\n",
       "                <td>0.00742392</td>\n",
       "                <td>0</td>\n",
       "                <td>0</td>\n",
       "                <td></td>\n",
       "                <td></td>\n",
       "                <td></td>\n",
       "            </tr>\n",
       "            \n",
       "            <tr>\n",
       "                <td>3</td>\n",
       "                <td>energy_cut</td>\n",
       "                <td>11364.8</td>\n",
       "                <td>556.848</td>\n",
       "                <td>0</td>\n",
       "                <td>0</td>\n",
       "                <td></td>\n",
       "                <td></td>\n",
       "                <td></td>\n",
       "            </tr>\n",
       "            \n",
       "            </table>\n",
       "        \n",
       "            <pre id=\"FpEIwfdpTv\" style=\"display:none;\">\n",
       "            <textarea rows=\"12\" cols=\"50\" onclick=\"this.select()\" readonly>\\begin{tabular}{|c|r|r|r|r|r|r|r|c|}\n",
       "\\hline\n",
       " & Name & Value & Para Error & Error+ & Error- & Limit+ & Limit- & FIXED\\\\\n",
       "\\hline\n",
       "1 & amplitude & 5.523e-10 & 2.833e-12 &  &  &  &  & \\\\\n",
       "\\hline\n",
       "2 & index & 2.055e+00 & 7.424e-03 &  &  &  &  & \\\\\n",
       "\\hline\n",
       "3 & $energy_{cut}$ & 1.136e+04 & 5.568e+02 &  &  &  &  & \\\\\n",
       "\\hline\n",
       "\\end{tabular}</textarea>\n",
       "            </pre>\n",
       "            "
      ]
     },
     "metadata": {},
     "output_type": "display_data"
    },
    {
     "data": {
      "text/html": [
       "<hr>"
      ]
     },
     "metadata": {},
     "output_type": "display_data"
    },
    {
     "data": {
      "text/plain": [
       "({'edm': 0.0001270925005578926, 'hesse_failed': False, 'fval': 25.385480802185175, 'has_made_posdef_covar': False, 'up': 1.0, 'is_valid': True, 'has_posdef_covar': True, 'has_valid_parameters': True, 'nfcn': 70, 'is_above_max_edm': False, 'has_covariance': True, 'has_accurate_covar': True, 'has_reached_call_limit': False},\n",
       " [{'name': 'amplitude', 'error': 2.833019554292477e-12, 'value': 5.523476620451121e-10, 'has_lower_limit': False, 'is_fixed': False, 'lower_limit': 0.0, 'has_upper_limit': False, 'upper_limit': 0.0, 'has_limits': False, 'is_const': False, 'number': 0},\n",
       "  {'name': 'index', 'error': 0.0074239164158538965, 'value': 2.054894207237386, 'has_lower_limit': False, 'is_fixed': False, 'lower_limit': 0.0, 'has_upper_limit': False, 'upper_limit': 0.0, 'has_limits': False, 'is_const': False, 'number': 1},\n",
       "  {'name': 'energy_cut', 'error': 556.8476727514419, 'value': 11364.796854643992, 'has_lower_limit': False, 'is_fixed': False, 'lower_limit': 0.0, 'has_upper_limit': False, 'upper_limit': 0.0, 'has_limits': False, 'is_const': False, 'number': 2}])"
      ]
     },
     "execution_count": 17,
     "metadata": {},
     "output_type": "execute_result"
    }
   ],
   "source": [
    "from iminuit import Minuit\n",
    "import warnings\n",
    "warnings.filterwarnings(\"ignore\")\n",
    "\n",
    "pars = dict(amplitude=5.541301861811121e-10, #amp value\n",
    "            index=2.045008659362793,         #idx value\n",
    "            energy_cut=8143.04345703125\n",
    "            )\n",
    "\n",
    "minuit = Minuit(chi2, **pars)\n",
    "\n",
    "print(\"\\n\\nInitial parameters:\\n\")\n",
    "minuit.print_initial_param()\n",
    "\n",
    "print(\"\\n\\n\\nOptimized parameters for best-fit model:\")\n",
    "minuit.migrad() # Performs the minimization"
   ]
  },
  {
   "cell_type": "code",
   "execution_count": 18,
   "metadata": {
    "collapsed": false,
    "deletable": true,
    "editable": true,
    "scrolled": false
   },
   "outputs": [
    {
     "name": "stdout",
     "output_type": "stream",
     "text": [
      "{'amplitude': 5.523476620451121e-10,\n",
      " 'energy_cut': 11364.796854643992,\n",
      " 'index': 2.054894207237386}\n",
      "{'amplitude': 2.833019554292477e-12,\n",
      " 'energy_cut': 556.8476727514419,\n",
      " 'index': 0.0074239164158538965}\n"
     ]
    }
   ],
   "source": [
    "pprint(minuit.values)\n",
    "pprint(minuit.errors)"
   ]
  },
  {
   "cell_type": "code",
   "execution_count": 19,
   "metadata": {
    "collapsed": false,
    "deletable": true,
    "editable": true
   },
   "outputs": [
    {
     "data": {
      "text/plain": [
       "<matplotlib.legend.Legend at 0x244ceec9fd0>"
      ]
     },
     "execution_count": 19,
     "metadata": {},
     "output_type": "execute_result"
    },
    {
     "data": {
      "image/png": "[encoded data removed]",
      "text/plain": [
       "<matplotlib.figure.Figure at 0x244cee95dd8>"
      ]
     },
     "metadata": {},
     "output_type": "display_data"
    }
   ],
   "source": [
    "source.spectral_model.plot(source.energy_range, **opts)\n",
    "\n",
    "plt.errorbar(x=data['e_ref'],\n",
    "             y = data['dnde'],\n",
    "             yerr = data['dnde_err'],\n",
    "             fmt='.'\n",
    "            )\n",
    "\n",
    "\n",
    "from gammapy.utils.energy import Energy\n",
    "energy = Energy.equal_log_spacing(\n",
    "    emin=source.energy_range[0],\n",
    "    emax=source.energy_range[1],\n",
    "    nbins=100,\n",
    ")\n",
    "\n",
    "\n",
    "flux = source.spectral_model.evaluate(\n",
    "    energy=energy.to('MeV').value,\n",
    "    amplitude = minuit.values['amplitude'],\n",
    "    index = minuit.values['index'],\n",
    "    ecut = minuit.values['energy_cut'],\n",
    "    reference=p['reference'].value,\n",
    ")\n",
    "plt.plot(energy, flux)\n",
    "\n",
    "plt.title('SED of Crab Nebula with best-fit ECPL model')\n",
    "\n",
    "plt.legend(['original', 'fitted', 'flux points'])\n",
    "\n",
    "# plt.savefig('SED_fitted.png')"
   ]
  },
  {
   "cell_type": "code",
   "execution_count": null,
   "metadata": {
    "collapsed": false,
    "deletable": true,
    "editable": true
   },
   "outputs": [],
   "source": []
  },
  {
   "cell_type": "code",
   "execution_count": null,
   "metadata": {
    "collapsed": true,
    "deletable": true,
    "editable": true
   },
   "outputs": [],
   "source": []
  }
 ],
 "metadata": {
  "kernelspec": {
   "display_name": "Python 3",
   "language": "python",
   "name": "python3"
  },
  "language_info": {
   "codemirror_mode": {
    "name": "ipython",
    "version": 3
   },
   "file_extension": ".py",
   "mimetype": "text/x-python",
   "name": "python",
   "nbconvert_exporter": "python",
   "pygments_lexer": "ipython3",
   "version": "3.5.1"
  }
 },
 "nbformat": 4,
 "nbformat_minor": 2
}
